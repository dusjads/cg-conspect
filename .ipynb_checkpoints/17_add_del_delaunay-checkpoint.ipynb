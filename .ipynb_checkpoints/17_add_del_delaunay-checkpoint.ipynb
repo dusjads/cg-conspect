{
 "cells": [
  {
   "cell_type": "markdown",
   "metadata": {
    "slideshow": {
     "slide_type": "slide"
    }
   },
   "source": [
    "# Триангуляция Делоне. Динамический алгоритм: удаление и вставка"
   ]
  },
  {
   "cell_type": "markdown",
   "metadata": {
    "slideshow": {
     "slide_type": "slide"
    }
   },
   "source": [
    "## Содержание\n",
    "\n",
    "- [Задача](#prob)\n",
    "- [Базовые определения](#def)\n",
    "- [Визуализация](#visual)\n",
    "- [Дополнительные определения](#adddef)\n",
    "- [Алгоритм вставки](#insert)\n",
    "- [Алгоритм удаления](#remove)\n",
    "- [Время работы](#time)"
   ]
  },
  {
   "cell_type": "markdown",
   "metadata": {
    "slideshow": {
     "slide_type": "slide"
    }
   },
   "source": [
    "## Задача <a id=\"prob\"></a>\n",
    "\n",
    "Для данной триангуляции Делоне множества точек необходимо научиться выполнять **вставку** некоторой точки в триангуляцию и **удаление** некоторой точки."
   ]
  },
  {
   "cell_type": "markdown",
   "metadata": {
    "slideshow": {
     "slide_type": "fragment"
    }
   },
   "source": [
    "## Базовые определения <a id=\"def\"></a>\n",
    "\n",
    "**Подразбиение Делоне множества точек** — такое разбиение выпуклой оболочки множества точек на множество выпуклых фигур, что в окружности, описанной вокруг любой из фигур, не находится никаких точек из множества.\n",
    "\n",
    "**Триангуляция Делоне множества точек** — триангуляция, являющаяся подразбиением Делоне.\n"
   ]
  },
  {
   "cell_type": "markdown",
   "metadata": {
    "slideshow": {
     "slide_type": "skip"
    }
   },
   "source": [
    "***Примечание:*** *для понимания дальнейшего материала необходимо сначала ознакомиться с базовой теорией о триангуляции Делоне, однородных координатах, а также со структурой данных DCEL.*(и тут ссылки на ноутбуки)"
   ]
  },
  {
   "cell_type": "markdown",
   "metadata": {
    "slideshow": {
     "slide_type": "skip"
    }
   },
   "source": [
    "## Визуализация <a id=\"visual\"></a>\n",
    "Блок ниже запускает визуализацию удаления и вставки точки в триангуляцию.<br> \n",
    "Клик по точке в триангуляции удаляет эту точку.<br>\n",
    "Клик в любом месте кроме точек из триангуляции добавляет точку места клика в триангуляцию.<br>\n",
    "Измененная точка отображается желтым цветом."
   ]
  },
  {
   "cell_type": "code",
   "execution_count": 2,
   "metadata": {
    "slideshow": {
     "slide_type": "slide"
    }
   },
   "outputs": [
    {
     "data": {
      "application/javascript": [
       "/* Put everything inside the global mpl namespace */\n",
       "window.mpl = {};\n",
       "\n",
       "mpl.get_websocket_type = function() {\n",
       "    if (typeof(WebSocket) !== 'undefined') {\n",
       "        return WebSocket;\n",
       "    } else if (typeof(MozWebSocket) !== 'undefined') {\n",
       "        return MozWebSocket;\n",
       "    } else {\n",
       "        alert('Your browser does not have WebSocket support.' +\n",
       "              'Please try Chrome, Safari or Firefox ≥ 6. ' +\n",
       "              'Firefox 4 and 5 are also supported but you ' +\n",
       "              'have to enable WebSockets in about:config.');\n",
       "    };\n",
       "}\n",
       "\n",
       "mpl.figure = function(figure_id, websocket, ondownload, parent_element) {\n",
       "    this.id = figure_id;\n",
       "\n",
       "    this.ws = websocket;\n",
       "\n",
       "    this.supports_binary = (this.ws.binaryType != undefined);\n",
       "\n",
       "    if (!this.supports_binary) {\n",
       "        var warnings = document.getElementById(\"mpl-warnings\");\n",
       "        if (warnings) {\n",
       "            warnings.style.display = 'block';\n",
       "            warnings.textContent = (\n",
       "                \"This browser does not support binary websocket messages. \" +\n",
       "                    \"Performance may be slow.\");\n",
       "        }\n",
       "    }\n",
       "\n",
       "    this.imageObj = new Image();\n",
       "\n",
       "    this.context = undefined;\n",
       "    this.message = undefined;\n",
       "    this.canvas = undefined;\n",
       "    this.rubberband_canvas = undefined;\n",
       "    this.rubberband_context = undefined;\n",
       "    this.format_dropdown = undefined;\n",
       "\n",
       "    this.image_mode = 'full';\n",
       "\n",
       "    this.root = $('<div/>');\n",
       "    this._root_extra_style(this.root)\n",
       "    this.root.attr('style', 'display: inline-block');\n",
       "\n",
       "    $(parent_element).append(this.root);\n",
       "\n",
       "    this._init_header(this);\n",
       "    this._init_canvas(this);\n",
       "    this._init_toolbar(this);\n",
       "\n",
       "    var fig = this;\n",
       "\n",
       "    this.waiting = false;\n",
       "\n",
       "    this.ws.onopen =  function () {\n",
       "            fig.send_message(\"supports_binary\", {value: fig.supports_binary});\n",
       "            fig.send_message(\"send_image_mode\", {});\n",
       "            fig.send_message(\"refresh\", {});\n",
       "        }\n",
       "\n",
       "    this.imageObj.onload = function() {\n",
       "            if (fig.image_mode == 'full') {\n",
       "                // Full images could contain transparency (where diff images\n",
       "                // almost always do), so we need to clear the canvas so that\n",
       "                // there is no ghosting.\n",
       "                fig.context.clearRect(0, 0, fig.canvas.width, fig.canvas.height);\n",
       "            }\n",
       "            fig.context.drawImage(fig.imageObj, 0, 0);\n",
       "        };\n",
       "\n",
       "    this.imageObj.onunload = function() {\n",
       "        this.ws.close();\n",
       "    }\n",
       "\n",
       "    this.ws.onmessage = this._make_on_message_function(this);\n",
       "\n",
       "    this.ondownload = ondownload;\n",
       "}\n",
       "\n",
       "mpl.figure.prototype._init_header = function() {\n",
       "    var titlebar = $(\n",
       "        '<div class=\"ui-dialog-titlebar ui-widget-header ui-corner-all ' +\n",
       "        'ui-helper-clearfix\"/>');\n",
       "    var titletext = $(\n",
       "        '<div class=\"ui-dialog-title\" style=\"width: 100%; ' +\n",
       "        'text-align: center; padding: 3px;\"/>');\n",
       "    titlebar.append(titletext)\n",
       "    this.root.append(titlebar);\n",
       "    this.header = titletext[0];\n",
       "}\n",
       "\n",
       "\n",
       "\n",
       "mpl.figure.prototype._canvas_extra_style = function(canvas_div) {\n",
       "\n",
       "}\n",
       "\n",
       "\n",
       "mpl.figure.prototype._root_extra_style = function(canvas_div) {\n",
       "\n",
       "}\n",
       "\n",
       "mpl.figure.prototype._init_canvas = function() {\n",
       "    var fig = this;\n",
       "\n",
       "    var canvas_div = $('<div/>');\n",
       "\n",
       "    canvas_div.attr('style', 'position: relative; clear: both; outline: 0');\n",
       "\n",
       "    function canvas_keyboard_event(event) {\n",
       "        return fig.key_event(event, event['data']);\n",
       "    }\n",
       "\n",
       "    canvas_div.keydown('key_press', canvas_keyboard_event);\n",
       "    canvas_div.keyup('key_release', canvas_keyboard_event);\n",
       "    this.canvas_div = canvas_div\n",
       "    this._canvas_extra_style(canvas_div)\n",
       "    this.root.append(canvas_div);\n",
       "\n",
       "    var canvas = $('<canvas/>');\n",
       "    canvas.addClass('mpl-canvas');\n",
       "    canvas.attr('style', \"left: 0; top: 0; z-index: 0; outline: 0\")\n",
       "\n",
       "    this.canvas = canvas[0];\n",
       "    this.context = canvas[0].getContext(\"2d\");\n",
       "\n",
       "    var rubberband = $('<canvas/>');\n",
       "    rubberband.attr('style', \"position: absolute; left: 0; top: 0; z-index: 1;\")\n",
       "\n",
       "    var pass_mouse_events = true;\n",
       "\n",
       "    canvas_div.resizable({\n",
       "        start: function(event, ui) {\n",
       "            pass_mouse_events = false;\n",
       "        },\n",
       "        resize: function(event, ui) {\n",
       "            fig.request_resize(ui.size.width, ui.size.height);\n",
       "        },\n",
       "        stop: function(event, ui) {\n",
       "            pass_mouse_events = true;\n",
       "            fig.request_resize(ui.size.width, ui.size.height);\n",
       "        },\n",
       "    });\n",
       "\n",
       "    function mouse_event_fn(event) {\n",
       "        if (pass_mouse_events)\n",
       "            return fig.mouse_event(event, event['data']);\n",
       "    }\n",
       "\n",
       "    rubberband.mousedown('button_press', mouse_event_fn);\n",
       "    rubberband.mouseup('button_release', mouse_event_fn);\n",
       "    // Throttle sequential mouse events to 1 every 20ms.\n",
       "    rubberband.mousemove('motion_notify', mouse_event_fn);\n",
       "\n",
       "    rubberband.mouseenter('figure_enter', mouse_event_fn);\n",
       "    rubberband.mouseleave('figure_leave', mouse_event_fn);\n",
       "\n",
       "    canvas_div.on(\"wheel\", function (event) {\n",
       "        event = event.originalEvent;\n",
       "        event['data'] = 'scroll'\n",
       "        if (event.deltaY < 0) {\n",
       "            event.step = 1;\n",
       "        } else {\n",
       "            event.step = -1;\n",
       "        }\n",
       "        mouse_event_fn(event);\n",
       "    });\n",
       "\n",
       "    canvas_div.append(canvas);\n",
       "    canvas_div.append(rubberband);\n",
       "\n",
       "    this.rubberband = rubberband;\n",
       "    this.rubberband_canvas = rubberband[0];\n",
       "    this.rubberband_context = rubberband[0].getContext(\"2d\");\n",
       "    this.rubberband_context.strokeStyle = \"#000000\";\n",
       "\n",
       "    this._resize_canvas = function(width, height) {\n",
       "        // Keep the size of the canvas, canvas container, and rubber band\n",
       "        // canvas in synch.\n",
       "        canvas_div.css('width', width)\n",
       "        canvas_div.css('height', height)\n",
       "\n",
       "        canvas.attr('width', width);\n",
       "        canvas.attr('height', height);\n",
       "\n",
       "        rubberband.attr('width', width);\n",
       "        rubberband.attr('height', height);\n",
       "    }\n",
       "\n",
       "    // Set the figure to an initial 600x600px, this will subsequently be updated\n",
       "    // upon first draw.\n",
       "    this._resize_canvas(600, 600);\n",
       "\n",
       "    // Disable right mouse context menu.\n",
       "    $(this.rubberband_canvas).bind(\"contextmenu\",function(e){\n",
       "        return false;\n",
       "    });\n",
       "\n",
       "    function set_focus () {\n",
       "        canvas.focus();\n",
       "        canvas_div.focus();\n",
       "    }\n",
       "\n",
       "    window.setTimeout(set_focus, 100);\n",
       "}\n",
       "\n",
       "mpl.figure.prototype._init_toolbar = function() {\n",
       "    var fig = this;\n",
       "\n",
       "    var nav_element = $('<div/>')\n",
       "    nav_element.attr('style', 'width: 100%');\n",
       "    this.root.append(nav_element);\n",
       "\n",
       "    // Define a callback function for later on.\n",
       "    function toolbar_event(event) {\n",
       "        return fig.toolbar_button_onclick(event['data']);\n",
       "    }\n",
       "    function toolbar_mouse_event(event) {\n",
       "        return fig.toolbar_button_onmouseover(event['data']);\n",
       "    }\n",
       "\n",
       "    for(var toolbar_ind in mpl.toolbar_items) {\n",
       "        var name = mpl.toolbar_items[toolbar_ind][0];\n",
       "        var tooltip = mpl.toolbar_items[toolbar_ind][1];\n",
       "        var image = mpl.toolbar_items[toolbar_ind][2];\n",
       "        var method_name = mpl.toolbar_items[toolbar_ind][3];\n",
       "\n",
       "        if (!name) {\n",
       "            // put a spacer in here.\n",
       "            continue;\n",
       "        }\n",
       "        var button = $('<button/>');\n",
       "        button.addClass('ui-button ui-widget ui-state-default ui-corner-all ' +\n",
       "                        'ui-button-icon-only');\n",
       "        button.attr('role', 'button');\n",
       "        button.attr('aria-disabled', 'false');\n",
       "        button.click(method_name, toolbar_event);\n",
       "        button.mouseover(tooltip, toolbar_mouse_event);\n",
       "\n",
       "        var icon_img = $('<span/>');\n",
       "        icon_img.addClass('ui-button-icon-primary ui-icon');\n",
       "        icon_img.addClass(image);\n",
       "        icon_img.addClass('ui-corner-all');\n",
       "\n",
       "        var tooltip_span = $('<span/>');\n",
       "        tooltip_span.addClass('ui-button-text');\n",
       "        tooltip_span.html(tooltip);\n",
       "\n",
       "        button.append(icon_img);\n",
       "        button.append(tooltip_span);\n",
       "\n",
       "        nav_element.append(button);\n",
       "    }\n",
       "\n",
       "    var fmt_picker_span = $('<span/>');\n",
       "\n",
       "    var fmt_picker = $('<select/>');\n",
       "    fmt_picker.addClass('mpl-toolbar-option ui-widget ui-widget-content');\n",
       "    fmt_picker_span.append(fmt_picker);\n",
       "    nav_element.append(fmt_picker_span);\n",
       "    this.format_dropdown = fmt_picker[0];\n",
       "\n",
       "    for (var ind in mpl.extensions) {\n",
       "        var fmt = mpl.extensions[ind];\n",
       "        var option = $(\n",
       "            '<option/>', {selected: fmt === mpl.default_extension}).html(fmt);\n",
       "        fmt_picker.append(option)\n",
       "    }\n",
       "\n",
       "    // Add hover states to the ui-buttons\n",
       "    $( \".ui-button\" ).hover(\n",
       "        function() { $(this).addClass(\"ui-state-hover\");},\n",
       "        function() { $(this).removeClass(\"ui-state-hover\");}\n",
       "    );\n",
       "\n",
       "    var status_bar = $('<span class=\"mpl-message\"/>');\n",
       "    nav_element.append(status_bar);\n",
       "    this.message = status_bar[0];\n",
       "}\n",
       "\n",
       "mpl.figure.prototype.request_resize = function(x_pixels, y_pixels) {\n",
       "    // Request matplotlib to resize the figure. Matplotlib will then trigger a resize in the client,\n",
       "    // which will in turn request a refresh of the image.\n",
       "    this.send_message('resize', {'width': x_pixels, 'height': y_pixels});\n",
       "}\n",
       "\n",
       "mpl.figure.prototype.send_message = function(type, properties) {\n",
       "    properties['type'] = type;\n",
       "    properties['figure_id'] = this.id;\n",
       "    this.ws.send(JSON.stringify(properties));\n",
       "}\n",
       "\n",
       "mpl.figure.prototype.send_draw_message = function() {\n",
       "    if (!this.waiting) {\n",
       "        this.waiting = true;\n",
       "        this.ws.send(JSON.stringify({type: \"draw\", figure_id: this.id}));\n",
       "    }\n",
       "}\n",
       "\n",
       "\n",
       "mpl.figure.prototype.handle_save = function(fig, msg) {\n",
       "    var format_dropdown = fig.format_dropdown;\n",
       "    var format = format_dropdown.options[format_dropdown.selectedIndex].value;\n",
       "    fig.ondownload(fig, format);\n",
       "}\n",
       "\n",
       "\n",
       "mpl.figure.prototype.handle_resize = function(fig, msg) {\n",
       "    var size = msg['size'];\n",
       "    if (size[0] != fig.canvas.width || size[1] != fig.canvas.height) {\n",
       "        fig._resize_canvas(size[0], size[1]);\n",
       "        fig.send_message(\"refresh\", {});\n",
       "    };\n",
       "}\n",
       "\n",
       "mpl.figure.prototype.handle_rubberband = function(fig, msg) {\n",
       "    var x0 = msg['x0'];\n",
       "    var y0 = fig.canvas.height - msg['y0'];\n",
       "    var x1 = msg['x1'];\n",
       "    var y1 = fig.canvas.height - msg['y1'];\n",
       "    x0 = Math.floor(x0) + 0.5;\n",
       "    y0 = Math.floor(y0) + 0.5;\n",
       "    x1 = Math.floor(x1) + 0.5;\n",
       "    y1 = Math.floor(y1) + 0.5;\n",
       "    var min_x = Math.min(x0, x1);\n",
       "    var min_y = Math.min(y0, y1);\n",
       "    var width = Math.abs(x1 - x0);\n",
       "    var height = Math.abs(y1 - y0);\n",
       "\n",
       "    fig.rubberband_context.clearRect(\n",
       "        0, 0, fig.canvas.width, fig.canvas.height);\n",
       "\n",
       "    fig.rubberband_context.strokeRect(min_x, min_y, width, height);\n",
       "}\n",
       "\n",
       "mpl.figure.prototype.handle_figure_label = function(fig, msg) {\n",
       "    // Updates the figure title.\n",
       "    fig.header.textContent = msg['label'];\n",
       "}\n",
       "\n",
       "mpl.figure.prototype.handle_cursor = function(fig, msg) {\n",
       "    var cursor = msg['cursor'];\n",
       "    switch(cursor)\n",
       "    {\n",
       "    case 0:\n",
       "        cursor = 'pointer';\n",
       "        break;\n",
       "    case 1:\n",
       "        cursor = 'default';\n",
       "        break;\n",
       "    case 2:\n",
       "        cursor = 'crosshair';\n",
       "        break;\n",
       "    case 3:\n",
       "        cursor = 'move';\n",
       "        break;\n",
       "    }\n",
       "    fig.rubberband_canvas.style.cursor = cursor;\n",
       "}\n",
       "\n",
       "mpl.figure.prototype.handle_message = function(fig, msg) {\n",
       "    fig.message.textContent = msg['message'];\n",
       "}\n",
       "\n",
       "mpl.figure.prototype.handle_draw = function(fig, msg) {\n",
       "    // Request the server to send over a new figure.\n",
       "    fig.send_draw_message();\n",
       "}\n",
       "\n",
       "mpl.figure.prototype.handle_image_mode = function(fig, msg) {\n",
       "    fig.image_mode = msg['mode'];\n",
       "}\n",
       "\n",
       "mpl.figure.prototype.updated_canvas_event = function() {\n",
       "    // Called whenever the canvas gets updated.\n",
       "    this.send_message(\"ack\", {});\n",
       "}\n",
       "\n",
       "// A function to construct a web socket function for onmessage handling.\n",
       "// Called in the figure constructor.\n",
       "mpl.figure.prototype._make_on_message_function = function(fig) {\n",
       "    return function socket_on_message(evt) {\n",
       "        if (evt.data instanceof Blob) {\n",
       "            /* FIXME: We get \"Resource interpreted as Image but\n",
       "             * transferred with MIME type text/plain:\" errors on\n",
       "             * Chrome.  But how to set the MIME type?  It doesn't seem\n",
       "             * to be part of the websocket stream */\n",
       "            evt.data.type = \"image/png\";\n",
       "\n",
       "            /* Free the memory for the previous frames */\n",
       "            if (fig.imageObj.src) {\n",
       "                (window.URL || window.webkitURL).revokeObjectURL(\n",
       "                    fig.imageObj.src);\n",
       "            }\n",
       "\n",
       "            fig.imageObj.src = (window.URL || window.webkitURL).createObjectURL(\n",
       "                evt.data);\n",
       "            fig.updated_canvas_event();\n",
       "            fig.waiting = false;\n",
       "            return;\n",
       "        }\n",
       "        else if (typeof evt.data === 'string' && evt.data.slice(0, 21) == \"data:image/png;base64\") {\n",
       "            fig.imageObj.src = evt.data;\n",
       "            fig.updated_canvas_event();\n",
       "            fig.waiting = false;\n",
       "            return;\n",
       "        }\n",
       "\n",
       "        var msg = JSON.parse(evt.data);\n",
       "        var msg_type = msg['type'];\n",
       "\n",
       "        // Call the  \"handle_{type}\" callback, which takes\n",
       "        // the figure and JSON message as its only arguments.\n",
       "        try {\n",
       "            var callback = fig[\"handle_\" + msg_type];\n",
       "        } catch (e) {\n",
       "            console.log(\"No handler for the '\" + msg_type + \"' message type: \", msg);\n",
       "            return;\n",
       "        }\n",
       "\n",
       "        if (callback) {\n",
       "            try {\n",
       "                // console.log(\"Handling '\" + msg_type + \"' message: \", msg);\n",
       "                callback(fig, msg);\n",
       "            } catch (e) {\n",
       "                console.log(\"Exception inside the 'handler_\" + msg_type + \"' callback:\", e, e.stack, msg);\n",
       "            }\n",
       "        }\n",
       "    };\n",
       "}\n",
       "\n",
       "// from http://stackoverflow.com/questions/1114465/getting-mouse-location-in-canvas\n",
       "mpl.findpos = function(e) {\n",
       "    //this section is from http://www.quirksmode.org/js/events_properties.html\n",
       "    var targ;\n",
       "    if (!e)\n",
       "        e = window.event;\n",
       "    if (e.target)\n",
       "        targ = e.target;\n",
       "    else if (e.srcElement)\n",
       "        targ = e.srcElement;\n",
       "    if (targ.nodeType == 3) // defeat Safari bug\n",
       "        targ = targ.parentNode;\n",
       "\n",
       "    // jQuery normalizes the pageX and pageY\n",
       "    // pageX,Y are the mouse positions relative to the document\n",
       "    // offset() returns the position of the element relative to the document\n",
       "    var x = e.pageX - $(targ).offset().left;\n",
       "    var y = e.pageY - $(targ).offset().top;\n",
       "\n",
       "    return {\"x\": x, \"y\": y};\n",
       "};\n",
       "\n",
       "/*\n",
       " * return a copy of an object with only non-object keys\n",
       " * we need this to avoid circular references\n",
       " * http://stackoverflow.com/a/24161582/3208463\n",
       " */\n",
       "function simpleKeys (original) {\n",
       "  return Object.keys(original).reduce(function (obj, key) {\n",
       "    if (typeof original[key] !== 'object')\n",
       "        obj[key] = original[key]\n",
       "    return obj;\n",
       "  }, {});\n",
       "}\n",
       "\n",
       "mpl.figure.prototype.mouse_event = function(event, name) {\n",
       "    var canvas_pos = mpl.findpos(event)\n",
       "\n",
       "    if (name === 'button_press')\n",
       "    {\n",
       "        this.canvas.focus();\n",
       "        this.canvas_div.focus();\n",
       "    }\n",
       "\n",
       "    var x = canvas_pos.x;\n",
       "    var y = canvas_pos.y;\n",
       "\n",
       "    this.send_message(name, {x: x, y: y, button: event.button,\n",
       "                             step: event.step,\n",
       "                             guiEvent: simpleKeys(event)});\n",
       "\n",
       "    /* This prevents the web browser from automatically changing to\n",
       "     * the text insertion cursor when the button is pressed.  We want\n",
       "     * to control all of the cursor setting manually through the\n",
       "     * 'cursor' event from matplotlib */\n",
       "    event.preventDefault();\n",
       "    return false;\n",
       "}\n",
       "\n",
       "mpl.figure.prototype._key_event_extra = function(event, name) {\n",
       "    // Handle any extra behaviour associated with a key event\n",
       "}\n",
       "\n",
       "mpl.figure.prototype.key_event = function(event, name) {\n",
       "\n",
       "    // Prevent repeat events\n",
       "    if (name == 'key_press')\n",
       "    {\n",
       "        if (event.which === this._key)\n",
       "            return;\n",
       "        else\n",
       "            this._key = event.which;\n",
       "    }\n",
       "    if (name == 'key_release')\n",
       "        this._key = null;\n",
       "\n",
       "    var value = '';\n",
       "    if (event.ctrlKey && event.which != 17)\n",
       "        value += \"ctrl+\";\n",
       "    if (event.altKey && event.which != 18)\n",
       "        value += \"alt+\";\n",
       "    if (event.shiftKey && event.which != 16)\n",
       "        value += \"shift+\";\n",
       "\n",
       "    value += 'k';\n",
       "    value += event.which.toString();\n",
       "\n",
       "    this._key_event_extra(event, name);\n",
       "\n",
       "    this.send_message(name, {key: value,\n",
       "                             guiEvent: simpleKeys(event)});\n",
       "    return false;\n",
       "}\n",
       "\n",
       "mpl.figure.prototype.toolbar_button_onclick = function(name) {\n",
       "    if (name == 'download') {\n",
       "        this.handle_save(this, null);\n",
       "    } else {\n",
       "        this.send_message(\"toolbar_button\", {name: name});\n",
       "    }\n",
       "};\n",
       "\n",
       "mpl.figure.prototype.toolbar_button_onmouseover = function(tooltip) {\n",
       "    this.message.textContent = tooltip;\n",
       "};\n",
       "mpl.toolbar_items = [[\"Home\", \"Reset original view\", \"fa fa-home icon-home\", \"home\"], [\"Back\", \"Back to  previous view\", \"fa fa-arrow-left icon-arrow-left\", \"back\"], [\"Forward\", \"Forward to next view\", \"fa fa-arrow-right icon-arrow-right\", \"forward\"], [\"\", \"\", \"\", \"\"], [\"Pan\", \"Pan axes with left mouse, zoom with right\", \"fa fa-arrows icon-move\", \"pan\"], [\"Zoom\", \"Zoom to rectangle\", \"fa fa-square-o icon-check-empty\", \"zoom\"], [\"\", \"\", \"\", \"\"], [\"Download\", \"Download plot\", \"fa fa-floppy-o icon-save\", \"download\"]];\n",
       "\n",
       "mpl.extensions = [\"eps\", \"jpeg\", \"pdf\", \"png\", \"ps\", \"raw\", \"svg\", \"tif\"];\n",
       "\n",
       "mpl.default_extension = \"png\";var comm_websocket_adapter = function(comm) {\n",
       "    // Create a \"websocket\"-like object which calls the given IPython comm\n",
       "    // object with the appropriate methods. Currently this is a non binary\n",
       "    // socket, so there is still some room for performance tuning.\n",
       "    var ws = {};\n",
       "\n",
       "    ws.close = function() {\n",
       "        comm.close()\n",
       "    };\n",
       "    ws.send = function(m) {\n",
       "        //console.log('sending', m);\n",
       "        comm.send(m);\n",
       "    };\n",
       "    // Register the callback with on_msg.\n",
       "    comm.on_msg(function(msg) {\n",
       "        //console.log('receiving', msg['content']['data'], msg);\n",
       "        // Pass the mpl event to the overriden (by mpl) onmessage function.\n",
       "        ws.onmessage(msg['content']['data'])\n",
       "    });\n",
       "    return ws;\n",
       "}\n",
       "\n",
       "mpl.mpl_figure_comm = function(comm, msg) {\n",
       "    // This is the function which gets called when the mpl process\n",
       "    // starts-up an IPython Comm through the \"matplotlib\" channel.\n",
       "\n",
       "    var id = msg.content.data.id;\n",
       "    // Get hold of the div created by the display call when the Comm\n",
       "    // socket was opened in Python.\n",
       "    var element = $(\"#\" + id);\n",
       "    var ws_proxy = comm_websocket_adapter(comm)\n",
       "\n",
       "    function ondownload(figure, format) {\n",
       "        window.open(figure.imageObj.src);\n",
       "    }\n",
       "\n",
       "    var fig = new mpl.figure(id, ws_proxy,\n",
       "                           ondownload,\n",
       "                           element.get(0));\n",
       "\n",
       "    // Call onopen now - mpl needs it, as it is assuming we've passed it a real\n",
       "    // web socket which is closed, not our websocket->open comm proxy.\n",
       "    ws_proxy.onopen();\n",
       "\n",
       "    fig.parent_element = element.get(0);\n",
       "    fig.cell_info = mpl.find_output_cell(\"<div id='\" + id + \"'></div>\");\n",
       "    if (!fig.cell_info) {\n",
       "        console.error(\"Failed to find cell for figure\", id, fig);\n",
       "        return;\n",
       "    }\n",
       "\n",
       "    var output_index = fig.cell_info[2]\n",
       "    var cell = fig.cell_info[0];\n",
       "\n",
       "};\n",
       "\n",
       "mpl.figure.prototype.handle_close = function(fig, msg) {\n",
       "    fig.root.unbind('remove')\n",
       "\n",
       "    // Update the output cell to use the data from the current canvas.\n",
       "    fig.push_to_output();\n",
       "    var dataURL = fig.canvas.toDataURL();\n",
       "    // Re-enable the keyboard manager in IPython - without this line, in FF,\n",
       "    // the notebook keyboard shortcuts fail.\n",
       "    IPython.keyboard_manager.enable()\n",
       "    $(fig.parent_element).html('<img src=\"' + dataURL + '\">');\n",
       "    fig.close_ws(fig, msg);\n",
       "}\n",
       "\n",
       "mpl.figure.prototype.close_ws = function(fig, msg){\n",
       "    fig.send_message('closing', msg);\n",
       "    // fig.ws.close()\n",
       "}\n",
       "\n",
       "mpl.figure.prototype.push_to_output = function(remove_interactive) {\n",
       "    // Turn the data on the canvas into data in the output cell.\n",
       "    var dataURL = this.canvas.toDataURL();\n",
       "    this.cell_info[1]['text/html'] = '<img src=\"' + dataURL + '\">';\n",
       "}\n",
       "\n",
       "mpl.figure.prototype.updated_canvas_event = function() {\n",
       "    // Tell IPython that the notebook contents must change.\n",
       "    IPython.notebook.set_dirty(true);\n",
       "    this.send_message(\"ack\", {});\n",
       "    var fig = this;\n",
       "    // Wait a second, then push the new image to the DOM so\n",
       "    // that it is saved nicely (might be nice to debounce this).\n",
       "    setTimeout(function () { fig.push_to_output() }, 1000);\n",
       "}\n",
       "\n",
       "mpl.figure.prototype._init_toolbar = function() {\n",
       "    var fig = this;\n",
       "\n",
       "    var nav_element = $('<div/>')\n",
       "    nav_element.attr('style', 'width: 100%');\n",
       "    this.root.append(nav_element);\n",
       "\n",
       "    // Define a callback function for later on.\n",
       "    function toolbar_event(event) {\n",
       "        return fig.toolbar_button_onclick(event['data']);\n",
       "    }\n",
       "    function toolbar_mouse_event(event) {\n",
       "        return fig.toolbar_button_onmouseover(event['data']);\n",
       "    }\n",
       "\n",
       "    for(var toolbar_ind in mpl.toolbar_items){\n",
       "        var name = mpl.toolbar_items[toolbar_ind][0];\n",
       "        var tooltip = mpl.toolbar_items[toolbar_ind][1];\n",
       "        var image = mpl.toolbar_items[toolbar_ind][2];\n",
       "        var method_name = mpl.toolbar_items[toolbar_ind][3];\n",
       "\n",
       "        if (!name) { continue; };\n",
       "\n",
       "        var button = $('<button class=\"btn btn-default\" href=\"#\" title=\"' + name + '\"><i class=\"fa ' + image + ' fa-lg\"></i></button>');\n",
       "        button.click(method_name, toolbar_event);\n",
       "        button.mouseover(tooltip, toolbar_mouse_event);\n",
       "        nav_element.append(button);\n",
       "    }\n",
       "\n",
       "    // Add the status bar.\n",
       "    var status_bar = $('<span class=\"mpl-message\" style=\"text-align:right; float: right;\"/>');\n",
       "    nav_element.append(status_bar);\n",
       "    this.message = status_bar[0];\n",
       "\n",
       "    // Add the close button to the window.\n",
       "    var buttongrp = $('<div class=\"btn-group inline pull-right\"></div>');\n",
       "    var button = $('<button class=\"btn btn-mini btn-primary\" href=\"#\" title=\"Stop Interaction\"><i class=\"fa fa-power-off icon-remove icon-large\"></i></button>');\n",
       "    button.click(function (evt) { fig.handle_close(fig, {}); } );\n",
       "    button.mouseover('Stop Interaction', toolbar_mouse_event);\n",
       "    buttongrp.append(button);\n",
       "    var titlebar = this.root.find($('.ui-dialog-titlebar'));\n",
       "    titlebar.prepend(buttongrp);\n",
       "}\n",
       "\n",
       "mpl.figure.prototype._root_extra_style = function(el){\n",
       "    var fig = this\n",
       "    el.on(\"remove\", function(){\n",
       "\tfig.close_ws(fig, {});\n",
       "    });\n",
       "}\n",
       "\n",
       "mpl.figure.prototype._canvas_extra_style = function(el){\n",
       "    // this is important to make the div 'focusable\n",
       "    el.attr('tabindex', 0)\n",
       "    // reach out to IPython and tell the keyboard manager to turn it's self\n",
       "    // off when our div gets focus\n",
       "\n",
       "    // location in version 3\n",
       "    if (IPython.notebook.keyboard_manager) {\n",
       "        IPython.notebook.keyboard_manager.register_events(el);\n",
       "    }\n",
       "    else {\n",
       "        // location in version 2\n",
       "        IPython.keyboard_manager.register_events(el);\n",
       "    }\n",
       "\n",
       "}\n",
       "\n",
       "mpl.figure.prototype._key_event_extra = function(event, name) {\n",
       "    var manager = IPython.notebook.keyboard_manager;\n",
       "    if (!manager)\n",
       "        manager = IPython.keyboard_manager;\n",
       "\n",
       "    // Check for shift+enter\n",
       "    if (event.shiftKey && event.which == 13) {\n",
       "        this.canvas_div.blur();\n",
       "        // select the cell after this one\n",
       "        var index = IPython.notebook.find_cell_index(this.cell_info[0]);\n",
       "        IPython.notebook.select(index + 1);\n",
       "    }\n",
       "}\n",
       "\n",
       "mpl.figure.prototype.handle_save = function(fig, msg) {\n",
       "    fig.ondownload(fig, null);\n",
       "}\n",
       "\n",
       "\n",
       "mpl.find_output_cell = function(html_output) {\n",
       "    // Return the cell and output element which can be found *uniquely* in the notebook.\n",
       "    // Note - this is a bit hacky, but it is done because the \"notebook_saving.Notebook\"\n",
       "    // IPython event is triggered only after the cells have been serialised, which for\n",
       "    // our purposes (turning an active figure into a static one), is too late.\n",
       "    var cells = IPython.notebook.get_cells();\n",
       "    var ncells = cells.length;\n",
       "    for (var i=0; i<ncells; i++) {\n",
       "        var cell = cells[i];\n",
       "        if (cell.cell_type === 'code'){\n",
       "            for (var j=0; j<cell.output_area.outputs.length; j++) {\n",
       "                var data = cell.output_area.outputs[j];\n",
       "                if (data.data) {\n",
       "                    // IPython >= 3 moved mimebundle to data attribute of output\n",
       "                    data = data.data;\n",
       "                }\n",
       "                if (data['text/html'] == html_output) {\n",
       "                    return [cell, data, j];\n",
       "                }\n",
       "            }\n",
       "        }\n",
       "    }\n",
       "}\n",
       "\n",
       "// Register the function which deals with the matplotlib target/channel.\n",
       "// The kernel may be null if the page has been refreshed.\n",
       "if (IPython.notebook.kernel != null) {\n",
       "    IPython.notebook.kernel.comm_manager.register_target('matplotlib', mpl.mpl_figure_comm);\n",
       "}\n"
      ],
      "text/plain": [
       "<IPython.core.display.Javascript object>"
      ]
     },
     "metadata": {},
     "output_type": "display_data"
    },
    {
     "data": {
      "text/html": [
       "<img src=\"data:image/png;base64,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\">"
      ],
      "text/plain": [
       "<IPython.core.display.HTML object>"
      ]
     },
     "metadata": {},
     "output_type": "display_data"
    }
   ],
   "source": [
    "%matplotlib notebook\n",
    "from add_del_visualize import visualize\n",
    "visualize()"
   ]
  },
  {
   "cell_type": "markdown",
   "metadata": {
    "slideshow": {
     "slide_type": "slide"
    }
   },
   "source": [
    "## Дополнительные определения и леммы для динамической триангуляции <a id=\"adddef\"></a>\n",
    " <img src=\"Pictures/flip.png\" style=\"float: right; width: 180px;\"/>\n",
    "**Локальный критерий Делоне для ребра** — пара треугольников, которым принадлежит это ребро, является триангуляцией Делоне вершин этих треугольников (то есть вершина, противолежащая ребру в одном треугольнике, не лежит в окружности, описанной вокруг другого треугольника, и наоборот).\n",
    "\n",
    "\n",
    "На рисунке справа локальный критерий Делоне выполнен только для синего ребра.\n",
    "\n",
    "Будем называть **хорошими** те рёбра, для которых выполняется локальный критерий Делоне.\n",
    "\n",
    "Рассмотрим пару смежных треугольников. Рёбра этих треугольников образуют четырёхугольник с проведённой в нём диагональю. Если этот четырёхугольник выпуклый, то возможна операция замены этой диагонали на другую, такая операция называется **флип (flip)**.\n",
    "\n",
    "<img src=\"Pictures/Flip2.png\" style=\"float: right; width: 320px;\"/>\n",
    "На рисунке справа флип переводит красное ребро в синее.\n",
    "\n",
    "\n",
    "**Замечание:** Если два смежных с ребором треугольника образуют невыпуклый четырёхугольник, то это ребро является хорошим. \n"
   ]
  },
  {
   "cell_type": "markdown",
   "metadata": {
    "slideshow": {
     "slide_type": "fragment"
    }
   },
   "source": [
    "**Глобальный критерий Делоне для триангуляции** — ни одна из окружностей, описанных вокруг треугольников из триангуляции не содержит других точек кроме вершин этого треугольника.\n",
    "#### Лемма 0\n",
    "\n",
    "<img src=\"Pictures/Global.png\" style=\"float: right; width: 200px;\"/> \n",
    "\n",
    "Если для всех ребер триангуляции выполнен локальный критерий Делоне, то для неё выполнен и глобальный критерий Делоне.\n",
    "<br>$\\triangleright$<br><div style=\"padding-left:40px\">\n",
    "Докажем методом от противного. Предположим, что все рёбра хорошие, но существует точка $E$, которая пренадлежит некоторым треугольникам из триангуляции и не является их вершиной. Из всех таких треугольников выберем $ABC$, такой что угол $\\angle{BEC}$ максимален, при $BC$ ближайшей стороне к точке $E$. \n",
    "\n",
    "Рассмотрим треугольник $BCD$ смежный с $ABC$. Так как ребро $BC$ хорошее, то $D$ лежит вне его описанной окружности, значит, $\\angle{BAC} + \\angle{BDC} < 180^{\\circ}$. Так как $E$ лежит внутри описанной окружности $ABC$, то $\\angle{BAC} + \\angle{BEC} > 180^{\\circ}$. Из полученных неравенств следует, что $\\angle{BEC} > \\angle{BDC}$. Значит, точка $E$ лежит внутри описанной окружности треугольника $BCD$. А так как $\\angle{BED} > \\angle{BEC}$ получили противоречие с условием выбора треугольника $ABC$.\n",
    "</div>$\\triangleleft$\n"
   ]
  },
  {
   "cell_type": "markdown",
   "metadata": {
    "slideshow": {
     "slide_type": "slide"
    }
   },
   "source": [
    "Необходимо также понимать, что триангуляция Делоне является нижней выпуклой оболочкой точек, поднятых на параболоид, где мы считаем, что существует бесконечно удаленная по оси $z$ точка, которая образует бесконечные треугольные грани с крайними точками из оболочки.\n",
    "<img src=\"Pictures/paraboloid.png\" style=\"float: center; width: 500px;\"/> "
   ]
  },
  {
   "cell_type": "markdown",
   "metadata": {
    "slideshow": {
     "slide_type": "slide"
    }
   },
   "source": [
    "<img src=\"Pictures/lemma1.png\" style=\"float: right;\" />\n",
    "#### Лемма 1\n",
    "Флип плохого ребра заменяет его хорошим.\n",
    "<br>$\\triangleright$<br><div style=\"padding-left:40px\">\n",
    "Докажем, что из двух рёбер, которые можно провести для пары треугольников, как минимум одно хорошее.<br>\n",
    "Предположим, что это не так, то есть оба ребра (назовём их $AB$ и $CD$) плохие. Рассмотрим четырёхугольник $ACBD$ и окружность, описанную вокруг треугольника $ABC$. Точка $D$ лежит внутри этой окружности, значит, сумма углов $C$ и $D$ больше $180^{\\circ}$. Аналогично доказывается, что сумма углов $A$ и $B$ больше $180^{\\circ}$. Значит, сумма углов четырёхугольника $ACBD$ больше $360^{\\circ}$, что невозможно.<br>\n",
    "</div>$\\triangleleft$"
   ]
  },
  {
   "cell_type": "markdown",
   "metadata": {
    "slideshow": {
     "slide_type": "slide"
    }
   },
   "source": [
    "<img src=\"Pictures/Good_edge.png\" style=\"float: right;\" />\n",
    "#### Лемма 2\n",
    "\n",
    "Если в триангуляцию Делоне вставить точку в некоторый треугольник и соединить его вершины с этой точкой, то получившиеся рёбра будут хорошими.\n",
    "<br>$\\triangleright$<br><div style=\"padding-left:40px\">\n",
    "Предположим, точка была вставлена не на ребро. Рассмотрим любое из рёбер — пусть это будет ребро $VC$. Проведём окружность, описывающую треугольник $ABC$. По критерию Делоне в ней не будет никаких точек триангуляции. На ребре $VC$ можно построить окружность, касающуюся окружности $ABC$. В ней тоже нет никаких точек. Значит, для $VC$ выполняется критерий Делоне для рёбер, значит, ребро должно принадлежать триангуляции с добавленной точкой $V$, значит, оно хорошее.\n",
    "    \n",
    "Случай, когда точка вставляется на ребро, рассматривается аналогично.<br>\n",
    "</div>$\\triangleleft$"
   ]
  },
  {
   "cell_type": "markdown",
   "metadata": {
    "slideshow": {
     "slide_type": "slide"
    }
   },
   "source": [
    "## Алгоритм вставки <a id=\"insert\"></a>"
   ]
  },
  {
   "cell_type": "markdown",
   "metadata": {
    "slideshow": {
     "slide_type": "fragment"
    }
   },
   "source": [
    "\n",
    "### Краткий план алгоритма\n",
    "\n",
    "1. Определяем, в каком фейсе (или на каком ребре) лежит точка. Для этого используем алгоритм локализации (ссылка)\n",
    "2. Добавляем три ребра, сам фейс превращаем в один из новых смежных с вставляемой точкой и добавялем ещё два фейса.\n",
    "3. Плохие рёбра с помощью флипов заменяем на хорошие.\n"
   ]
  },
  {
   "cell_type": "markdown",
   "metadata": {
    "slideshow": {
     "slide_type": "slide"
    }
   },
   "source": [
    "#### Пример <br>\n",
    "| [![First](Pictures/first.png)](first)  | [![Second](Pictures/second.png)](second) | [![Third](Pictures/third.png)](third) |\n",
    "|:---:|:---:|:---:|\n",
    "| Триангуляция до выполниения вставки | Состояние после второго шага (зеленые рёбра появились, синие рёбра стали плохими)| Триангуляция после третьего шага |"
   ]
  },
  {
   "cell_type": "markdown",
   "metadata": {
    "slideshow": {
     "slide_type": "slide"
    }
   },
   "source": [
    "### Подробности реализации алгоритма вставки\n",
    "\n",
    "Пусть $F$ — вставляемая точка. <br>\n",
    "**Заметим**, что все добавленные в пункте 2 рёбра по **лемме 2** являются хорошими. Плохими могут стать рёбра противолежащие точке $F$. После пункта 1 мы имеем три таких ребра. Рассмотрим выпуклый четырёхугольник, в котором происходит флип. Этот четырёхугольник имеет ровно два ребра инцидентных $F$, флип порождает еще одно такое ребро. Ровно два ребра четырёхугольника, которые не были инцидентны $F$, становятся противолежащими $F$ и могут оказаться плохими (докажем это в **лемме 3**).<br>\n",
    "\n",
    "| [![Lemmaa](Pictures/Flip3.png)](lemmaa)|\n",
    "|::|\n",
    "|При вставке точки $F$ ребро $CE$ флипается в ребро $FD$, рёбра $CD$ и $DE$ могут оказаться плохими|\n",
    "\n",
    "<br>\n",
    "Будем добавлять потенциально плохие рёбра в очередь. При обработке очередного ребра из очереди будет происходить либо флип с добавлением двух рёбер в очередь в случае, если ребро плохое, либо пропуск ребра, если оно хорошее.<br>\n",
    "Докажем, что этот процесс завершится, с помощью **леммы 4** и **леммы 5**.\n"
   ]
  },
  {
   "cell_type": "markdown",
   "metadata": {
    "slideshow": {
     "slide_type": "slide"
    }
   },
   "source": [
    "#### Лемма 3\n",
    "\n",
    "При вставке точки будут флипаться только рёбра, противолежащие вставленной точке.\n",
    "<br>$\\triangleright$<br><div style=\"padding-left:40px\">\n",
    "Доказательство по индукции.\n",
    "\n",
    "База. По **лемме 2** изначально не будут флипаться новые рёбра, инцидентные точке, то есть плохими могут оказаться только рёбра, противолежащие точке.\n",
    "\n",
    "Переход. Рассмотрим, что произойдёт с противолежащим точке $V$ ребром $AC$ после флипа, если оно плохое. До вставки точки $V$ для триангуляции выполнялся глобальный критерий Делоне, поэтому в окружности, описанной вокруг треугольника $ACD$, не будет лежать никаких точек, кроме точки $V$. Можно построить окружность, касающуюся её изнутри в точке $D$ и проходящую через точку $V$. В ней тоже не окажется никаких точек, так как она касается изнутри. Значит, для ребра $VD$ выполняется критерий Делоне. Значит, после флипа ребро $AC$ уже не будет флипаться. Так как для рёбер $AV$ и $CV$ выполняется критерий Делоне, то плохими после флипа могут стать только рёбра $AD$ и $CD$ — то есть рёбра, противолежащие точке $V$.\n",
    "\n",
    "Для не рассмотренных ребер как до вставки, так и после выполнен локальный критерий Делоне. После всех флипов локальный критерий Делоне выполнен для всех рёбер, следовательно по **лемме 0** выполнен и глобальный критерий Делоне.\n",
    "</div>$\\triangleleft$\n",
    "\n",
    "| [![Lemma3](Pictures/lemma3.png)](lemma3)|\n",
    "|::|\n",
    "|$V$ — вставленная точка, ребро $AC$ — плохое|\n"
   ]
  },
  {
   "cell_type": "markdown",
   "metadata": {},
   "source": [
    "#### Лемма 4\n",
    "\n",
    " Флип плохого ребра уменьшает разность объёмов параболоида и триангуляции, спроецированной на него.\n",
    "\n",
    "$\\triangleright$\n",
    "\n",
    "<div style=\"padding-left:27px\" >\n",
    "Рассмотрим два таких смежных треугольника, что ребро между ними является плохим. Спроецируем их на параболоид. Четыре точки, принадлежащие смежным треугольникам, при проекции на параболоид образуют тетраэдр.<br>\n",
    "Проведём через любой из двух треугольников плоскость. Вершина, противолежащая основанию тетраэдра, являющегося этим треугольником, лежит ниже этой плоскости (так как не выполняется локальный критерий Делоне), то есть тетраэдр лежит ниже тела, образующегося при проекции всей триангуляции на параболоид.\n",
    "После флипа станет выполняться локальный критерий Делоне, то есть тело станет включать в себя тетраэдр. Поэтому после флипа плохого ребра объём тела увеличится на объём этого тетраэдра.\n",
    "</div>\n",
    "\n",
    "$\\triangleleft$"
   ]
  },
  {
   "cell_type": "markdown",
   "metadata": {},
   "source": [
    "#### Лемма 5\n",
    "\n",
    " Любая триангуляция сводится к триангуляции Делоне за конечное число флипов.\n",
    "\n",
    "$\\triangleright$\n",
    "\n",
    "<div style=\"padding-left:27px\" >\n",
    "Всего триангуляций заданного множества точек конечное число, и среди них есть триангуляция Делоне. Последовательность флипов плохих рёбер триангуляции образует такую последовательность триангуляций, что разность объёмов параболоида и спроецированной на него триангуляции убывает (по **лемме 4**). Эта последовательность конечна (при этом последней в последовательности является триангуляция Делоне), значит, число флипов, требуемых для достижения триангуляции Делоне, тоже конечно.\n",
    "</div>\n",
    "\n",
    "$\\triangleleft$"
   ]
  },
  {
   "cell_type": "markdown",
   "metadata": {},
   "source": [
    "**Замечание 1** <br> \n",
    "Если вставляемая точка попадает на ребро, на шаге 2 получится треугольник с углом в $180^{\\circ}$, в котором это ребро является противолежащим вставляемой точке. Тогда оно попадет в очередь и в некоторый момент произойдет флип этого ребра, так как оно стало плохим для новой триангуляции.\n"
   ]
  },
  {
   "cell_type": "markdown",
   "metadata": {
    "slideshow": {
     "slide_type": "skip"
    }
   },
   "source": [
    "**Замечание 2** <br>\n",
    "Вставка точки, не лежащей внутри выпуклой оболочки имеющихся точек, сводится к обычной вставке точки, благодаря предположению о существовании бесконечно удаленной по оси $z$ точки, имеющей координаты $(0,0,1,0)$ (последняя координата — однородная).\n"
   ]
  },
  {
   "cell_type": "markdown",
   "metadata": {
    "slideshow": {
     "slide_type": "slide"
    }
   },
   "source": [
    "## Алгоритм удаления <a id=\"remove\"></a>"
   ]
  },
  {
   "cell_type": "markdown",
   "metadata": {
    "slideshow": {
     "slide_type": "fragment"
    }
   },
   "source": [
    "### Краткий план алгоритма\n",
    "1. 1а. Если у точки три инцидентных ребра, перейдем к шагу 2. <br> \n",
    "   1б. Иначе будем флипать рёбра инцидентные удаляемой точке в некотором порядке, пока не останется ровно три ребра.\n",
    "2. Удалим точку и инцидентные ей рёбра."
   ]
  },
  {
   "cell_type": "markdown",
   "metadata": {},
   "source": [
    "### Порядок флипов\n",
    "\n",
    "Будем использовать для образования новых фейсов так называемый *shelling order:*<br>\n",
    "пусть $p$ — удаляемая точка, $\\{q_0, q_1, \\ldots, q_k = q_0\\}$ — смежные с $p$ точки в порядке обхода против часовой стрелки. Назовем *ушами* плоскости, образованные точками $q_{i-1} q_i q_{i+1}$ такими, что поворот $q_{i-1}q_iq_{i+1}$ совпадает с поворотом $q_{i-1}q_ip$. Тогда нам доступен флип соответствующего уху ребра (ребро $p q_i$ для уха $q_{i-1} q_i q_{i+1}$). Изначально из точки $p$ видны все уши, так как точки образуют нижнюю выпуклую оболочку. Будем двигаться из $p$ по вертикальной прямой в положительном напралении, при этом число видимых ушей будет уменьшаться. Будем флипать рёбра ушей в порядке пропадания из зоны видимости. Ясно, что ухо пропадает из зоны видимости в точке пересечения плоскости этого уха с вертикальной прямой, содержащей $p$, по которой идет движение.\n",
    "\n",
    "Далее для краткости будем называть **расстоянием по вертикали от точки $p$ до плоскости $S$** расстояние от точки $p$ до точки пересечения вертикальной прямой, содержащей $p$, с плоскостью $S$.  \n"
   ]
  },
  {
   "cell_type": "markdown",
   "metadata": {},
   "source": [
    "### Лемма\n",
    "\n",
    "Рассмотрим точки на параболоиде $\\{q_0, q_1, \\ldots , q_{k−1}, q_k = q_0\\}$ и точку $p$, такие что рёбра $q_iq_{i+1}$ принадлежат нижней выпуклой оболочке точек $\\{q_0, q_1, \\ldots , q_{k−1}, p\\}$. Тогда если расстояние по вертикали от точки $p$ до плоскости $q_i \\, q_{i+1} \\, q_{i+2}$ минимально, то ребро $q_iq_{i+2}$ принадлежит нижней выпуклой оболочке для точек $\\{q_0, q_1, \\ldots , q_{k−1}\\}$.\n",
    "\n",
    "$\\triangleright$\n",
    "\n",
    "<div style=\"padding-left:27px\" >\n",
    "Рассмотрим получившуюся оболочку после удаления точки $p$. Докажем, что для любого уха, не входящего в эту оболочку, найдется ухо из оболочки, для которого расстояние по вертикали до точки $p$ меньше. Ясно, что из этого следует утверждение леммы.\n",
    "<br><br>\n",
    "Рассмотрим ухо $i j k$, не входящее в оболочку, для ребра $i j$ есть точка $r$ такая, что $i j r$ — грань оболочки. Так как мы рассматриваем нижнюю выпуклую оболочку, точка $k$ лежит выше грани $i j r$, тогда полуплоскость $i j k$ лежит выше полуплоскости $i j r$. Заметим, что точка $p$ и вертикальная прямая через неё пересекают эти полуплоскости. Тогда и точка пересечения плоскости $i j k$ с прямой лежит выше точки пересечения $i j r$ с прямой. Это значит, что расстояние по вертикали от $p$ до $i j r$ меньше чем расстояние по вертикали от $p$ до $i j k$.\n",
    "<br><br>\n",
    "<img src=\"Pictures/lemma100.png\" style=\"float: center; width: 400px;\" />\n",
    "Но грань $ijr$ не обязательно является ухом. Докажем, что если грань $ijr$ не является ухом, то в оболочке есть ухо с меньшим расстоянием по вертикали до $p$. Рассмотрим соседние с $ijr$ грани триангуляции, их хотя бы 2, и по крайней мере у одной из них расстояние по вертикали до $p$ меньше (легко доказать от противного). Если эта соседняя грань также не является ухом, продолжим искать ухо для этой грани. Так как каждый раз при переходе к рассмотрению соседней грани расстояние по вертикали уменьшается, этот процесс завершится, и полученное в итоге ухо будет иметь меньшее расстояние по вертикали до $p$ чем грань $ijr$.\n",
    "<br><br>\n",
    "Таким образом, мы доказали, что для любого уха не из оболочки есть ухо из оболочки, для которого расстояние по вертикали до точки $p$ меньше. Это значит, что ухо с наименьшим расстоянием по вертикали является гранью нижней выпуклой оболочки без точки $p$.\n",
    "</div>\n",
    "\n",
    "$\\triangleleft$\n",
    "    "
   ]
  },
  {
   "cell_type": "markdown",
   "metadata": {
    "slideshow": {
     "slide_type": "slide"
    }
   },
   "source": [
    "### Подробности реализации\n",
    "Так как после флипа ребра $pq_i$ у точек $q_{i-1}$ и $q_{i+1}$ меняется один сосед в обходе (они становятся соседними друг с другом вместо $q_i$), будем поддерживать приоритетную очередь, где значения — рёбра из точки $p$, а ключи — расстояния по вертикали от $p$ до плоскости соответствующего ребру уха, и после флипа обновлять значения.\n",
    "\n",
    "Расстояние будем вычислять по формуле: <br>\n",
    "$h(p,q_{i-1},q_i,q_{i+1}) = \\frac{V_{q_{i-1} q_i q_{i+1}p}}{S^*_{q_{i-1} q_i q_{i+1}}} = \n",
    "\\frac{\n",
    "\\begin{vmatrix}\n",
    "q_{i-1(x)}      & q_{i-1(y)}        & q_{i-1(x)}^2 + q_{i-1(y)} ^ 2     & 1 & \\\\ \n",
    "q_{i(x)}        & q_{i(y)}          & q_{i(x)}^2 + q_{i(y)} ^ 2         & 1 & \\\\ \n",
    "q_{i+1(x)}      & q_{i+1(y)}        & q_{i+1(x)}^2 + q_{i+1(y)} ^ 2     & 1 & \\\\ \n",
    "p_{(x)}         & p_{(y)}           & p_{(x)}^2 + p_{(y)} ^ 2           & 1 &\n",
    "\\end{vmatrix} } {\n",
    "\\begin{vmatrix}\n",
    "q_{i-1(x)}                    & q_{i-1(y)}                  & 1 & \\\\ \n",
    "q_{i(x)}                      & q_{i(y)}                    & 1 & \\\\ \n",
    "q_{i+1(x)}                    & q_{i+1(y)}                  & 1 &\n",
    "\\end{vmatrix}\n",
    "}$\n",
    "\n",
    "Где $V_{q_{i-1} q_i q_{i+1} p}$ — объем тетраэдра точек на параболоиде, а $S^*_{q_{i-1} q_i q_{i+1}}$ — площадь треугольника на плоскости."
   ]
  },
  {
   "cell_type": "markdown",
   "metadata": {
    "slideshow": {
     "slide_type": "slide"
    }
   },
   "source": [
    "#### Пример <br>\n",
    "| <img src=\"Pictures/del1.png \" width=\"300px\">  | <img src=\"Pictures/del2.png \" width=\"300px\"> | <img src=\"Pictures/del3.png \" width=\"300px\"> |\n",
    "|:---:|:---:|:---:|\n",
    "| Триангуляция до выполниения удаления |После всех флипов (синим обозначены новые рёбра)|Триангуляция после удаления точки |"
   ]
  },
  {
   "cell_type": "markdown",
   "metadata": {
    "slideshow": {
     "slide_type": "slide"
    }
   },
   "source": [
    "## Время работы <a id=\"time\"></a>"
   ]
  },
  {
   "cell_type": "markdown",
   "metadata": {
    "slideshow": {
     "slide_type": "slide"
    }
   },
   "source": [
    "### Вставка"
   ]
  },
  {
   "cell_type": "markdown",
   "metadata": {
    "slideshow": {
     "slide_type": "fragment"
    }
   },
   "source": [
    "#### Лемма 6\n",
    "Средняя степень вершины после вставки её в триангуляцию Делоне равна $O(1)$.\n",
    "<br>$\\triangleright$<br><div style=\"padding-left:40px\">\n",
    "Так как триангуляция представляет собой планарный граф, применима формула Эйлера и следствие из неё: для связного планарного графа с $V$ вершинами и $E$ рёбрами выполнено неравенство $E \\le 3V - 6$. Тогда среднюю степень вершины можно оценить как $d_{average}= \\frac{2E}V \\le 2 \\cdot \\frac{3V - 6} V = O(1)$\n",
    "<br></div>$\\triangleleft$"
   ]
  },
  {
   "cell_type": "markdown",
   "metadata": {
    "slideshow": {
     "slide_type": "fragment"
    }
   },
   "source": [
    "**Теорема** <br>\n",
    "При вставке точки в триангуляцию Делоне в среднем придётся сделать $O(1)$ флипов.\n",
    "<br>$\\triangleright$<br><div style=\"padding-left:40px\">\n",
    "Пусть $p$ — вставляемая точка. Все флипнутые рёбра окажутся инцидентными $p$ (**по лемме 3**), тогда всего флипов будет сделано $O(d_p)$, где $d_p$ — степень вершины $p$ после вставки. Средня степень вершины в триангуляции — $O(1)$ (**по лемме 6**), значит будет сделано $O(1)$ флипов в среднем.\n",
    "<br></div>$\\triangleleft$\n"
   ]
  },
  {
   "cell_type": "markdown",
   "metadata": {
    "slideshow": {
     "slide_type": "slide"
    }
   },
   "source": [
    "**Замечание 1** <br>\n",
    "Существует такой порядок добавления точек, что построение триангуляции с $n$ точками будет работать за $O(n^2)$. Поэтому важно добавлять точки в случайном порядке, тогда будет выполняться средняя оценка на время — $O(n)$.\n",
    "\n",
    "**Пример плохого порядка добавления**\n",
    "\n",
    "| <img src=\"Pictures/worse1.png \" width=\"230px\">  | <img src=\"Pictures/worse2.png \" width=\"250px\"> | <img src=\"Pictures/worse3.png \" width=\"250px\"> |\n",
    "|:---:|:---:|:---:|\n",
    "| | | ||\n",
    "\n",
    "При добавлении точек в правую часть производится $\\Omega(n)$ флипов."
   ]
  },
  {
   "cell_type": "markdown",
   "metadata": {
    "slideshow": {
     "slide_type": "fragment"
    }
   },
   "source": [
    "**Замечание 2**<br>\n",
    "Так как среднее число флипов — $O(1)$, то время вставки целиком зависит от времени локализации."
   ]
  },
  {
   "cell_type": "markdown",
   "metadata": {
    "slideshow": {
     "slide_type": "slide"
    }
   },
   "source": [
    "### Удаление\n",
    "\n",
    "При удалении обрабатываются только инцидентные вершине ребра. С использованием приоритетной очереди получаем асимптотику на одно удаление $O(d_p log(d_p))$, где $p$ — удаляемая точка, $d_p$ — степень вершины $p$. Средняя степень вершины в триангуляции — $O(1)$, таким образом, среднее время на удаление — $O(1)$."
   ]
  }
 ],
 "metadata": {
  "anaconda-cloud": {},
  "kernelspec": {
   "display_name": "Python 3",
   "language": "python",
   "name": "python3"
  },
  "language_info": {
   "codemirror_mode": {
    "name": "ipython",
    "version": 3
   },
   "file_extension": ".py",
   "mimetype": "text/x-python",
   "name": "python",
   "nbconvert_exporter": "python",
   "pygments_lexer": "ipython3",
   "version": "3.5.2"
  }
 },
 "nbformat": 4,
 "nbformat_minor": 1
}
