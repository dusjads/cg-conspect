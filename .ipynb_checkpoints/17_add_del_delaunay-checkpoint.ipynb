{
 "cells": [
  {
   "cell_type": "markdown",
   "metadata": {
    "slideshow": {
     "slide_type": "slide"
    }
   },
   "source": [
    "# Триангуляция Делоне. Динамический алгоритм: удаление и вставка"
   ]
  },
  {
   "cell_type": "markdown",
   "metadata": {
    "slideshow": {
     "slide_type": "slide"
    }
   },
   "source": [
    "## Содержание\n",
    "\n",
    "- [Задача](#prob)\n",
    "- [Базовые определения](#def)\n",
    "- [Визуализация](#visual)\n",
    "- [Дополнительные определения](#adddef)\n",
    "- [Алгоритм вставки](#insert)\n",
    "- [Алгоритм удаления](#remove)\n",
    "- [Время работы](#time)"
   ]
  },
  {
   "cell_type": "markdown",
   "metadata": {
    "slideshow": {
     "slide_type": "slide"
    }
   },
   "source": [
    "## Задача <a id=\"prob\"></a>\n",
    "\n",
    "Для данной триангуляции Делоне множества точек необходимо научиться выполнять **вставку** некоторой точки в триангуляцию и **удаление** некоторой точки."
   ]
  },
  {
   "cell_type": "markdown",
   "metadata": {
    "slideshow": {
     "slide_type": "fragment"
    }
   },
   "source": [
    "## Базовые определения <a id=\"def\"></a>\n",
    "\n",
    "**Подразбиение Делоне множества точек** — такое разбиение выпуклой оболочки множества точек на множество выпуклых фигур, что в окружности, описанной вокруг любой из фигур, не находится никаких точек из множества.\n",
    "\n",
    "**Триангуляция Делоне множества точек** — триангуляция, являющаяся подразбиением Делоне.\n"
   ]
  },
  {
   "cell_type": "markdown",
   "metadata": {
    "slideshow": {
     "slide_type": "skip"
    }
   },
   "source": [
    "***Примечание:*** *для понимания дальнейшего материала необходимо сначала ознакомиться с базовой теорией о триангуляции Делоне, однородных координатах, а также со структурой данных DCEL.*(и тут ссылки на ноутбуки)"
   ]
  },
  {
   "cell_type": "markdown",
   "metadata": {
    "slideshow": {
     "slide_type": "skip"
    }
   },
   "source": [
    "## Визуализация <a id=\"visual\"></a>\n",
    "Блок ниже запускает визуализацию удаления и вставки точки в триангуляцию.<br> \n",
    "Клик по точке в триангуляции удаляет эту точку.<br>\n",
    "Клик в любом месте кроме точек из триангуляции добавляет точку места клика в триангуляцию.<br>\n",
    "Измененная точка отображается желтым цветом."
   ]
  },
  {
   "cell_type": "code",
   "execution_count": 2,
   "metadata": {
    "slideshow": {
     "slide_type": "slide"
    }
   },
   "outputs": [
    {
     "data": {
      "application/javascript": [
       "/* Put everything inside the global mpl namespace */\n",
       "window.mpl = {};\n",
       "\n",
       "mpl.get_websocket_type = function() {\n",
       "    if (typeof(WebSocket) !== 'undefined') {\n",
       "        return WebSocket;\n",
       "    } else if (typeof(MozWebSocket) !== 'undefined') {\n",
       "        return MozWebSocket;\n",
       "    } else {\n",
       "        alert('Your browser does not have WebSocket support.' +\n",
       "              'Please try Chrome, Safari or Firefox ≥ 6. ' +\n",
       "              'Firefox 4 and 5 are also supported but you ' +\n",
       "              'have to enable WebSockets in about:config.');\n",
       "    };\n",
       "}\n",
       "\n",
       "mpl.figure = function(figure_id, websocket, ondownload, parent_element) {\n",
       "    this.id = figure_id;\n",
       "\n",
       "    this.ws = websocket;\n",
       "\n",
       "    this.supports_binary = (this.ws.binaryType != undefined);\n",
       "\n",
       "    if (!this.supports_binary) {\n",
       "        var warnings = document.getElementById(\"mpl-warnings\");\n",
       "        if (warnings) {\n",
       "            warnings.style.display = 'block';\n",
       "            warnings.textContent = (\n",
       "                \"This browser does not support binary websocket messages. \" +\n",
       "                    \"Performance may be slow.\");\n",
       "        }\n",
       "    }\n",
       "\n",
       "    this.imageObj = new Image();\n",
       "\n",
       "    this.context = undefined;\n",
       "    this.message = undefined;\n",
       "    this.canvas = undefined;\n",
       "    this.rubberband_canvas = undefined;\n",
       "    this.rubberband_context = undefined;\n",
       "    this.format_dropdown = undefined;\n",
       "\n",
       "    this.image_mode = 'full';\n",
       "\n",
       "    this.root = $('<div/>');\n",
       "    this._root_extra_style(this.root)\n",
       "    this.root.attr('style', 'display: inline-block');\n",
       "\n",
       "    $(parent_element).append(this.root);\n",
       "\n",
       "    this._init_header(this);\n",
       "    this._init_canvas(this);\n",
       "    this._init_toolbar(this);\n",
       "\n",
       "    var fig = this;\n",
       "\n",
       "    this.waiting = false;\n",
       "\n",
       "    this.ws.onopen =  function () {\n",
       "            fig.send_message(\"supports_binary\", {value: fig.supports_binary});\n",
       "            fig.send_message(\"send_image_mode\", {});\n",
       "            fig.send_message(\"refresh\", {});\n",
       "        }\n",
       "\n",
       "    this.imageObj.onload = function() {\n",
       "            if (fig.image_mode == 'full') {\n",
       "                // Full images could contain transparency (where diff images\n",
       "                // almost always do), so we need to clear the canvas so that\n",
       "                // there is no ghosting.\n",
       "                fig.context.clearRect(0, 0, fig.canvas.width, fig.canvas.height);\n",
       "            }\n",
       "            fig.context.drawImage(fig.imageObj, 0, 0);\n",
       "        };\n",
       "\n",
       "    this.imageObj.onunload = function() {\n",
       "        this.ws.close();\n",
       "    }\n",
       "\n",
       "    this.ws.onmessage = this._make_on_message_function(this);\n",
       "\n",
       "    this.ondownload = ondownload;\n",
       "}\n",
       "\n",
       "mpl.figure.prototype._init_header = function() {\n",
       "    var titlebar = $(\n",
       "        '<div class=\"ui-dialog-titlebar ui-widget-header ui-corner-all ' +\n",
       "        'ui-helper-clearfix\"/>');\n",
       "    var titletext = $(\n",
       "        '<div class=\"ui-dialog-title\" style=\"width: 100%; ' +\n",
       "        'text-align: center; padding: 3px;\"/>');\n",
       "    titlebar.append(titletext)\n",
       "    this.root.append(titlebar);\n",
       "    this.header = titletext[0];\n",
       "}\n",
       "\n",
       "\n",
       "\n",
       "mpl.figure.prototype._canvas_extra_style = function(canvas_div) {\n",
       "\n",
       "}\n",
       "\n",
       "\n",
       "mpl.figure.prototype._root_extra_style = function(canvas_div) {\n",
       "\n",
       "}\n",
       "\n",
       "mpl.figure.prototype._init_canvas = function() {\n",
       "    var fig = this;\n",
       "\n",
       "    var canvas_div = $('<div/>');\n",
       "\n",
       "    canvas_div.attr('style', 'position: relative; clear: both; outline: 0');\n",
       "\n",
       "    function canvas_keyboard_event(event) {\n",
       "        return fig.key_event(event, event['data']);\n",
       "    }\n",
       "\n",
       "    canvas_div.keydown('key_press', canvas_keyboard_event);\n",
       "    canvas_div.keyup('key_release', canvas_keyboard_event);\n",
       "    this.canvas_div = canvas_div\n",
       "    this._canvas_extra_style(canvas_div)\n",
       "    this.root.append(canvas_div);\n",
       "\n",
       "    var canvas = $('<canvas/>');\n",
       "    canvas.addClass('mpl-canvas');\n",
       "    canvas.attr('style', \"left: 0; top: 0; z-index: 0; outline: 0\")\n",
       "\n",
       "    this.canvas = canvas[0];\n",
       "    this.context = canvas[0].getContext(\"2d\");\n",
       "\n",
       "    var rubberband = $('<canvas/>');\n",
       "    rubberband.attr('style', \"position: absolute; left: 0; top: 0; z-index: 1;\")\n",
       "\n",
       "    var pass_mouse_events = true;\n",
       "\n",
       "    canvas_div.resizable({\n",
       "        start: function(event, ui) {\n",
       "            pass_mouse_events = false;\n",
       "        },\n",
       "        resize: function(event, ui) {\n",
       "            fig.request_resize(ui.size.width, ui.size.height);\n",
       "        },\n",
       "        stop: function(event, ui) {\n",
       "            pass_mouse_events = true;\n",
       "            fig.request_resize(ui.size.width, ui.size.height);\n",
       "        },\n",
       "    });\n",
       "\n",
       "    function mouse_event_fn(event) {\n",
       "        if (pass_mouse_events)\n",
       "            return fig.mouse_event(event, event['data']);\n",
       "    }\n",
       "\n",
       "    rubberband.mousedown('button_press', mouse_event_fn);\n",
       "    rubberband.mouseup('button_release', mouse_event_fn);\n",
       "    // Throttle sequential mouse events to 1 every 20ms.\n",
       "    rubberband.mousemove('motion_notify', mouse_event_fn);\n",
       "\n",
       "    rubberband.mouseenter('figure_enter', mouse_event_fn);\n",
       "    rubberband.mouseleave('figure_leave', mouse_event_fn);\n",
       "\n",
       "    canvas_div.on(\"wheel\", function (event) {\n",
       "        event = event.originalEvent;\n",
       "        event['data'] = 'scroll'\n",
       "        if (event.deltaY < 0) {\n",
       "            event.step = 1;\n",
       "        } else {\n",
       "            event.step = -1;\n",
       "        }\n",
       "        mouse_event_fn(event);\n",
       "    });\n",
       "\n",
       "    canvas_div.append(canvas);\n",
       "    canvas_div.append(rubberband);\n",
       "\n",
       "    this.rubberband = rubberband;\n",
       "    this.rubberband_canvas = rubberband[0];\n",
       "    this.rubberband_context = rubberband[0].getContext(\"2d\");\n",
       "    this.rubberband_context.strokeStyle = \"#000000\";\n",
       "\n",
       "    this._resize_canvas = function(width, height) {\n",
       "        // Keep the size of the canvas, canvas container, and rubber band\n",
       "        // canvas in synch.\n",
       "        canvas_div.css('width', width)\n",
       "        canvas_div.css('height', height)\n",
       "\n",
       "        canvas.attr('width', width);\n",
       "        canvas.attr('height', height);\n",
       "\n",
       "        rubberband.attr('width', width);\n",
       "        rubberband.attr('height', height);\n",
       "    }\n",
       "\n",
       "    // Set the figure to an initial 600x600px, this will subsequently be updated\n",
       "    // upon first draw.\n",
       "    this._resize_canvas(600, 600);\n",
       "\n",
       "    // Disable right mouse context menu.\n",
       "    $(this.rubberband_canvas).bind(\"contextmenu\",function(e){\n",
       "        return false;\n",
       "    });\n",
       "\n",
       "    function set_focus () {\n",
       "        canvas.focus();\n",
       "        canvas_div.focus();\n",
       "    }\n",
       "\n",
       "    window.setTimeout(set_focus, 100);\n",
       "}\n",
       "\n",
       "mpl.figure.prototype._init_toolbar = function() {\n",
       "    var fig = this;\n",
       "\n",
       "    var nav_element = $('<div/>')\n",
       "    nav_element.attr('style', 'width: 100%');\n",
       "    this.root.append(nav_element);\n",
       "\n",
       "    // Define a callback function for later on.\n",
       "    function toolbar_event(event) {\n",
       "        return fig.toolbar_button_onclick(event['data']);\n",
       "    }\n",
       "    function toolbar_mouse_event(event) {\n",
       "        return fig.toolbar_button_onmouseover(event['data']);\n",
       "    }\n",
       "\n",
       "    for(var toolbar_ind in mpl.toolbar_items) {\n",
       "        var name = mpl.toolbar_items[toolbar_ind][0];\n",
       "        var tooltip = mpl.toolbar_items[toolbar_ind][1];\n",
       "        var image = mpl.toolbar_items[toolbar_ind][2];\n",
       "        var method_name = mpl.toolbar_items[toolbar_ind][3];\n",
       "\n",
       "        if (!name) {\n",
       "            // put a spacer in here.\n",
       "            continue;\n",
       "        }\n",
       "        var button = $('<button/>');\n",
       "        button.addClass('ui-button ui-widget ui-state-default ui-corner-all ' +\n",
       "                        'ui-button-icon-only');\n",
       "        button.attr('role', 'button');\n",
       "        button.attr('aria-disabled', 'false');\n",
       "        button.click(method_name, toolbar_event);\n",
       "        button.mouseover(tooltip, toolbar_mouse_event);\n",
       "\n",
       "        var icon_img = $('<span/>');\n",
       "        icon_img.addClass('ui-button-icon-primary ui-icon');\n",
       "        icon_img.addClass(image);\n",
       "        icon_img.addClass('ui-corner-all');\n",
       "\n",
       "        var tooltip_span = $('<span/>');\n",
       "        tooltip_span.addClass('ui-button-text');\n",
       "        tooltip_span.html(tooltip);\n",
       "\n",
       "        button.append(icon_img);\n",
       "        button.append(tooltip_span);\n",
       "\n",
       "        nav_element.append(button);\n",
       "    }\n",
       "\n",
       "    var fmt_picker_span = $('<span/>');\n",
       "\n",
       "    var fmt_picker = $('<select/>');\n",
       "    fmt_picker.addClass('mpl-toolbar-option ui-widget ui-widget-content');\n",
       "    fmt_picker_span.append(fmt_picker);\n",
       "    nav_element.append(fmt_picker_span);\n",
       "    this.format_dropdown = fmt_picker[0];\n",
       "\n",
       "    for (var ind in mpl.extensions) {\n",
       "        var fmt = mpl.extensions[ind];\n",
       "        var option = $(\n",
       "            '<option/>', {selected: fmt === mpl.default_extension}).html(fmt);\n",
       "        fmt_picker.append(option)\n",
       "    }\n",
       "\n",
       "    // Add hover states to the ui-buttons\n",
       "    $( \".ui-button\" ).hover(\n",
       "        function() { $(this).addClass(\"ui-state-hover\");},\n",
       "        function() { $(this).removeClass(\"ui-state-hover\");}\n",
       "    );\n",
       "\n",
       "    var status_bar = $('<span class=\"mpl-message\"/>');\n",
       "    nav_element.append(status_bar);\n",
       "    this.message = status_bar[0];\n",
       "}\n",
       "\n",
       "mpl.figure.prototype.request_resize = function(x_pixels, y_pixels) {\n",
       "    // Request matplotlib to resize the figure. Matplotlib will then trigger a resize in the client,\n",
       "    // which will in turn request a refresh of the image.\n",
       "    this.send_message('resize', {'width': x_pixels, 'height': y_pixels});\n",
       "}\n",
       "\n",
       "mpl.figure.prototype.send_message = function(type, properties) {\n",
       "    properties['type'] = type;\n",
       "    properties['figure_id'] = this.id;\n",
       "    this.ws.send(JSON.stringify(properties));\n",
       "}\n",
       "\n",
       "mpl.figure.prototype.send_draw_message = function() {\n",
       "    if (!this.waiting) {\n",
       "        this.waiting = true;\n",
       "        this.ws.send(JSON.stringify({type: \"draw\", figure_id: this.id}));\n",
       "    }\n",
       "}\n",
       "\n",
       "\n",
       "mpl.figure.prototype.handle_save = function(fig, msg) {\n",
       "    var format_dropdown = fig.format_dropdown;\n",
       "    var format = format_dropdown.options[format_dropdown.selectedIndex].value;\n",
       "    fig.ondownload(fig, format);\n",
       "}\n",
       "\n",
       "\n",
       "mpl.figure.prototype.handle_resize = function(fig, msg) {\n",
       "    var size = msg['size'];\n",
       "    if (size[0] != fig.canvas.width || size[1] != fig.canvas.height) {\n",
       "        fig._resize_canvas(size[0], size[1]);\n",
       "        fig.send_message(\"refresh\", {});\n",
       "    };\n",
       "}\n",
       "\n",
       "mpl.figure.prototype.handle_rubberband = function(fig, msg) {\n",
       "    var x0 = msg['x0'];\n",
       "    var y0 = fig.canvas.height - msg['y0'];\n",
       "    var x1 = msg['x1'];\n",
       "    var y1 = fig.canvas.height - msg['y1'];\n",
       "    x0 = Math.floor(x0) + 0.5;\n",
       "    y0 = Math.floor(y0) + 0.5;\n",
       "    x1 = Math.floor(x1) + 0.5;\n",
       "    y1 = Math.floor(y1) + 0.5;\n",
       "    var min_x = Math.min(x0, x1);\n",
       "    var min_y = Math.min(y0, y1);\n",
       "    var width = Math.abs(x1 - x0);\n",
       "    var height = Math.abs(y1 - y0);\n",
       "\n",
       "    fig.rubberband_context.clearRect(\n",
       "        0, 0, fig.canvas.width, fig.canvas.height);\n",
       "\n",
       "    fig.rubberband_context.strokeRect(min_x, min_y, width, height);\n",
       "}\n",
       "\n",
       "mpl.figure.prototype.handle_figure_label = function(fig, msg) {\n",
       "    // Updates the figure title.\n",
       "    fig.header.textContent = msg['label'];\n",
       "}\n",
       "\n",
       "mpl.figure.prototype.handle_cursor = function(fig, msg) {\n",
       "    var cursor = msg['cursor'];\n",
       "    switch(cursor)\n",
       "    {\n",
       "    case 0:\n",
       "        cursor = 'pointer';\n",
       "        break;\n",
       "    case 1:\n",
       "        cursor = 'default';\n",
       "        break;\n",
       "    case 2:\n",
       "        cursor = 'crosshair';\n",
       "        break;\n",
       "    case 3:\n",
       "        cursor = 'move';\n",
       "        break;\n",
       "    }\n",
       "    fig.rubberband_canvas.style.cursor = cursor;\n",
       "}\n",
       "\n",
       "mpl.figure.prototype.handle_message = function(fig, msg) {\n",
       "    fig.message.textContent = msg['message'];\n",
       "}\n",
       "\n",
       "mpl.figure.prototype.handle_draw = function(fig, msg) {\n",
       "    // Request the server to send over a new figure.\n",
       "    fig.send_draw_message();\n",
       "}\n",
       "\n",
       "mpl.figure.prototype.handle_image_mode = function(fig, msg) {\n",
       "    fig.image_mode = msg['mode'];\n",
       "}\n",
       "\n",
       "mpl.figure.prototype.updated_canvas_event = function() {\n",
       "    // Called whenever the canvas gets updated.\n",
       "    this.send_message(\"ack\", {});\n",
       "}\n",
       "\n",
       "// A function to construct a web socket function for onmessage handling.\n",
       "// Called in the figure constructor.\n",
       "mpl.figure.prototype._make_on_message_function = function(fig) {\n",
       "    return function socket_on_message(evt) {\n",
       "        if (evt.data instanceof Blob) {\n",
       "            /* FIXME: We get \"Resource interpreted as Image but\n",
       "             * transferred with MIME type text/plain:\" errors on\n",
       "             * Chrome.  But how to set the MIME type?  It doesn't seem\n",
       "             * to be part of the websocket stream */\n",
       "            evt.data.type = \"image/png\";\n",
       "\n",
       "            /* Free the memory for the previous frames */\n",
       "            if (fig.imageObj.src) {\n",
       "                (window.URL || window.webkitURL).revokeObjectURL(\n",
       "                    fig.imageObj.src);\n",
       "            }\n",
       "\n",
       "            fig.imageObj.src = (window.URL || window.webkitURL).createObjectURL(\n",
       "                evt.data);\n",
       "            fig.updated_canvas_event();\n",
       "            fig.waiting = false;\n",
       "            return;\n",
       "        }\n",
       "        else if (typeof evt.data === 'string' && evt.data.slice(0, 21) == \"data:image/png;base64\") {\n",
       "            fig.imageObj.src = evt.data;\n",
       "            fig.updated_canvas_event();\n",
       "            fig.waiting = false;\n",
       "            return;\n",
       "        }\n",
       "\n",
       "        var msg = JSON.parse(evt.data);\n",
       "        var msg_type = msg['type'];\n",
       "\n",
       "        // Call the  \"handle_{type}\" callback, which takes\n",
       "        // the figure and JSON message as its only arguments.\n",
       "        try {\n",
       "            var callback = fig[\"handle_\" + msg_type];\n",
       "        } catch (e) {\n",
       "            console.log(\"No handler for the '\" + msg_type + \"' message type: \", msg);\n",
       "            return;\n",
       "        }\n",
       "\n",
       "        if (callback) {\n",
       "            try {\n",
       "                // console.log(\"Handling '\" + msg_type + \"' message: \", msg);\n",
       "                callback(fig, msg);\n",
       "            } catch (e) {\n",
       "                console.log(\"Exception inside the 'handler_\" + msg_type + \"' callback:\", e, e.stack, msg);\n",
       "            }\n",
       "        }\n",
       "    };\n",
       "}\n",
       "\n",
       "// from http://stackoverflow.com/questions/1114465/getting-mouse-location-in-canvas\n",
       "mpl.findpos = function(e) {\n",
       "    //this section is from http://www.quirksmode.org/js/events_properties.html\n",
       "    var targ;\n",
       "    if (!e)\n",
       "        e = window.event;\n",
       "    if (e.target)\n",
       "        targ = e.target;\n",
       "    else if (e.srcElement)\n",
       "        targ = e.srcElement;\n",
       "    if (targ.nodeType == 3) // defeat Safari bug\n",
       "        targ = targ.parentNode;\n",
       "\n",
       "    // jQuery normalizes the pageX and pageY\n",
       "    // pageX,Y are the mouse positions relative to the document\n",
       "    // offset() returns the position of the element relative to the document\n",
       "    var x = e.pageX - $(targ).offset().left;\n",
       "    var y = e.pageY - $(targ).offset().top;\n",
       "\n",
       "    return {\"x\": x, \"y\": y};\n",
       "};\n",
       "\n",
       "/*\n",
       " * return a copy of an object with only non-object keys\n",
       " * we need this to avoid circular references\n",
       " * http://stackoverflow.com/a/24161582/3208463\n",
       " */\n",
       "function simpleKeys (original) {\n",
       "  return Object.keys(original).reduce(function (obj, key) {\n",
       "    if (typeof original[key] !== 'object')\n",
       "        obj[key] = original[key]\n",
       "    return obj;\n",
       "  }, {});\n",
       "}\n",
       "\n",
       "mpl.figure.prototype.mouse_event = function(event, name) {\n",
       "    var canvas_pos = mpl.findpos(event)\n",
       "\n",
       "    if (name === 'button_press')\n",
       "    {\n",
       "        this.canvas.focus();\n",
       "        this.canvas_div.focus();\n",
       "    }\n",
       "\n",
       "    var x = canvas_pos.x;\n",
       "    var y = canvas_pos.y;\n",
       "\n",
       "    this.send_message(name, {x: x, y: y, button: event.button,\n",
       "                             step: event.step,\n",
       "                             guiEvent: simpleKeys(event)});\n",
       "\n",
       "    /* This prevents the web browser from automatically changing to\n",
       "     * the text insertion cursor when the button is pressed.  We want\n",
       "     * to control all of the cursor setting manually through the\n",
       "     * 'cursor' event from matplotlib */\n",
       "    event.preventDefault();\n",
       "    return false;\n",
       "}\n",
       "\n",
       "mpl.figure.prototype._key_event_extra = function(event, name) {\n",
       "    // Handle any extra behaviour associated with a key event\n",
       "}\n",
       "\n",
       "mpl.figure.prototype.key_event = function(event, name) {\n",
       "\n",
       "    // Prevent repeat events\n",
       "    if (name == 'key_press')\n",
       "    {\n",
       "        if (event.which === this._key)\n",
       "            return;\n",
       "        else\n",
       "            this._key = event.which;\n",
       "    }\n",
       "    if (name == 'key_release')\n",
       "        this._key = null;\n",
       "\n",
       "    var value = '';\n",
       "    if (event.ctrlKey && event.which != 17)\n",
       "        value += \"ctrl+\";\n",
       "    if (event.altKey && event.which != 18)\n",
       "        value += \"alt+\";\n",
       "    if (event.shiftKey && event.which != 16)\n",
       "        value += \"shift+\";\n",
       "\n",
       "    value += 'k';\n",
       "    value += event.which.toString();\n",
       "\n",
       "    this._key_event_extra(event, name);\n",
       "\n",
       "    this.send_message(name, {key: value,\n",
       "                             guiEvent: simpleKeys(event)});\n",
       "    return false;\n",
       "}\n",
       "\n",
       "mpl.figure.prototype.toolbar_button_onclick = function(name) {\n",
       "    if (name == 'download') {\n",
       "        this.handle_save(this, null);\n",
       "    } else {\n",
       "        this.send_message(\"toolbar_button\", {name: name});\n",
       "    }\n",
       "};\n",
       "\n",
       "mpl.figure.prototype.toolbar_button_onmouseover = function(tooltip) {\n",
       "    this.message.textContent = tooltip;\n",
       "};\n",
       "mpl.toolbar_items = [[\"Home\", \"Reset original view\", \"fa fa-home icon-home\", \"home\"], [\"Back\", \"Back to  previous view\", \"fa fa-arrow-left icon-arrow-left\", \"back\"], [\"Forward\", \"Forward to next view\", \"fa fa-arrow-right icon-arrow-right\", \"forward\"], [\"\", \"\", \"\", \"\"], [\"Pan\", \"Pan axes with left mouse, zoom with right\", \"fa fa-arrows icon-move\", \"pan\"], [\"Zoom\", \"Zoom to rectangle\", \"fa fa-square-o icon-check-empty\", \"zoom\"], [\"\", \"\", \"\", \"\"], [\"Download\", \"Download plot\", \"fa fa-floppy-o icon-save\", \"download\"]];\n",
       "\n",
       "mpl.extensions = [\"eps\", \"pdf\", \"png\", \"ps\", \"raw\", \"svg\"];\n",
       "\n",
       "mpl.default_extension = \"png\";var comm_websocket_adapter = function(comm) {\n",
       "    // Create a \"websocket\"-like object which calls the given IPython comm\n",
       "    // object with the appropriate methods. Currently this is a non binary\n",
       "    // socket, so there is still some room for performance tuning.\n",
       "    var ws = {};\n",
       "\n",
       "    ws.close = function() {\n",
       "        comm.close()\n",
       "    };\n",
       "    ws.send = function(m) {\n",
       "        //console.log('sending', m);\n",
       "        comm.send(m);\n",
       "    };\n",
       "    // Register the callback with on_msg.\n",
       "    comm.on_msg(function(msg) {\n",
       "        //console.log('receiving', msg['content']['data'], msg);\n",
       "        // Pass the mpl event to the overriden (by mpl) onmessage function.\n",
       "        ws.onmessage(msg['content']['data'])\n",
       "    });\n",
       "    return ws;\n",
       "}\n",
       "\n",
       "mpl.mpl_figure_comm = function(comm, msg) {\n",
       "    // This is the function which gets called when the mpl process\n",
       "    // starts-up an IPython Comm through the \"matplotlib\" channel.\n",
       "\n",
       "    var id = msg.content.data.id;\n",
       "    // Get hold of the div created by the display call when the Comm\n",
       "    // socket was opened in Python.\n",
       "    var element = $(\"#\" + id);\n",
       "    var ws_proxy = comm_websocket_adapter(comm)\n",
       "\n",
       "    function ondownload(figure, format) {\n",
       "        window.open(figure.imageObj.src);\n",
       "    }\n",
       "\n",
       "    var fig = new mpl.figure(id, ws_proxy,\n",
       "                           ondownload,\n",
       "                           element.get(0));\n",
       "\n",
       "    // Call onopen now - mpl needs it, as it is assuming we've passed it a real\n",
       "    // web socket which is closed, not our websocket->open comm proxy.\n",
       "    ws_proxy.onopen();\n",
       "\n",
       "    fig.parent_element = element.get(0);\n",
       "    fig.cell_info = mpl.find_output_cell(\"<div id='\" + id + \"'></div>\");\n",
       "    if (!fig.cell_info) {\n",
       "        console.error(\"Failed to find cell for figure\", id, fig);\n",
       "        return;\n",
       "    }\n",
       "\n",
       "    var output_index = fig.cell_info[2]\n",
       "    var cell = fig.cell_info[0];\n",
       "\n",
       "};\n",
       "\n",
       "mpl.figure.prototype.handle_close = function(fig, msg) {\n",
       "    fig.root.unbind('remove')\n",
       "\n",
       "    // Update the output cell to use the data from the current canvas.\n",
       "    fig.push_to_output();\n",
       "    var dataURL = fig.canvas.toDataURL();\n",
       "    // Re-enable the keyboard manager in IPython - without this line, in FF,\n",
       "    // the notebook keyboard shortcuts fail.\n",
       "    IPython.keyboard_manager.enable()\n",
       "    $(fig.parent_element).html('<img src=\"' + dataURL + '\">');\n",
       "    fig.close_ws(fig, msg);\n",
       "}\n",
       "\n",
       "mpl.figure.prototype.close_ws = function(fig, msg){\n",
       "    fig.send_message('closing', msg);\n",
       "    // fig.ws.close()\n",
       "}\n",
       "\n",
       "mpl.figure.prototype.push_to_output = function(remove_interactive) {\n",
       "    // Turn the data on the canvas into data in the output cell.\n",
       "    var dataURL = this.canvas.toDataURL();\n",
       "    this.cell_info[1]['text/html'] = '<img src=\"' + dataURL + '\">';\n",
       "}\n",
       "\n",
       "mpl.figure.prototype.updated_canvas_event = function() {\n",
       "    // Tell IPython that the notebook contents must change.\n",
       "    IPython.notebook.set_dirty(true);\n",
       "    this.send_message(\"ack\", {});\n",
       "    var fig = this;\n",
       "    // Wait a second, then push the new image to the DOM so\n",
       "    // that it is saved nicely (might be nice to debounce this).\n",
       "    setTimeout(function () { fig.push_to_output() }, 1000);\n",
       "}\n",
       "\n",
       "mpl.figure.prototype._init_toolbar = function() {\n",
       "    var fig = this;\n",
       "\n",
       "    var nav_element = $('<div/>')\n",
       "    nav_element.attr('style', 'width: 100%');\n",
       "    this.root.append(nav_element);\n",
       "\n",
       "    // Define a callback function for later on.\n",
       "    function toolbar_event(event) {\n",
       "        return fig.toolbar_button_onclick(event['data']);\n",
       "    }\n",
       "    function toolbar_mouse_event(event) {\n",
       "        return fig.toolbar_button_onmouseover(event['data']);\n",
       "    }\n",
       "\n",
       "    for(var toolbar_ind in mpl.toolbar_items){\n",
       "        var name = mpl.toolbar_items[toolbar_ind][0];\n",
       "        var tooltip = mpl.toolbar_items[toolbar_ind][1];\n",
       "        var image = mpl.toolbar_items[toolbar_ind][2];\n",
       "        var method_name = mpl.toolbar_items[toolbar_ind][3];\n",
       "\n",
       "        if (!name) { continue; };\n",
       "\n",
       "        var button = $('<button class=\"btn btn-default\" href=\"#\" title=\"' + name + '\"><i class=\"fa ' + image + ' fa-lg\"></i></button>');\n",
       "        button.click(method_name, toolbar_event);\n",
       "        button.mouseover(tooltip, toolbar_mouse_event);\n",
       "        nav_element.append(button);\n",
       "    }\n",
       "\n",
       "    // Add the status bar.\n",
       "    var status_bar = $('<span class=\"mpl-message\" style=\"text-align:right; float: right;\"/>');\n",
       "    nav_element.append(status_bar);\n",
       "    this.message = status_bar[0];\n",
       "\n",
       "    // Add the close button to the window.\n",
       "    var buttongrp = $('<div class=\"btn-group inline pull-right\"></div>');\n",
       "    var button = $('<button class=\"btn btn-mini btn-primary\" href=\"#\" title=\"Stop Interaction\"><i class=\"fa fa-power-off icon-remove icon-large\"></i></button>');\n",
       "    button.click(function (evt) { fig.handle_close(fig, {}); } );\n",
       "    button.mouseover('Stop Interaction', toolbar_mouse_event);\n",
       "    buttongrp.append(button);\n",
       "    var titlebar = this.root.find($('.ui-dialog-titlebar'));\n",
       "    titlebar.prepend(buttongrp);\n",
       "}\n",
       "\n",
       "mpl.figure.prototype._root_extra_style = function(el){\n",
       "    var fig = this\n",
       "    el.on(\"remove\", function(){\n",
       "\tfig.close_ws(fig, {});\n",
       "    });\n",
       "}\n",
       "\n",
       "mpl.figure.prototype._canvas_extra_style = function(el){\n",
       "    // this is important to make the div 'focusable\n",
       "    el.attr('tabindex', 0)\n",
       "    // reach out to IPython and tell the keyboard manager to turn it's self\n",
       "    // off when our div gets focus\n",
       "\n",
       "    // location in version 3\n",
       "    if (IPython.notebook.keyboard_manager) {\n",
       "        IPython.notebook.keyboard_manager.register_events(el);\n",
       "    }\n",
       "    else {\n",
       "        // location in version 2\n",
       "        IPython.keyboard_manager.register_events(el);\n",
       "    }\n",
       "\n",
       "}\n",
       "\n",
       "mpl.figure.prototype._key_event_extra = function(event, name) {\n",
       "    var manager = IPython.notebook.keyboard_manager;\n",
       "    if (!manager)\n",
       "        manager = IPython.keyboard_manager;\n",
       "\n",
       "    // Check for shift+enter\n",
       "    if (event.shiftKey && event.which == 13) {\n",
       "        this.canvas_div.blur();\n",
       "        // select the cell after this one\n",
       "        var index = IPython.notebook.find_cell_index(this.cell_info[0]);\n",
       "        IPython.notebook.select(index + 1);\n",
       "    }\n",
       "}\n",
       "\n",
       "mpl.figure.prototype.handle_save = function(fig, msg) {\n",
       "    fig.ondownload(fig, null);\n",
       "}\n",
       "\n",
       "\n",
       "mpl.find_output_cell = function(html_output) {\n",
       "    // Return the cell and output element which can be found *uniquely* in the notebook.\n",
       "    // Note - this is a bit hacky, but it is done because the \"notebook_saving.Notebook\"\n",
       "    // IPython event is triggered only after the cells have been serialised, which for\n",
       "    // our purposes (turning an active figure into a static one), is too late.\n",
       "    var cells = IPython.notebook.get_cells();\n",
       "    var ncells = cells.length;\n",
       "    for (var i=0; i<ncells; i++) {\n",
       "        var cell = cells[i];\n",
       "        if (cell.cell_type === 'code'){\n",
       "            for (var j=0; j<cell.output_area.outputs.length; j++) {\n",
       "                var data = cell.output_area.outputs[j];\n",
       "                if (data.data) {\n",
       "                    // IPython >= 3 moved mimebundle to data attribute of output\n",
       "                    data = data.data;\n",
       "                }\n",
       "                if (data['text/html'] == html_output) {\n",
       "                    return [cell, data, j];\n",
       "                }\n",
       "            }\n",
       "        }\n",
       "    }\n",
       "}\n",
       "\n",
       "// Register the function which deals with the matplotlib target/channel.\n",
       "// The kernel may be null if the page has been refreshed.\n",
       "if (IPython.notebook.kernel != null) {\n",
       "    IPython.notebook.kernel.comm_manager.register_target('matplotlib', mpl.mpl_figure_comm);\n",
       "}\n"
      ],
      "text/plain": [
       "<IPython.core.display.Javascript object>"
      ]
     },
     "metadata": {},
     "output_type": "display_data"
    },
    {
     "data": {
      "text/html": [
       "<img src=\"data:image/png;base64,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\">"
      ],
      "text/plain": [
       "<IPython.core.display.HTML object>"
      ]
     },
     "metadata": {},
     "output_type": "display_data"
    }
   ],
   "source": [
    "%matplotlib notebook\n",
    "from add_del_visualize import visualize\n",
    "visualize()"
   ]
  },
  {
   "cell_type": "markdown",
   "metadata": {
    "slideshow": {
     "slide_type": "slide"
    }
   },
   "source": [
    "## Дополнительные определения и леммы для динамической триангуляции <a id=\"adddef\"></a>\n",
    " <img src=\"Pictures/flip.png\" style=\"float: right; width: 180px;\"/>\n",
    "**Локальный критерий Делоне для ребра** — пара треугольников, которым принадлежит это ребро, является триангуляцией Делоне вершин этих треугольников (то есть вершина, противолежащая ребру в одном треугольнике, не лежит в окружности, описанной вокруг другого треугольника, и наоборот).\n",
    "\n",
    "\n",
    "На рисунке справа локальный критерий Делоне выполнен только для синего ребра.\n",
    "\n",
    "Будем называть **хорошими** те рёбра, для которых выполняется локальный критерий Делоне.\n",
    "\n",
    "Рассмотрим пару смежных треугольников. Рёбра этих треугольников образуют четырёхугольник с проведённой в нём диагональю. Если этот четырёхугольник выпуклый, то возможна операция замены этой диагонали на другую, такая операция называется **флип (flip)**.\n",
    "\n",
    "<img src=\"Pictures/Flip2.png\" style=\"float: right; width: 320px;\"/>\n",
    "На рисунке справа флип переводит красное ребро в синее.\n",
    "\n",
    "\n",
    "**Замечание:** Если два смежных с ребором треугольника образуют невыпуклый четырёхугольник, то это ребро является хорошим. \n"
   ]
  },
  {
   "cell_type": "markdown",
   "metadata": {
    "slideshow": {
     "slide_type": "fragment"
    }
   },
   "source": [
    "**Глобальный критерий Делоне для триангуляции** — ни одна из окружностей, описанных вокруг треугольников из триангуляции не содержит других точек кроме вершин этого треугольника.\n",
    "#### Лемма\n",
    "\n",
    "<img src=\"Pictures/Global.png\" style=\"float: right; width: 200px;\"/> \n",
    "\n",
    "Если для всех ребер триангуляции выполнен локальный критерий Делоне, то для неё выполнен и глобальный критерий Делоне.\n",
    "<br>$\\triangleright$<br><div style=\"padding-left:40px\">\n",
    "Докажем методом от противного. Предположим, что все ребра хорошие, но существует точка $E$, которая пренадлежит некоторым треугольникам из триангуляции и не является их вершиной. Из всех таких треугольников выберем $ABC$, такой что угол $\\angle{BEC}$ максимален, при $BC$ ближайшей стороне к точке $E$. \n",
    "\n",
    "Рассмотрим треугольник $BCD$ смежный с $ABC$. Так как ребро $BC$ хорошее, то $D$ лежит вне его описанной окружности, значит, $\\angle{BAC} + \\angle{BDC} < 180^{\\circ}$. Так как $E$ лежит внутри описанной окружности $ABC$, то $\\angle{BAC} + \\angle{BEC} > 180^{\\circ}$. Из полученных неравенств следует, что $\\angle{BEC} > \\angle{BDC}$. Значит, точка $E$ лежит внутри описанной окружности треугольника $BCD$. А так как $\\angle{BED} > \\angle{BEC}$ получили противоречие с условием выбора треугольника $ABC$.\n",
    "</div>$\\triangleleft$\n"
   ]
  },
  {
   "cell_type": "markdown",
   "metadata": {
    "slideshow": {
     "slide_type": "slide"
    }
   },
   "source": [
    "Необходимо также понимать, что триангуляция Делоне является нижней выпуклой оболочкой точек, поднятых на параболоид, где мы считаем, что существует бесконечно удаленная по оси $z$ точка, которая образует бесконечные треугольные грани с крайними точками из оболочки.\n",
    "<img src=\"Pictures/paraboloid.png\" style=\"float: center; width: 500px;\"/> "
   ]
  },
  {
   "cell_type": "markdown",
   "metadata": {
    "slideshow": {
     "slide_type": "slide"
    }
   },
   "source": [
    "<img src=\"Pictures/lemma1.png\" style=\"float: right;\" />\n",
    "#### Лемма 1\n",
    "Флип плохого ребра заменяет его хорошим.\n",
    "<br>$\\triangleright$<br><div style=\"padding-left:40px\">\n",
    "Докажем, что из двух рёбер, которые можно провести для пары треугольников, как минимум одно хорошее.<br>\n",
    "Предположим, что это не так, то есть оба ребра (назовём их $AB$ и $CD$) плохие. Рассмотрим четырёхугольник $ACBD$ и окружность, описанную вокруг треугольника $ABC$. Точка $D$ лежит внутри этой окружности, значит, сумма углов $C$ и $D$ больше $180^{\\circ}$. Аналогично доказывается, что сумма углов $A$ и $B$ больше $180^{\\circ}$. Значит, сумма углов четырёхугольника $ACBD$ больше $360^{\\circ}$, что невозможно.<br>\n",
    "</div>$\\triangleleft$"
   ]
  },
  {
   "cell_type": "markdown",
   "metadata": {
    "slideshow": {
     "slide_type": "slide"
    }
   },
   "source": [
    "<img src=\"Pictures/Good_edge.png\" style=\"float: right;\" />\n",
    "#### Лемма 2\n",
    "\n",
    "Если в триангуляцию Делоне вставить точку в некоторый треугольник и соединить его вершины с этой точкой, то получившиеся рёбра будут хорошими.\n",
    "<br>$\\triangleright$<br><div style=\"padding-left:40px\">\n",
    "Предположим, точка была вставлена не на ребро. Рассмотрим любое из рёбер — пусть это будет ребро $VC$. Проведём окружность, описывающую треугольник $ABC$. По критерию Делоне в ней не будет никаких точек триангуляции. На ребре $VC$ можно построить окружность, изнутри касающуюся окружности, описанной вокруг треугольника. В ней тоже нет никаких точек. Значит, для $VC$ выполняется критерий Делоне для рёбер, значит, ребро должно принадлежать триангуляции с добавленной точкой $V$, значит, оно хорошее.\n",
    "    \n",
    "Случай, когда точка вставляется на ребро, рассматривается аналогично.<br>\n",
    "</div>$\\triangleleft$"
   ]
  },
  {
   "cell_type": "markdown",
   "metadata": {
    "slideshow": {
     "slide_type": "slide"
    }
   },
   "source": [
    "## Алгоритм вставки <a id=\"insert\"></a>"
   ]
  },
  {
   "cell_type": "markdown",
   "metadata": {
    "slideshow": {
     "slide_type": "fragment"
    }
   },
   "source": [
    "### Краткий план алгоритма\n",
    "\n",
    "1. Определяем, в каком фейсе (или на каком ребре) лежит точка. Для этого используем алгоритм локализации (ссылка)\n",
    "2. Добавляем три ребра, сам фейс превращаем в один из новых смежных с вставляемой точкой и добавялем ещё два фейса.\n",
    "3. Плохие ребра с помощью флипов заменяем на хорошие.\n"
   ]
  },
  {
   "cell_type": "markdown",
   "metadata": {
    "slideshow": {
     "slide_type": "slide"
    }
   },
   "source": [
    "#### Пример <br>\n",
    "| [![First](Pictures/first.png)](first)  | [![Second](Pictures/second.png)](second) | [![Third](Pictures/third.png)](third) |\n",
    "|:---:|:---:|:---:|\n",
    "| Триангуляция до выполниения вставки | Состояние после второго шага (зеленые ребра появились, синие ребра стали плохими)| Триангуляция после третьего шага |"
   ]
  },
  {
   "cell_type": "markdown",
   "metadata": {
    "slideshow": {
     "slide_type": "slide"
    }
   },
   "source": [
    "### Подробности реализации алгоритма вставки\n",
    "\n",
    "Пусть $q$ — вставляемая точка. <br>\n",
    "**Заметим**, что все добавленные в пункте 2 ребра по **лемме 2** являются хорошими. Плохими могут стать ребра противолежащие точке $q$. После пункта 1 мы имеем три таких ребра. Рассмотрим выпуклый четыехугольник, в котором происходит флип. Этот четырехугольник имеет ровно два ребра инцидентных $q$, флип порождат еще одно такое ребро. Ровно два ребра четырехугольника, которые не были инцидентны $q$, становятся противолежащими $q$ и могут оказаться плохими (докажем это в **лемме 3**).<br>\n",
    "\n",
    "| [![Lemmaa](Pictures/Flip3.png)](lemmaa)|\n",
    "|::|\n",
    "|Ребро $CE$ флипается в ребро $FD$, рёбра $CD$ и $DE$ могут оказаться плохими|\n",
    "\n",
    "<br>\n",
    "Будем добавлять потенциально плохие ребра в очередь. При обработке очередного ребра из очереди будет происходить либо флип с добавлением двух рёбер в очередь в случае, если ребро плохое, либо пропуск ребра, если оно хорошее.<br>\n",
    "Докажем, что этот процесс завершится, с помощью **леммы 4** и **леммы 5**.\n"
   ]
  },
  {
   "cell_type": "markdown",
   "metadata": {
    "slideshow": {
     "slide_type": "slide"
    }
   },
   "source": [
    "#### Лемма 3\n",
    "\n",
    "При вставке точки будут флипаться только рёбра, противолежащие вставленной точке.\n",
    "<br>$\\triangleright$<br><div style=\"padding-left:40px\">\n",
    "Доказательство по индукции.\n",
    "\n",
    "База. По **лемме 2** изначально не будут флипаться новые рёбра, инцидентные точке, то есть плохими могут оказаться только рёбра, противолежащие точке.\n",
    "\n",
    "Переход. Рассмотрим, что произойдёт с противолежащим точке $V$ ребром $AC$ после флипа, если оно плохое. До вставки точки $V$ для триангуляции выполнялся глобальный критерий Делоне, поэтому в окружности, описанной вокруг треугольника $ACD$, не будет лежать никаких точек, кроме точки $V$. Можно построить окружность, касающуюся её изнутри в точке $D$ и проходящую через точку $V$. В ней тоже не окажется никаких точек, так как она касается изнутри. Значит, для ребра $VD$ выполняется критерий Делоне. Значит, после флипа ребро $AC$ уже не будет флипаться. Так как для рёбер $AV$ и $CV$ выполняется критерий Делоне, то плохими после флипа могут стать только рёбра $AD$ и $CD$ — то есть рёбра, противолежащие точке $V$.\n",
    "</div>$\\triangleleft$\n",
    "\n",
    "| [![Lemma3](Pictures/lemma3.png)](lemma3)|\n",
    "|::|\n",
    "|$V$ — вставленная точка, ребро $AC$ — плохое|\n"
   ]
  },
  {
   "cell_type": "markdown",
   "metadata": {},
   "source": [
    "#### Лемма 4\n",
    "\n",
    " Флип плохого ребра уменьшает разность объёмов параболоида и триангуляции, спроецированной на него.\n",
    "\n",
    "$\\triangleright$\n",
    "\n",
    "<div style=\"padding-left:27px\" >\n",
    "Рассмотрим два таких смежных треугольника, что ребро между ними является плохим. Спроецируем их на параболоид. Четыре точки, принадлежащие смежным треугольникам, при проекции на параболоид образуют тетраэдр.<br>\n",
    "Проведём через любой из двух треугольников плоскость. Вершина, противолежащая основанию тетраэдра, являющегося этим треугольником, лежит ниже этой плоскости (так как не выполняется локальный критерий Делоне), то есть тетраэдр лежит ниже тела, образующегося при проекции всей триангуляции на параболоид.\n",
    "После флипа станет выполняться локальный критерий Делоне, то есть тело станет включать в себя тетраэдр. Поэтому после флипа плохого ребра объём тела увеличится на объём этого тетраэдра.\n",
    "</div>\n",
    "\n",
    "$\\triangleleft$"
   ]
  },
  {
   "cell_type": "markdown",
   "metadata": {},
   "source": [
    "#### Лемма 5\n",
    "\n",
    " Любая триангуляция сводится к триангуляции Делоне за конечное число флипов.\n",
    "\n",
    "$\\triangleright$\n",
    "\n",
    "<div style=\"padding-left:27px\" >\n",
    "Всего триангуляций заданного множества точек конечное число, и среди них есть триангуляция Делоне. Последовательность флипов плохих рёбер триангуляции образует такую последовательность триангуляций, что разность объёмов параболоида и спроецированной на него триангуляции убывает (по **лемме 4**). Эта последовательность конечна (при этом последней в последовательности является триангуляция Делоне), значит, число флипов, требуемых для достижения триангуляции Делоне, тоже конечно.\n",
    "</div>\n",
    "\n",
    "$\\triangleleft$"
   ]
  },
  {
   "cell_type": "markdown",
   "metadata": {},
   "source": [
    "**Замечание 1** <br> \n",
    "Если вставляемая точка попадает на ребро, на шаге 2 получится треугольник с углом в $180^{\\circ}$, в котором это ребро является противолежащим вставляемой точке. Тогда оно попадет в очередь и в некоторый момент произойдет флип этого ребра, так как оно стало плохим для новой триангуляции.\n"
   ]
  },
  {
   "cell_type": "markdown",
   "metadata": {
    "slideshow": {
     "slide_type": "skip"
    }
   },
   "source": [
    "**Замечание 2** <br>\n",
    "Вставка точки, не лежащей внутри выпуклой оболочки имеющихся точек, сводится к обычной вставке точки, благодаря предположению о существовании бесконечно удаленной по оси $z$ точки, имеющей координаты $(0,0,1,0)$ (последняя координата — однородная).\n"
   ]
  },
  {
   "cell_type": "markdown",
   "metadata": {
    "slideshow": {
     "slide_type": "slide"
    }
   },
   "source": [
    "## Алгоритм удаления <a id=\"remove\"></a>"
   ]
  },
  {
   "cell_type": "markdown",
   "metadata": {
    "slideshow": {
     "slide_type": "fragment"
    }
   },
   "source": [
    "### Краткий план алгоритма\n",
    "1. 1а. Если у точки три или менее инцидентных ребра, перейдем к шагу 2. <br> \n",
    "   1б. Иначе будем флипать рёбра инцидентные удаляемой точке в некотором порядке, пока не останется ровно три ребра.\n",
    "2. Удалим точку и инцидентные ей рёбра."
   ]
  },
  {
   "cell_type": "markdown",
   "metadata": {
    "slideshow": {
     "slide_type": "slide"
    }
   },
   "source": [
    "### Порядок флипов\n",
    "Пусть $p$ — удаляемая точка, $\\{q_0, q_1, \\ldots, q_n = q_0\\}$ — смежные с $p$ точки в порядке обхода против часовой стрелки. Пусть точки $p$ и $q_i$ задают очередное ребро. Заметим, что точки $p$, $q_{i-1}$, $q_i$, $q_{i+1}$, поднятые на параболоид, образуют тетраэдр. Будем флипать рёбра в порядке увеличения высоты соответствующих тетраэдров. В данном алгоритме будем использовать высоту со знаком, где высота принимает отрицательное значение, если точка $p$ находится под плоскостью $q_{i-1}q_iq_{i+1}$ и положительное иначе."
   ]
  },
  {
   "cell_type": "markdown",
   "metadata": {},
   "source": [
    "### Лемма\n",
    "Рассмотрим многоугольник $H = \\{q_0, q_1, \\ldots , q_{k−1}, q_k = q_0\\}$ и точку $p$, такие что ребра $q_iq_{i+1}$ принадлежат триангуляции Делоне точек $\\{q_0, q_1, \\ldots , q_{k−1}, p\\}$. Тогда если абсолютное значение высоты тетраэдра $p \\, q_i \\, q_{i+1} \\, q_{i+2}$ из точки $p$ максимально, то ребро $q_iq_{i+2}$ принадлежит триангуляции Делоне для точек $\\{q_0, q_1, \\ldots , q_{k−1}\\}$."
   ]
  },
  {
   "cell_type": "markdown",
   "metadata": {
    "slideshow": {
     "slide_type": "slide"
    }
   },
   "source": [
    "### Подробности реализации\n",
    "Так как после флипа ребра $pq_i$ у точек $q_{i-1}$ и $q_{i+1}$ меняется один сосед в обходе (они становятся соседними друг с другом вместо $q_i$), будем поддерживать приоритетную очередь, где значения — рёбра из точки $p$, а ключи — высоты соответствующих тетраэдров, и после флипа обновлять значения.\n",
    "\n",
    "Высоту будем вычислять по формуле: <br>\n",
    "$h(p,q_{i-1},q_i,q_{i+1}) = \\frac{\n",
    "\\begin{vmatrix}\n",
    "q_{i-1(x)}                    & q_{i(x)}                    & q_{i+1(x)}                    & p_{(x)}                 & \\\\ \n",
    "q_{i-1(y)}                    & q_{i(y)}                    & q_{i+1(y)}                    & p_{(y)}                 & \\\\ \n",
    "q_{i-1(x)}^2 + q_{i-1(y)} ^ 2 & q_{i(x)}^2 + q_{i(y)} ^ 2   & q_{i+1(x)}^2 + q_{i+1(y)} ^ 2 & p_{(x)}^2 + p_{(y)} ^ 2 & \\\\ \n",
    "1                             & 1                           & 1                             & 1                       &\n",
    "\\end{vmatrix} } {\n",
    "\\begin{vmatrix}\n",
    "q_{i-1(x)}                    & q_{i(x)}                    & q_{i+1(x)} & \\\\ \n",
    "q_{i-1(y)}                    & q_{i(y)}                    & q_{i+1(y)} & \\\\ \n",
    "1                             & 1                           & 1          &\n",
    "\\end{vmatrix}\n",
    "}$\n"
   ]
  },
  {
   "cell_type": "markdown",
   "metadata": {
    "slideshow": {
     "slide_type": "slide"
    }
   },
   "source": [
    "#### Пример <br>\n",
    "| <img src=\"Pictures/del1.png \" width=\"300px\">  | <img src=\"Pictures/del2.png \" width=\"300px\"> | <img src=\"Pictures/del3.png \" width=\"300px\"> |\n",
    "|:---:|:---:|:---:|\n",
    "| Триангуляция до выполниения удаления |После всех флипов (синим обозначены новые рёбра)|Триангуляция после удаления точки |"
   ]
  },
  {
   "cell_type": "markdown",
   "metadata": {
    "slideshow": {
     "slide_type": "slide"
    }
   },
   "source": [
    "## Время работы <a id=\"time\"></a>"
   ]
  },
  {
   "cell_type": "markdown",
   "metadata": {
    "slideshow": {
     "slide_type": "slide"
    }
   },
   "source": [
    "### Вставка"
   ]
  },
  {
   "cell_type": "markdown",
   "metadata": {
    "slideshow": {
     "slide_type": "fragment"
    }
   },
   "source": [
    "#### Лемма 6\n",
    "Средняя степень вершины после вставки её в триангуляцию Делоне равна $O(1)$.\n",
    "<br>$\\triangleright$<br><div style=\"padding-left:40px\">\n",
    "Так как триангуляция представляет собой планарный граф, применима формула Эйлера и следствие из него: для связного планарного графа с $V$ вершинами и $E$ ребрами выполнено неравенство $E \\le 3V - 6$. Тогда среднюю степень вершины можно оценить как $d_{average}= \\frac{2E}V \\le 2 \\cdot \\frac{3V - 6} V = O(1)$\n",
    "<br></div>$\\triangleleft$"
   ]
  },
  {
   "cell_type": "markdown",
   "metadata": {
    "slideshow": {
     "slide_type": "fragment"
    }
   },
   "source": [
    "**Теорема** <br>\n",
    "При вставке точки в триангуляцию Делоне в среднем придётся сделать $O(1)$ флипов.\n",
    "<br>$\\triangleright$<br><div style=\"padding-left:40px\">\n",
    "Все флипнутые рёбра окажутся инцидентными вставленной точке (**по лемме 3**), а степень вершины — $O(1)$ (**по лемме 6**). Поэтому будет сделано $O(1)$ флипов.\n",
    "<br></div>$\\triangleleft$\n"
   ]
  },
  {
   "cell_type": "markdown",
   "metadata": {
    "slideshow": {
     "slide_type": "slide"
    }
   },
   "source": [
    "**Замечание 1** <br>\n",
    "Существует такой порядок добавления точек, что построение триангуляции с $n$ точками будет работать за $O(n^2)$. Поэтому важно добавлять точки в случайном порядке, тогда будет выполняться средняя оценка на время — $O(n)$."
   ]
  },
  {
   "cell_type": "markdown",
   "metadata": {
    "slideshow": {
     "slide_type": "fragment"
    }
   },
   "source": [
    "**Замечание 2**<br>\n",
    "Так как среднее число флипов — $O(1)$, то время вставки целиком зависит от времени локализации."
   ]
  },
  {
   "cell_type": "markdown",
   "metadata": {
    "slideshow": {
     "slide_type": "slide"
    }
   },
   "source": [
    "### Удаление\n",
    "\n",
    "Средняя степень вершины в триангуляции — $O(1)$, так как при удалении обрабатываются только инцидентные вершине ребра, то среднее число флипов будет также $O(1)$."
   ]
  }
 ],
 "metadata": {
  "anaconda-cloud": {},
  "celltoolbar": "Slideshow",
  "kernelspec": {
   "display_name": "Python 3",
   "language": "python",
   "name": "python3"
  },
  "language_info": {
   "codemirror_mode": {
    "name": "ipython",
    "version": 3
   },
   "file_extension": ".py",
   "mimetype": "text/x-python",
   "name": "python",
   "nbconvert_exporter": "python",
   "pygments_lexer": "ipython3",
   "version": "3.6.4"
  }
 },
 "nbformat": 4,
 "nbformat_minor": 1
}
