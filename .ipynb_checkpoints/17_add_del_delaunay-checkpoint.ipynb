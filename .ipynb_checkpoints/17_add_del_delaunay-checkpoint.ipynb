{
 "cells": [
  {
   "cell_type": "markdown",
   "metadata": {
    "slideshow": {
     "slide_type": "slide"
    }
   },
   "source": [
    "# Триангуляция Делоне. Динамический алгоритм: удаление и вставка"
   ]
  },
  {
   "cell_type": "markdown",
   "metadata": {
    "slideshow": {
     "slide_type": "slide"
    }
   },
   "source": [
    "## Содержание\n",
    "\n",
    "- [Задача](#prob)\n",
    "- [Базовые определения](#def)\n",
    "- [Визуализация](#visual)\n",
    "- [Дополнительные определения](#adddef)\n",
    "- [Алгоритм вставки](#insert)\n",
    "- [Алгоритм удаления](#remove)\n",
    "- [Время работы](#time)"
   ]
  },
  {
   "cell_type": "markdown",
   "metadata": {
    "slideshow": {
     "slide_type": "slide"
    }
   },
   "source": [
    "## Задача <a id=\"prob\"></a>\n",
    "\n",
    "Для данной триангуляции Делоне множества точек необходимо научиться выполнять **вставку** некоторой точки в триангуляцию и **удаление** некоторой точки."
   ]
  },
  {
   "cell_type": "markdown",
   "metadata": {
    "slideshow": {
     "slide_type": "fragment"
    }
   },
   "source": [
    "## Базовые определения <a id=\"def\"></a>\n",
    "\n",
    "**Подразбиение Делоне множества точек** — такое разбиение выпуклой оболочки множества точек на множество выпуклых фигур, что в окружности, описанной вокруг любой из фигур, не находится никаких точек из множества.\n",
    "\n",
    "**Триангуляция Делоне множества точек** — триангуляция, являющаяся подразбиением Делоне.\n"
   ]
  },
  {
   "cell_type": "markdown",
   "metadata": {
    "slideshow": {
     "slide_type": "skip"
    }
   },
   "source": [
    "***Примечание:*** *для понимания дальнейшего материала необходимо сначала ознакомиться с базовой теорией о триангуляции Делоне, однородных координатах, а также со структурой данных DCEL.*(и тут ссылки на ноутбуки)"
   ]
  },
  {
   "cell_type": "markdown",
   "metadata": {
    "slideshow": {
     "slide_type": "skip"
    }
   },
   "source": [
    "## Визуализация <a id=\"visual\"></a>\n",
    "Блок ниже запускает визуализацию удаления и вставки точки в триангуляцию.<br> \n",
    "Клик по точке в триангуляции удаляет эту точку.<br>\n",
    "Клик в любом месте кроме точек из триангуляции добавляет точку места клика в триангуляцию.<br>\n",
    "Измененная точка отображается желтым цветом."
   ]
  },
  {
   "cell_type": "code",
   "execution_count": 1,
   "metadata": {
    "slideshow": {
     "slide_type": "slide"
    }
   },
   "outputs": [
    {
     "data": {
      "application/javascript": [
       "/* Put everything inside the global mpl namespace */\n",
       "window.mpl = {};\n",
       "\n",
       "mpl.get_websocket_type = function() {\n",
       "    if (typeof(WebSocket) !== 'undefined') {\n",
       "        return WebSocket;\n",
       "    } else if (typeof(MozWebSocket) !== 'undefined') {\n",
       "        return MozWebSocket;\n",
       "    } else {\n",
       "        alert('Your browser does not have WebSocket support.' +\n",
       "              'Please try Chrome, Safari or Firefox ≥ 6. ' +\n",
       "              'Firefox 4 and 5 are also supported but you ' +\n",
       "              'have to enable WebSockets in about:config.');\n",
       "    };\n",
       "}\n",
       "\n",
       "mpl.figure = function(figure_id, websocket, ondownload, parent_element) {\n",
       "    this.id = figure_id;\n",
       "\n",
       "    this.ws = websocket;\n",
       "\n",
       "    this.supports_binary = (this.ws.binaryType != undefined);\n",
       "\n",
       "    if (!this.supports_binary) {\n",
       "        var warnings = document.getElementById(\"mpl-warnings\");\n",
       "        if (warnings) {\n",
       "            warnings.style.display = 'block';\n",
       "            warnings.textContent = (\n",
       "                \"This browser does not support binary websocket messages. \" +\n",
       "                    \"Performance may be slow.\");\n",
       "        }\n",
       "    }\n",
       "\n",
       "    this.imageObj = new Image();\n",
       "\n",
       "    this.context = undefined;\n",
       "    this.message = undefined;\n",
       "    this.canvas = undefined;\n",
       "    this.rubberband_canvas = undefined;\n",
       "    this.rubberband_context = undefined;\n",
       "    this.format_dropdown = undefined;\n",
       "\n",
       "    this.image_mode = 'full';\n",
       "\n",
       "    this.root = $('<div/>');\n",
       "    this._root_extra_style(this.root)\n",
       "    this.root.attr('style', 'display: inline-block');\n",
       "\n",
       "    $(parent_element).append(this.root);\n",
       "\n",
       "    this._init_header(this);\n",
       "    this._init_canvas(this);\n",
       "    this._init_toolbar(this);\n",
       "\n",
       "    var fig = this;\n",
       "\n",
       "    this.waiting = false;\n",
       "\n",
       "    this.ws.onopen =  function () {\n",
       "            fig.send_message(\"supports_binary\", {value: fig.supports_binary});\n",
       "            fig.send_message(\"send_image_mode\", {});\n",
       "            fig.send_message(\"refresh\", {});\n",
       "        }\n",
       "\n",
       "    this.imageObj.onload = function() {\n",
       "            if (fig.image_mode == 'full') {\n",
       "                // Full images could contain transparency (where diff images\n",
       "                // almost always do), so we need to clear the canvas so that\n",
       "                // there is no ghosting.\n",
       "                fig.context.clearRect(0, 0, fig.canvas.width, fig.canvas.height);\n",
       "            }\n",
       "            fig.context.drawImage(fig.imageObj, 0, 0);\n",
       "        };\n",
       "\n",
       "    this.imageObj.onunload = function() {\n",
       "        this.ws.close();\n",
       "    }\n",
       "\n",
       "    this.ws.onmessage = this._make_on_message_function(this);\n",
       "\n",
       "    this.ondownload = ondownload;\n",
       "}\n",
       "\n",
       "mpl.figure.prototype._init_header = function() {\n",
       "    var titlebar = $(\n",
       "        '<div class=\"ui-dialog-titlebar ui-widget-header ui-corner-all ' +\n",
       "        'ui-helper-clearfix\"/>');\n",
       "    var titletext = $(\n",
       "        '<div class=\"ui-dialog-title\" style=\"width: 100%; ' +\n",
       "        'text-align: center; padding: 3px;\"/>');\n",
       "    titlebar.append(titletext)\n",
       "    this.root.append(titlebar);\n",
       "    this.header = titletext[0];\n",
       "}\n",
       "\n",
       "\n",
       "\n",
       "mpl.figure.prototype._canvas_extra_style = function(canvas_div) {\n",
       "\n",
       "}\n",
       "\n",
       "\n",
       "mpl.figure.prototype._root_extra_style = function(canvas_div) {\n",
       "\n",
       "}\n",
       "\n",
       "mpl.figure.prototype._init_canvas = function() {\n",
       "    var fig = this;\n",
       "\n",
       "    var canvas_div = $('<div/>');\n",
       "\n",
       "    canvas_div.attr('style', 'position: relative; clear: both; outline: 0');\n",
       "\n",
       "    function canvas_keyboard_event(event) {\n",
       "        return fig.key_event(event, event['data']);\n",
       "    }\n",
       "\n",
       "    canvas_div.keydown('key_press', canvas_keyboard_event);\n",
       "    canvas_div.keyup('key_release', canvas_keyboard_event);\n",
       "    this.canvas_div = canvas_div\n",
       "    this._canvas_extra_style(canvas_div)\n",
       "    this.root.append(canvas_div);\n",
       "\n",
       "    var canvas = $('<canvas/>');\n",
       "    canvas.addClass('mpl-canvas');\n",
       "    canvas.attr('style', \"left: 0; top: 0; z-index: 0; outline: 0\")\n",
       "\n",
       "    this.canvas = canvas[0];\n",
       "    this.context = canvas[0].getContext(\"2d\");\n",
       "\n",
       "    var rubberband = $('<canvas/>');\n",
       "    rubberband.attr('style', \"position: absolute; left: 0; top: 0; z-index: 1;\")\n",
       "\n",
       "    var pass_mouse_events = true;\n",
       "\n",
       "    canvas_div.resizable({\n",
       "        start: function(event, ui) {\n",
       "            pass_mouse_events = false;\n",
       "        },\n",
       "        resize: function(event, ui) {\n",
       "            fig.request_resize(ui.size.width, ui.size.height);\n",
       "        },\n",
       "        stop: function(event, ui) {\n",
       "            pass_mouse_events = true;\n",
       "            fig.request_resize(ui.size.width, ui.size.height);\n",
       "        },\n",
       "    });\n",
       "\n",
       "    function mouse_event_fn(event) {\n",
       "        if (pass_mouse_events)\n",
       "            return fig.mouse_event(event, event['data']);\n",
       "    }\n",
       "\n",
       "    rubberband.mousedown('button_press', mouse_event_fn);\n",
       "    rubberband.mouseup('button_release', mouse_event_fn);\n",
       "    // Throttle sequential mouse events to 1 every 20ms.\n",
       "    rubberband.mousemove('motion_notify', mouse_event_fn);\n",
       "\n",
       "    rubberband.mouseenter('figure_enter', mouse_event_fn);\n",
       "    rubberband.mouseleave('figure_leave', mouse_event_fn);\n",
       "\n",
       "    canvas_div.on(\"wheel\", function (event) {\n",
       "        event = event.originalEvent;\n",
       "        event['data'] = 'scroll'\n",
       "        if (event.deltaY < 0) {\n",
       "            event.step = 1;\n",
       "        } else {\n",
       "            event.step = -1;\n",
       "        }\n",
       "        mouse_event_fn(event);\n",
       "    });\n",
       "\n",
       "    canvas_div.append(canvas);\n",
       "    canvas_div.append(rubberband);\n",
       "\n",
       "    this.rubberband = rubberband;\n",
       "    this.rubberband_canvas = rubberband[0];\n",
       "    this.rubberband_context = rubberband[0].getContext(\"2d\");\n",
       "    this.rubberband_context.strokeStyle = \"#000000\";\n",
       "\n",
       "    this._resize_canvas = function(width, height) {\n",
       "        // Keep the size of the canvas, canvas container, and rubber band\n",
       "        // canvas in synch.\n",
       "        canvas_div.css('width', width)\n",
       "        canvas_div.css('height', height)\n",
       "\n",
       "        canvas.attr('width', width);\n",
       "        canvas.attr('height', height);\n",
       "\n",
       "        rubberband.attr('width', width);\n",
       "        rubberband.attr('height', height);\n",
       "    }\n",
       "\n",
       "    // Set the figure to an initial 600x600px, this will subsequently be updated\n",
       "    // upon first draw.\n",
       "    this._resize_canvas(600, 600);\n",
       "\n",
       "    // Disable right mouse context menu.\n",
       "    $(this.rubberband_canvas).bind(\"contextmenu\",function(e){\n",
       "        return false;\n",
       "    });\n",
       "\n",
       "    function set_focus () {\n",
       "        canvas.focus();\n",
       "        canvas_div.focus();\n",
       "    }\n",
       "\n",
       "    window.setTimeout(set_focus, 100);\n",
       "}\n",
       "\n",
       "mpl.figure.prototype._init_toolbar = function() {\n",
       "    var fig = this;\n",
       "\n",
       "    var nav_element = $('<div/>')\n",
       "    nav_element.attr('style', 'width: 100%');\n",
       "    this.root.append(nav_element);\n",
       "\n",
       "    // Define a callback function for later on.\n",
       "    function toolbar_event(event) {\n",
       "        return fig.toolbar_button_onclick(event['data']);\n",
       "    }\n",
       "    function toolbar_mouse_event(event) {\n",
       "        return fig.toolbar_button_onmouseover(event['data']);\n",
       "    }\n",
       "\n",
       "    for(var toolbar_ind in mpl.toolbar_items) {\n",
       "        var name = mpl.toolbar_items[toolbar_ind][0];\n",
       "        var tooltip = mpl.toolbar_items[toolbar_ind][1];\n",
       "        var image = mpl.toolbar_items[toolbar_ind][2];\n",
       "        var method_name = mpl.toolbar_items[toolbar_ind][3];\n",
       "\n",
       "        if (!name) {\n",
       "            // put a spacer in here.\n",
       "            continue;\n",
       "        }\n",
       "        var button = $('<button/>');\n",
       "        button.addClass('ui-button ui-widget ui-state-default ui-corner-all ' +\n",
       "                        'ui-button-icon-only');\n",
       "        button.attr('role', 'button');\n",
       "        button.attr('aria-disabled', 'false');\n",
       "        button.click(method_name, toolbar_event);\n",
       "        button.mouseover(tooltip, toolbar_mouse_event);\n",
       "\n",
       "        var icon_img = $('<span/>');\n",
       "        icon_img.addClass('ui-button-icon-primary ui-icon');\n",
       "        icon_img.addClass(image);\n",
       "        icon_img.addClass('ui-corner-all');\n",
       "\n",
       "        var tooltip_span = $('<span/>');\n",
       "        tooltip_span.addClass('ui-button-text');\n",
       "        tooltip_span.html(tooltip);\n",
       "\n",
       "        button.append(icon_img);\n",
       "        button.append(tooltip_span);\n",
       "\n",
       "        nav_element.append(button);\n",
       "    }\n",
       "\n",
       "    var fmt_picker_span = $('<span/>');\n",
       "\n",
       "    var fmt_picker = $('<select/>');\n",
       "    fmt_picker.addClass('mpl-toolbar-option ui-widget ui-widget-content');\n",
       "    fmt_picker_span.append(fmt_picker);\n",
       "    nav_element.append(fmt_picker_span);\n",
       "    this.format_dropdown = fmt_picker[0];\n",
       "\n",
       "    for (var ind in mpl.extensions) {\n",
       "        var fmt = mpl.extensions[ind];\n",
       "        var option = $(\n",
       "            '<option/>', {selected: fmt === mpl.default_extension}).html(fmt);\n",
       "        fmt_picker.append(option)\n",
       "    }\n",
       "\n",
       "    // Add hover states to the ui-buttons\n",
       "    $( \".ui-button\" ).hover(\n",
       "        function() { $(this).addClass(\"ui-state-hover\");},\n",
       "        function() { $(this).removeClass(\"ui-state-hover\");}\n",
       "    );\n",
       "\n",
       "    var status_bar = $('<span class=\"mpl-message\"/>');\n",
       "    nav_element.append(status_bar);\n",
       "    this.message = status_bar[0];\n",
       "}\n",
       "\n",
       "mpl.figure.prototype.request_resize = function(x_pixels, y_pixels) {\n",
       "    // Request matplotlib to resize the figure. Matplotlib will then trigger a resize in the client,\n",
       "    // which will in turn request a refresh of the image.\n",
       "    this.send_message('resize', {'width': x_pixels, 'height': y_pixels});\n",
       "}\n",
       "\n",
       "mpl.figure.prototype.send_message = function(type, properties) {\n",
       "    properties['type'] = type;\n",
       "    properties['figure_id'] = this.id;\n",
       "    this.ws.send(JSON.stringify(properties));\n",
       "}\n",
       "\n",
       "mpl.figure.prototype.send_draw_message = function() {\n",
       "    if (!this.waiting) {\n",
       "        this.waiting = true;\n",
       "        this.ws.send(JSON.stringify({type: \"draw\", figure_id: this.id}));\n",
       "    }\n",
       "}\n",
       "\n",
       "\n",
       "mpl.figure.prototype.handle_save = function(fig, msg) {\n",
       "    var format_dropdown = fig.format_dropdown;\n",
       "    var format = format_dropdown.options[format_dropdown.selectedIndex].value;\n",
       "    fig.ondownload(fig, format);\n",
       "}\n",
       "\n",
       "\n",
       "mpl.figure.prototype.handle_resize = function(fig, msg) {\n",
       "    var size = msg['size'];\n",
       "    if (size[0] != fig.canvas.width || size[1] != fig.canvas.height) {\n",
       "        fig._resize_canvas(size[0], size[1]);\n",
       "        fig.send_message(\"refresh\", {});\n",
       "    };\n",
       "}\n",
       "\n",
       "mpl.figure.prototype.handle_rubberband = function(fig, msg) {\n",
       "    var x0 = msg['x0'];\n",
       "    var y0 = fig.canvas.height - msg['y0'];\n",
       "    var x1 = msg['x1'];\n",
       "    var y1 = fig.canvas.height - msg['y1'];\n",
       "    x0 = Math.floor(x0) + 0.5;\n",
       "    y0 = Math.floor(y0) + 0.5;\n",
       "    x1 = Math.floor(x1) + 0.5;\n",
       "    y1 = Math.floor(y1) + 0.5;\n",
       "    var min_x = Math.min(x0, x1);\n",
       "    var min_y = Math.min(y0, y1);\n",
       "    var width = Math.abs(x1 - x0);\n",
       "    var height = Math.abs(y1 - y0);\n",
       "\n",
       "    fig.rubberband_context.clearRect(\n",
       "        0, 0, fig.canvas.width, fig.canvas.height);\n",
       "\n",
       "    fig.rubberband_context.strokeRect(min_x, min_y, width, height);\n",
       "}\n",
       "\n",
       "mpl.figure.prototype.handle_figure_label = function(fig, msg) {\n",
       "    // Updates the figure title.\n",
       "    fig.header.textContent = msg['label'];\n",
       "}\n",
       "\n",
       "mpl.figure.prototype.handle_cursor = function(fig, msg) {\n",
       "    var cursor = msg['cursor'];\n",
       "    switch(cursor)\n",
       "    {\n",
       "    case 0:\n",
       "        cursor = 'pointer';\n",
       "        break;\n",
       "    case 1:\n",
       "        cursor = 'default';\n",
       "        break;\n",
       "    case 2:\n",
       "        cursor = 'crosshair';\n",
       "        break;\n",
       "    case 3:\n",
       "        cursor = 'move';\n",
       "        break;\n",
       "    }\n",
       "    fig.rubberband_canvas.style.cursor = cursor;\n",
       "}\n",
       "\n",
       "mpl.figure.prototype.handle_message = function(fig, msg) {\n",
       "    fig.message.textContent = msg['message'];\n",
       "}\n",
       "\n",
       "mpl.figure.prototype.handle_draw = function(fig, msg) {\n",
       "    // Request the server to send over a new figure.\n",
       "    fig.send_draw_message();\n",
       "}\n",
       "\n",
       "mpl.figure.prototype.handle_image_mode = function(fig, msg) {\n",
       "    fig.image_mode = msg['mode'];\n",
       "}\n",
       "\n",
       "mpl.figure.prototype.updated_canvas_event = function() {\n",
       "    // Called whenever the canvas gets updated.\n",
       "    this.send_message(\"ack\", {});\n",
       "}\n",
       "\n",
       "// A function to construct a web socket function for onmessage handling.\n",
       "// Called in the figure constructor.\n",
       "mpl.figure.prototype._make_on_message_function = function(fig) {\n",
       "    return function socket_on_message(evt) {\n",
       "        if (evt.data instanceof Blob) {\n",
       "            /* FIXME: We get \"Resource interpreted as Image but\n",
       "             * transferred with MIME type text/plain:\" errors on\n",
       "             * Chrome.  But how to set the MIME type?  It doesn't seem\n",
       "             * to be part of the websocket stream */\n",
       "            evt.data.type = \"image/png\";\n",
       "\n",
       "            /* Free the memory for the previous frames */\n",
       "            if (fig.imageObj.src) {\n",
       "                (window.URL || window.webkitURL).revokeObjectURL(\n",
       "                    fig.imageObj.src);\n",
       "            }\n",
       "\n",
       "            fig.imageObj.src = (window.URL || window.webkitURL).createObjectURL(\n",
       "                evt.data);\n",
       "            fig.updated_canvas_event();\n",
       "            fig.waiting = false;\n",
       "            return;\n",
       "        }\n",
       "        else if (typeof evt.data === 'string' && evt.data.slice(0, 21) == \"data:image/png;base64\") {\n",
       "            fig.imageObj.src = evt.data;\n",
       "            fig.updated_canvas_event();\n",
       "            fig.waiting = false;\n",
       "            return;\n",
       "        }\n",
       "\n",
       "        var msg = JSON.parse(evt.data);\n",
       "        var msg_type = msg['type'];\n",
       "\n",
       "        // Call the  \"handle_{type}\" callback, which takes\n",
       "        // the figure and JSON message as its only arguments.\n",
       "        try {\n",
       "            var callback = fig[\"handle_\" + msg_type];\n",
       "        } catch (e) {\n",
       "            console.log(\"No handler for the '\" + msg_type + \"' message type: \", msg);\n",
       "            return;\n",
       "        }\n",
       "\n",
       "        if (callback) {\n",
       "            try {\n",
       "                // console.log(\"Handling '\" + msg_type + \"' message: \", msg);\n",
       "                callback(fig, msg);\n",
       "            } catch (e) {\n",
       "                console.log(\"Exception inside the 'handler_\" + msg_type + \"' callback:\", e, e.stack, msg);\n",
       "            }\n",
       "        }\n",
       "    };\n",
       "}\n",
       "\n",
       "// from http://stackoverflow.com/questions/1114465/getting-mouse-location-in-canvas\n",
       "mpl.findpos = function(e) {\n",
       "    //this section is from http://www.quirksmode.org/js/events_properties.html\n",
       "    var targ;\n",
       "    if (!e)\n",
       "        e = window.event;\n",
       "    if (e.target)\n",
       "        targ = e.target;\n",
       "    else if (e.srcElement)\n",
       "        targ = e.srcElement;\n",
       "    if (targ.nodeType == 3) // defeat Safari bug\n",
       "        targ = targ.parentNode;\n",
       "\n",
       "    // jQuery normalizes the pageX and pageY\n",
       "    // pageX,Y are the mouse positions relative to the document\n",
       "    // offset() returns the position of the element relative to the document\n",
       "    var x = e.pageX - $(targ).offset().left;\n",
       "    var y = e.pageY - $(targ).offset().top;\n",
       "\n",
       "    return {\"x\": x, \"y\": y};\n",
       "};\n",
       "\n",
       "/*\n",
       " * return a copy of an object with only non-object keys\n",
       " * we need this to avoid circular references\n",
       " * http://stackoverflow.com/a/24161582/3208463\n",
       " */\n",
       "function simpleKeys (original) {\n",
       "  return Object.keys(original).reduce(function (obj, key) {\n",
       "    if (typeof original[key] !== 'object')\n",
       "        obj[key] = original[key]\n",
       "    return obj;\n",
       "  }, {});\n",
       "}\n",
       "\n",
       "mpl.figure.prototype.mouse_event = function(event, name) {\n",
       "    var canvas_pos = mpl.findpos(event)\n",
       "\n",
       "    if (name === 'button_press')\n",
       "    {\n",
       "        this.canvas.focus();\n",
       "        this.canvas_div.focus();\n",
       "    }\n",
       "\n",
       "    var x = canvas_pos.x;\n",
       "    var y = canvas_pos.y;\n",
       "\n",
       "    this.send_message(name, {x: x, y: y, button: event.button,\n",
       "                             step: event.step,\n",
       "                             guiEvent: simpleKeys(event)});\n",
       "\n",
       "    /* This prevents the web browser from automatically changing to\n",
       "     * the text insertion cursor when the button is pressed.  We want\n",
       "     * to control all of the cursor setting manually through the\n",
       "     * 'cursor' event from matplotlib */\n",
       "    event.preventDefault();\n",
       "    return false;\n",
       "}\n",
       "\n",
       "mpl.figure.prototype._key_event_extra = function(event, name) {\n",
       "    // Handle any extra behaviour associated with a key event\n",
       "}\n",
       "\n",
       "mpl.figure.prototype.key_event = function(event, name) {\n",
       "\n",
       "    // Prevent repeat events\n",
       "    if (name == 'key_press')\n",
       "    {\n",
       "        if (event.which === this._key)\n",
       "            return;\n",
       "        else\n",
       "            this._key = event.which;\n",
       "    }\n",
       "    if (name == 'key_release')\n",
       "        this._key = null;\n",
       "\n",
       "    var value = '';\n",
       "    if (event.ctrlKey && event.which != 17)\n",
       "        value += \"ctrl+\";\n",
       "    if (event.altKey && event.which != 18)\n",
       "        value += \"alt+\";\n",
       "    if (event.shiftKey && event.which != 16)\n",
       "        value += \"shift+\";\n",
       "\n",
       "    value += 'k';\n",
       "    value += event.which.toString();\n",
       "\n",
       "    this._key_event_extra(event, name);\n",
       "\n",
       "    this.send_message(name, {key: value,\n",
       "                             guiEvent: simpleKeys(event)});\n",
       "    return false;\n",
       "}\n",
       "\n",
       "mpl.figure.prototype.toolbar_button_onclick = function(name) {\n",
       "    if (name == 'download') {\n",
       "        this.handle_save(this, null);\n",
       "    } else {\n",
       "        this.send_message(\"toolbar_button\", {name: name});\n",
       "    }\n",
       "};\n",
       "\n",
       "mpl.figure.prototype.toolbar_button_onmouseover = function(tooltip) {\n",
       "    this.message.textContent = tooltip;\n",
       "};\n",
       "mpl.toolbar_items = [[\"Home\", \"Reset original view\", \"fa fa-home icon-home\", \"home\"], [\"Back\", \"Back to  previous view\", \"fa fa-arrow-left icon-arrow-left\", \"back\"], [\"Forward\", \"Forward to next view\", \"fa fa-arrow-right icon-arrow-right\", \"forward\"], [\"\", \"\", \"\", \"\"], [\"Pan\", \"Pan axes with left mouse, zoom with right\", \"fa fa-arrows icon-move\", \"pan\"], [\"Zoom\", \"Zoom to rectangle\", \"fa fa-square-o icon-check-empty\", \"zoom\"], [\"\", \"\", \"\", \"\"], [\"Download\", \"Download plot\", \"fa fa-floppy-o icon-save\", \"download\"]];\n",
       "\n",
       "mpl.extensions = [\"eps\", \"jpeg\", \"pdf\", \"png\", \"ps\", \"raw\", \"svg\", \"tif\"];\n",
       "\n",
       "mpl.default_extension = \"png\";var comm_websocket_adapter = function(comm) {\n",
       "    // Create a \"websocket\"-like object which calls the given IPython comm\n",
       "    // object with the appropriate methods. Currently this is a non binary\n",
       "    // socket, so there is still some room for performance tuning.\n",
       "    var ws = {};\n",
       "\n",
       "    ws.close = function() {\n",
       "        comm.close()\n",
       "    };\n",
       "    ws.send = function(m) {\n",
       "        //console.log('sending', m);\n",
       "        comm.send(m);\n",
       "    };\n",
       "    // Register the callback with on_msg.\n",
       "    comm.on_msg(function(msg) {\n",
       "        //console.log('receiving', msg['content']['data'], msg);\n",
       "        // Pass the mpl event to the overriden (by mpl) onmessage function.\n",
       "        ws.onmessage(msg['content']['data'])\n",
       "    });\n",
       "    return ws;\n",
       "}\n",
       "\n",
       "mpl.mpl_figure_comm = function(comm, msg) {\n",
       "    // This is the function which gets called when the mpl process\n",
       "    // starts-up an IPython Comm through the \"matplotlib\" channel.\n",
       "\n",
       "    var id = msg.content.data.id;\n",
       "    // Get hold of the div created by the display call when the Comm\n",
       "    // socket was opened in Python.\n",
       "    var element = $(\"#\" + id);\n",
       "    var ws_proxy = comm_websocket_adapter(comm)\n",
       "\n",
       "    function ondownload(figure, format) {\n",
       "        window.open(figure.imageObj.src);\n",
       "    }\n",
       "\n",
       "    var fig = new mpl.figure(id, ws_proxy,\n",
       "                           ondownload,\n",
       "                           element.get(0));\n",
       "\n",
       "    // Call onopen now - mpl needs it, as it is assuming we've passed it a real\n",
       "    // web socket which is closed, not our websocket->open comm proxy.\n",
       "    ws_proxy.onopen();\n",
       "\n",
       "    fig.parent_element = element.get(0);\n",
       "    fig.cell_info = mpl.find_output_cell(\"<div id='\" + id + \"'></div>\");\n",
       "    if (!fig.cell_info) {\n",
       "        console.error(\"Failed to find cell for figure\", id, fig);\n",
       "        return;\n",
       "    }\n",
       "\n",
       "    var output_index = fig.cell_info[2]\n",
       "    var cell = fig.cell_info[0];\n",
       "\n",
       "};\n",
       "\n",
       "mpl.figure.prototype.handle_close = function(fig, msg) {\n",
       "    fig.root.unbind('remove')\n",
       "\n",
       "    // Update the output cell to use the data from the current canvas.\n",
       "    fig.push_to_output();\n",
       "    var dataURL = fig.canvas.toDataURL();\n",
       "    // Re-enable the keyboard manager in IPython - without this line, in FF,\n",
       "    // the notebook keyboard shortcuts fail.\n",
       "    IPython.keyboard_manager.enable()\n",
       "    $(fig.parent_element).html('<img src=\"' + dataURL + '\">');\n",
       "    fig.close_ws(fig, msg);\n",
       "}\n",
       "\n",
       "mpl.figure.prototype.close_ws = function(fig, msg){\n",
       "    fig.send_message('closing', msg);\n",
       "    // fig.ws.close()\n",
       "}\n",
       "\n",
       "mpl.figure.prototype.push_to_output = function(remove_interactive) {\n",
       "    // Turn the data on the canvas into data in the output cell.\n",
       "    var dataURL = this.canvas.toDataURL();\n",
       "    this.cell_info[1]['text/html'] = '<img src=\"' + dataURL + '\">';\n",
       "}\n",
       "\n",
       "mpl.figure.prototype.updated_canvas_event = function() {\n",
       "    // Tell IPython that the notebook contents must change.\n",
       "    IPython.notebook.set_dirty(true);\n",
       "    this.send_message(\"ack\", {});\n",
       "    var fig = this;\n",
       "    // Wait a second, then push the new image to the DOM so\n",
       "    // that it is saved nicely (might be nice to debounce this).\n",
       "    setTimeout(function () { fig.push_to_output() }, 1000);\n",
       "}\n",
       "\n",
       "mpl.figure.prototype._init_toolbar = function() {\n",
       "    var fig = this;\n",
       "\n",
       "    var nav_element = $('<div/>')\n",
       "    nav_element.attr('style', 'width: 100%');\n",
       "    this.root.append(nav_element);\n",
       "\n",
       "    // Define a callback function for later on.\n",
       "    function toolbar_event(event) {\n",
       "        return fig.toolbar_button_onclick(event['data']);\n",
       "    }\n",
       "    function toolbar_mouse_event(event) {\n",
       "        return fig.toolbar_button_onmouseover(event['data']);\n",
       "    }\n",
       "\n",
       "    for(var toolbar_ind in mpl.toolbar_items){\n",
       "        var name = mpl.toolbar_items[toolbar_ind][0];\n",
       "        var tooltip = mpl.toolbar_items[toolbar_ind][1];\n",
       "        var image = mpl.toolbar_items[toolbar_ind][2];\n",
       "        var method_name = mpl.toolbar_items[toolbar_ind][3];\n",
       "\n",
       "        if (!name) { continue; };\n",
       "\n",
       "        var button = $('<button class=\"btn btn-default\" href=\"#\" title=\"' + name + '\"><i class=\"fa ' + image + ' fa-lg\"></i></button>');\n",
       "        button.click(method_name, toolbar_event);\n",
       "        button.mouseover(tooltip, toolbar_mouse_event);\n",
       "        nav_element.append(button);\n",
       "    }\n",
       "\n",
       "    // Add the status bar.\n",
       "    var status_bar = $('<span class=\"mpl-message\" style=\"text-align:right; float: right;\"/>');\n",
       "    nav_element.append(status_bar);\n",
       "    this.message = status_bar[0];\n",
       "\n",
       "    // Add the close button to the window.\n",
       "    var buttongrp = $('<div class=\"btn-group inline pull-right\"></div>');\n",
       "    var button = $('<button class=\"btn btn-mini btn-primary\" href=\"#\" title=\"Stop Interaction\"><i class=\"fa fa-power-off icon-remove icon-large\"></i></button>');\n",
       "    button.click(function (evt) { fig.handle_close(fig, {}); } );\n",
       "    button.mouseover('Stop Interaction', toolbar_mouse_event);\n",
       "    buttongrp.append(button);\n",
       "    var titlebar = this.root.find($('.ui-dialog-titlebar'));\n",
       "    titlebar.prepend(buttongrp);\n",
       "}\n",
       "\n",
       "mpl.figure.prototype._root_extra_style = function(el){\n",
       "    var fig = this\n",
       "    el.on(\"remove\", function(){\n",
       "\tfig.close_ws(fig, {});\n",
       "    });\n",
       "}\n",
       "\n",
       "mpl.figure.prototype._canvas_extra_style = function(el){\n",
       "    // this is important to make the div 'focusable\n",
       "    el.attr('tabindex', 0)\n",
       "    // reach out to IPython and tell the keyboard manager to turn it's self\n",
       "    // off when our div gets focus\n",
       "\n",
       "    // location in version 3\n",
       "    if (IPython.notebook.keyboard_manager) {\n",
       "        IPython.notebook.keyboard_manager.register_events(el);\n",
       "    }\n",
       "    else {\n",
       "        // location in version 2\n",
       "        IPython.keyboard_manager.register_events(el);\n",
       "    }\n",
       "\n",
       "}\n",
       "\n",
       "mpl.figure.prototype._key_event_extra = function(event, name) {\n",
       "    var manager = IPython.notebook.keyboard_manager;\n",
       "    if (!manager)\n",
       "        manager = IPython.keyboard_manager;\n",
       "\n",
       "    // Check for shift+enter\n",
       "    if (event.shiftKey && event.which == 13) {\n",
       "        this.canvas_div.blur();\n",
       "        // select the cell after this one\n",
       "        var index = IPython.notebook.find_cell_index(this.cell_info[0]);\n",
       "        IPython.notebook.select(index + 1);\n",
       "    }\n",
       "}\n",
       "\n",
       "mpl.figure.prototype.handle_save = function(fig, msg) {\n",
       "    fig.ondownload(fig, null);\n",
       "}\n",
       "\n",
       "\n",
       "mpl.find_output_cell = function(html_output) {\n",
       "    // Return the cell and output element which can be found *uniquely* in the notebook.\n",
       "    // Note - this is a bit hacky, but it is done because the \"notebook_saving.Notebook\"\n",
       "    // IPython event is triggered only after the cells have been serialised, which for\n",
       "    // our purposes (turning an active figure into a static one), is too late.\n",
       "    var cells = IPython.notebook.get_cells();\n",
       "    var ncells = cells.length;\n",
       "    for (var i=0; i<ncells; i++) {\n",
       "        var cell = cells[i];\n",
       "        if (cell.cell_type === 'code'){\n",
       "            for (var j=0; j<cell.output_area.outputs.length; j++) {\n",
       "                var data = cell.output_area.outputs[j];\n",
       "                if (data.data) {\n",
       "                    // IPython >= 3 moved mimebundle to data attribute of output\n",
       "                    data = data.data;\n",
       "                }\n",
       "                if (data['text/html'] == html_output) {\n",
       "                    return [cell, data, j];\n",
       "                }\n",
       "            }\n",
       "        }\n",
       "    }\n",
       "}\n",
       "\n",
       "// Register the function which deals with the matplotlib target/channel.\n",
       "// The kernel may be null if the page has been refreshed.\n",
       "if (IPython.notebook.kernel != null) {\n",
       "    IPython.notebook.kernel.comm_manager.register_target('matplotlib', mpl.mpl_figure_comm);\n",
       "}\n"
      ],
      "text/plain": [
       "<IPython.core.display.Javascript object>"
      ]
     },
     "metadata": {},
     "output_type": "display_data"
    },
    {
     "data": {
      "text/html": [
       "<img src=\"data:image/png;base64,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\">"
      ],
      "text/plain": [
       "<IPython.core.display.HTML object>"
      ]
     },
     "metadata": {},
     "output_type": "display_data"
    }
   ],
   "source": [
    "%matplotlib notebook\n",
    "from add_del_visualize import visualize\n",
    "visualize()"
   ]
  },
  {
   "cell_type": "markdown",
   "metadata": {
    "slideshow": {
     "slide_type": "slide"
    }
   },
   "source": [
    "## Дополнительные определения и леммы для динамической триангуляции <a id=\"adddef\"></a>\n",
    " <img src=\"Pictures/flip.png\" style=\"float: right; width: 180px;\"/>\n",
    "**Локальный критерий Делоне для ребра** — пара треугольников, которым принадлежит это ребро, является триангуляцией Делоне вершин этих треугольников (то есть вершина, противолежащая ребру в одном треугольнике, не лежит в окружности, описанной вокруг другого треугольника, и наоборот).\n",
    "\n",
    "\n",
    "На рисунке справа локальный критерий Делоне выполнен только для синего ребра.\n",
    "\n",
    "Будем называть **хорошими** те рёбра, для которых выполняется локальный критерий Делоне.\n",
    "\n",
    "Рассмотрим пару смежных треугольников. Рёбра этих треугольников образуют четырёхугольник с проведённой в нём диагональю. Если этот четырёхугольник выпуклый, то возможна операция замены этой диагонали на другую, такая операция называется **флип (flip)**.\n",
    "\n",
    "<img src=\"Pictures/Flip2.png\" style=\"float: right; width: 320px;\"/>\n",
    "На рисунке справа флип переводит красное ребро в синее.\n",
    "\n",
    "\n",
    "**Замечание:** Если два смежных с ребором треугольника образуют невыпуклый четырёхугольник, то это ребро является хорошим. \n"
   ]
  },
  {
   "cell_type": "markdown",
   "metadata": {
    "slideshow": {
     "slide_type": "fragment"
    }
   },
   "source": [
    "**Глобальный критерий Делоне для триангуляции** — ни одна из окружностей, описанных вокруг треугольников из триангуляции не содержит других точек кроме вершин этого треугольника.\n",
    "#### Лемма 0\n",
    "\n",
    "<img src=\"Pictures/Global.png\" style=\"float: right; width: 200px;\"/> \n",
    "\n",
    "Если для всех ребер триангуляции выполнен локальный критерий Делоне, то для неё выполнен и глобальный критерий Делоне.\n",
    "<br>$\\triangleright$<br><div style=\"padding-left:40px\">\n",
    "Докажем методом от противного. Предположим, что все ребра хорошие, но существует точка $E$, которая пренадлежит некоторым треугольникам из триангуляции и не является их вершиной. Из всех таких треугольников выберем $ABC$, такой что угол $\\angle{BEC}$ максимален, при $BC$ ближайшей стороне к точке $E$. \n",
    "\n",
    "Рассмотрим треугольник $BCD$ смежный с $ABC$. Так как ребро $BC$ хорошее, то $D$ лежит вне его описанной окружности, значит, $\\angle{BAC} + \\angle{BDC} < 180^{\\circ}$. Так как $E$ лежит внутри описанной окружности $ABC$, то $\\angle{BAC} + \\angle{BEC} > 180^{\\circ}$. Из полученных неравенств следует, что $\\angle{BEC} > \\angle{BDC}$. Значит, точка $E$ лежит внутри описанной окружности треугольника $BCD$. А так как $\\angle{BED} > \\angle{BEC}$ получили противоречие с условием выбора треугольника $ABC$.\n",
    "</div>$\\triangleleft$\n"
   ]
  },
  {
   "cell_type": "markdown",
   "metadata": {
    "slideshow": {
     "slide_type": "slide"
    }
   },
   "source": [
    "Необходимо также понимать, что триангуляция Делоне является нижней выпуклой оболочкой точек, поднятых на параболоид, где мы считаем, что существует бесконечно удаленная по оси $z$ точка, которая образует бесконечные треугольные грани с крайними точками из оболочки.\n",
    "<img src=\"Pictures/paraboloid.png\" style=\"float: center; width: 500px;\"/> "
   ]
  },
  {
   "cell_type": "markdown",
   "metadata": {
    "slideshow": {
     "slide_type": "slide"
    }
   },
   "source": [
    "<img src=\"Pictures/lemma1.png\" style=\"float: right;\" />\n",
    "#### Лемма 1\n",
    "Флип плохого ребра заменяет его хорошим.\n",
    "<br>$\\triangleright$<br><div style=\"padding-left:40px\">\n",
    "Докажем, что из двух рёбер, которые можно провести для пары треугольников, как минимум одно хорошее.<br>\n",
    "Предположим, что это не так, то есть оба ребра (назовём их $AB$ и $CD$) плохие. Рассмотрим четырёхугольник $ACBD$ и окружность, описанную вокруг треугольника $ABC$. Точка $D$ лежит внутри этой окружности, значит, сумма углов $C$ и $D$ больше $180^{\\circ}$. Аналогично доказывается, что сумма углов $A$ и $B$ больше $180^{\\circ}$. Значит, сумма углов четырёхугольника $ACBD$ больше $360^{\\circ}$, что невозможно.<br>\n",
    "</div>$\\triangleleft$"
   ]
  },
  {
   "cell_type": "markdown",
   "metadata": {
    "slideshow": {
     "slide_type": "slide"
    }
   },
   "source": [
    "<img src=\"Pictures/Good_edge.png\" style=\"float: right;\" />\n",
    "#### Лемма 2\n",
    "\n",
    "Если в триангуляцию Делоне вставить точку в некоторый треугольник и соединить его вершины с этой точкой, то получившиеся рёбра будут хорошими.\n",
    "<br>$\\triangleright$<br><div style=\"padding-left:40px\">\n",
    "Предположим, точка была вставлена не на ребро. Рассмотрим любое из рёбер — пусть это будет ребро $VC$. Проведём окружность, описывающую треугольник $ABC$. По критерию Делоне в ней не будет никаких точек триангуляции. На ребре $VC$ можно построить окружность, касающуюся окружности $ABC$. В ней тоже нет никаких точек. Значит, для $VC$ выполняется критерий Делоне для рёбер, значит, ребро должно принадлежать триангуляции с добавленной точкой $V$, значит, оно хорошее.\n",
    "    \n",
    "Случай, когда точка вставляется на ребро, рассматривается аналогично.<br>\n",
    "</div>$\\triangleleft$"
   ]
  },
  {
   "cell_type": "markdown",
   "metadata": {
    "slideshow": {
     "slide_type": "slide"
    }
   },
   "source": [
    "## Алгоритм вставки <a id=\"insert\"></a>"
   ]
  },
  {
   "cell_type": "markdown",
   "metadata": {
    "slideshow": {
     "slide_type": "fragment"
    }
   },
   "source": [
    "\n",
    "### Краткий план алгоритма\n",
    "\n",
    "1. Определяем, в каком фейсе (или на каком ребре) лежит точка. Для этого используем алгоритм локализации (ссылка)\n",
    "2. Добавляем три ребра, сам фейс превращаем в один из новых смежных с вставляемой точкой и добавялем ещё два фейса.\n",
    "3. Плохие ребра с помощью флипов заменяем на хорошие.\n"
   ]
  },
  {
   "cell_type": "markdown",
   "metadata": {
    "slideshow": {
     "slide_type": "slide"
    }
   },
   "source": [
    "#### Пример <br>\n",
    "| [![First](Pictures/first.png)](first)  | [![Second](Pictures/second.png)](second) | [![Third](Pictures/third.png)](third) |\n",
    "|:---:|:---:|:---:|\n",
    "| Триангуляция до выполниения вставки | Состояние после второго шага (зеленые ребра появились, синие ребра стали плохими)| Триангуляция после третьего шага |"
   ]
  },
  {
   "cell_type": "markdown",
   "metadata": {
    "slideshow": {
     "slide_type": "slide"
    }
   },
   "source": [
    "### Подробности реализации алгоритма вставки\n",
    "\n",
    "Пусть $F$ — вставляемая точка. <br>\n",
    "**Заметим**, что все добавленные в пункте 2 ребра по **лемме 2** являются хорошими. Плохими могут стать ребра противолежащие точке $F$. После пункта 1 мы имеем три таких ребра. Рассмотрим выпуклый четыехугольник, в котором происходит флип. Этот четырехугольник имеет ровно два ребра инцидентных $F$, флип порождает еще одно такое ребро. Ровно два ребра четырехугольника, которые не были инцидентны $F$, становятся противолежащими $F$ и могут оказаться плохими (докажем это в **лемме 3**).<br>\n",
    "\n",
    "| [![Lemmaa](Pictures/Flip3.png)](lemmaa)|\n",
    "|::|\n",
    "|При вставке точки $F$ ребро $CE$ флипается в ребро $FD$, рёбра $CD$ и $DE$ могут оказаться плохими|\n",
    "\n",
    "<br>\n",
    "Будем добавлять потенциально плохие ребра в очередь. При обработке очередного ребра из очереди будет происходить либо флип с добавлением двух рёбер в очередь в случае, если ребро плохое, либо пропуск ребра, если оно хорошее.<br>\n",
    "Докажем, что этот процесс завершится, с помощью **леммы 4** и **леммы 5**.\n"
   ]
  },
  {
   "cell_type": "markdown",
   "metadata": {
    "slideshow": {
     "slide_type": "slide"
    }
   },
   "source": [
    "#### Лемма 3\n",
    "\n",
    "При вставке точки будут флипаться только рёбра, противолежащие вставленной точке.\n",
    "<br>$\\triangleright$<br><div style=\"padding-left:40px\">\n",
    "Доказательство по индукции.\n",
    "\n",
    "База. По **лемме 2** изначально не будут флипаться новые рёбра, инцидентные точке, то есть плохими могут оказаться только рёбра, противолежащие точке.\n",
    "\n",
    "Переход. Рассмотрим, что произойдёт с противолежащим точке $V$ ребром $AC$ после флипа, если оно плохое. До вставки точки $V$ для триангуляции выполнялся глобальный критерий Делоне, поэтому в окружности, описанной вокруг треугольника $ACD$, не будет лежать никаких точек, кроме точки $V$. Можно построить окружность, касающуюся её изнутри в точке $D$ и проходящую через точку $V$. В ней тоже не окажется никаких точек, так как она касается изнутри. Значит, для ребра $VD$ выполняется критерий Делоне. Значит, после флипа ребро $AC$ уже не будет флипаться. Так как для рёбер $AV$ и $CV$ выполняется критерий Делоне, то плохими после флипа могут стать только рёбра $AD$ и $CD$ — то есть рёбра, противолежащие точке $V$.\n",
    "\n",
    "Для не рассмотренных ребер как до вставки, так и после выполнен локальный критерий Делоне. После всех флиов локальный критерий Делоне выполнен для всех рёбер, следовательно по **лемме 0** выполнен и глобальный критерий Делоне.\n",
    "</div>$\\triangleleft$\n",
    "\n",
    "| [![Lemma3](Pictures/lemma3.png)](lemma3)|\n",
    "|::|\n",
    "|$V$ — вставленная точка, ребро $AC$ — плохое|\n"
   ]
  },
  {
   "cell_type": "markdown",
   "metadata": {},
   "source": [
    "#### Лемма 4\n",
    "\n",
    " Флип плохого ребра уменьшает разность объёмов параболоида и триангуляции, спроецированной на него.\n",
    "\n",
    "$\\triangleright$\n",
    "\n",
    "<div style=\"padding-left:27px\" >\n",
    "Рассмотрим два таких смежных треугольника, что ребро между ними является плохим. Спроецируем их на параболоид. Четыре точки, принадлежащие смежным треугольникам, при проекции на параболоид образуют тетраэдр.<br>\n",
    "Проведём через любой из двух треугольников плоскость. Вершина, противолежащая основанию тетраэдра, являющегося этим треугольником, лежит ниже этой плоскости (так как не выполняется локальный критерий Делоне), то есть тетраэдр лежит ниже тела, образующегося при проекции всей триангуляции на параболоид.\n",
    "После флипа станет выполняться локальный критерий Делоне, то есть тело станет включать в себя тетраэдр. Поэтому после флипа плохого ребра объём тела увеличится на объём этого тетраэдра.\n",
    "</div>\n",
    "\n",
    "$\\triangleleft$"
   ]
  },
  {
   "cell_type": "markdown",
   "metadata": {},
   "source": [
    "#### Лемма 5\n",
    "\n",
    " Любая триангуляция сводится к триангуляции Делоне за конечное число флипов.\n",
    "\n",
    "$\\triangleright$\n",
    "\n",
    "<div style=\"padding-left:27px\" >\n",
    "Всего триангуляций заданного множества точек конечное число, и среди них есть триангуляция Делоне. Последовательность флипов плохих рёбер триангуляции образует такую последовательность триангуляций, что разность объёмов параболоида и спроецированной на него триангуляции убывает (по **лемме 4**). Эта последовательность конечна (при этом последней в последовательности является триангуляция Делоне), значит, число флипов, требуемых для достижения триангуляции Делоне, тоже конечно.\n",
    "</div>\n",
    "\n",
    "$\\triangleleft$"
   ]
  },
  {
   "cell_type": "markdown",
   "metadata": {},
   "source": [
    "**Замечание 1** <br> \n",
    "Если вставляемая точка попадает на ребро, на шаге 2 получится треугольник с углом в $180^{\\circ}$, в котором это ребро является противолежащим вставляемой точке. Тогда оно попадет в очередь и в некоторый момент произойдет флип этого ребра, так как оно стало плохим для новой триангуляции.\n"
   ]
  },
  {
   "cell_type": "markdown",
   "metadata": {
    "slideshow": {
     "slide_type": "skip"
    }
   },
   "source": [
    "**Замечание 2** <br>\n",
    "Вставка точки, не лежащей внутри выпуклой оболочки имеющихся точек, сводится к обычной вставке точки, благодаря предположению о существовании бесконечно удаленной по оси $z$ точки, имеющей координаты $(0,0,1,0)$ (последняя координата — однородная).\n"
   ]
  },
  {
   "cell_type": "markdown",
   "metadata": {
    "slideshow": {
     "slide_type": "slide"
    }
   },
   "source": [
    "## Алгоритм удаления <a id=\"remove\"></a>"
   ]
  },
  {
   "cell_type": "markdown",
   "metadata": {
    "slideshow": {
     "slide_type": "fragment"
    }
   },
   "source": [
    "### Краткий план алгоритма\n",
    "1. 1а. Если у точки три инцидентных ребра, перейдем к шагу 2. <br> \n",
    "   1б. Иначе будем флипать рёбра инцидентные удаляемой точке в некотором порядке, пока не останется ровно три ребра.\n",
    "2. Удалим точку и инцидентные ей рёбра."
   ]
  },
  {
   "cell_type": "markdown",
   "metadata": {},
   "source": [
    "### Порядок флипов\n",
    "\n",
    "Будем использовать для образования новых фейсов так называемый *shelling order:*<br>\n",
    "пусть $p$ — удаляемая точка, $\\{q_0, q_1, \\ldots, q_k = q_0\\}$ — смежные с $p$ точки в порядке обхода против часовой стрелки. Назовем *ушами* плоскости, образованные точками $q_{i-1} q_i q_{i+1}$. Изначально из точки $p$ видны все уши, так как точки образуют нижнюю выпуклую оболочку. Будем двигаться из $p$ по вертикальной прямой в положительном напралении, при этом число видимых ушей будет уменьшаться. Будем флипать ребра ушей (ребро $p q_i$ для уха $q_{i-1} q_i q_{i+1}$) в порядке пропадания из зоны видимости. Ясно, что ухо пропадает из зоны видимости в точке пересечения плоскости этого уха с вертикальной прямой, содержащей $p$, по которой идет движение.\n",
    "\n",
    "Далее для краткости будем называть **расстоянием по вертикали от точки $p$ до плоскости $S$** расстояние от точки $p$ до точки пересечения вертикальной прямой, содержащей $p$, с плоскостью $S$.  \n"
   ]
  },
  {
   "cell_type": "markdown",
   "metadata": {},
   "source": [
    "### Лемма\n",
    "\n",
    "Рассмотрим точки на параболоиде $\\{q_0, q_1, \\ldots , q_{k−1}, q_k = q_0\\}$ и точку $p$, такие что ребра $q_iq_{i+1}$ принадлежат нижней выпуклой оболочке точек $\\{q_0, q_1, \\ldots , q_{k−1}, p\\}$. Тогда если расстояние по вертикали от точки $p$ до плоскости $q_i \\, q_{i+1} \\, q_{i+2}$ минимально, то ребро $q_iq_{i+2}$ принадлежит нижней выпуклой оболочке для точек $\\{q_0, q_1, \\ldots , q_{k−1}\\}$.\n",
    "\n",
    "$\\triangleright$\n",
    "\n",
    "<div style=\"padding-left:27px\" >\n",
    "Рассмотрим получившуюся оболочку после удаления точки $p$. Докажем, что для любого уха, не входящего в эту оболочку, найдется ухо из оболочки, для которого расстояние по вертикали до точки $p$ меньше. Ясно, что из этого следует утверждение леммы.\n",
    "<br><br>\n",
    "Рассмотрим ухо $i j k$, не входящее в оболочку, для ребра $i j$ есть точка $r$ такая, что $i j r$ — грань оболочки. Так как мы рассматриваем нижнюю выпуклую оболочку, точка $k$ лежит выше грани $i j r$, тогда полуплоскость $i j k$ лежит ниже полуплоскости $i j r$. Заметим, что точка $p$ и вертикальная прямая через неё пересекают эти полуплоскости. Тогда и точка пересечения плоскости $i j k$ с прямой лежит ниже точки пересечения $i j r$ с прямой. Это значит, что расстояние по вертикали от $p$ до $i j r$ меньше чем расстояние по вертикали от $p$ до $i j k$.\n",
    "<br><br>\n",
    "<img src=\"Pictures/lemma100.png\" style=\"float: center; width: 400px;\" />\n",
    "Но грань $ijr$ не обязательно является ухом. Докажем, что если грань $ijr$ не является ухом, то в оболочке есть ухо с меньшим расстоянием по верикали до $p$. Рассмотрим соседние с $ijr$ грани триангуляции, их хотя бы 2 и по крайней мере у одной из них расстояние по вертикали до $p$ меньше (легко доказать от противного). Если эта соседняя грань также не является ухом, продолжим искать ухо для этой грани. Так как каждый раз при переходе к рассмотрению соседней грани расстояние по вертикали уменьшается, этот процесс завершится, и полученное в итоге ухо будет иметь меньшее расстояние по вертикали до $p$ чем грань $ijr$.\n",
    "<br><br>\n",
    "Таким образом, мы доказали, что для любого уха не из оболочки есть ухо из оболочки, для которого расстояние по вертикали до точки $p$ меньше. Это значит, что ухо с наименьшим расстоянием по вертикали является гранью нижней выпуклой оболочки без точки $p$.\n",
    "</div>\n",
    "\n",
    "$\\triangleleft$\n",
    "    "
   ]
  },
  {
   "cell_type": "markdown",
   "metadata": {
    "slideshow": {
     "slide_type": "slide"
    }
   },
   "source": [
    "### Подробности реализации\n",
    "Так как после флипа ребра $pq_i$ у точек $q_{i-1}$ и $q_{i+1}$ меняется один сосед в обходе (они становятся соседними друг с другом вместо $q_i$), будем поддерживать приоритетную очередь, где значения — рёбра из точки $p$, а ключи — расстояния по вертикали от $p$ до плоскости соответствующего ребру уха, и после флипа обновлять значения.\n",
    "\n",
    "Расстояние будем вычислять по формуле: <br>\n",
    "$h(p,q_{i-1},q_i,q_{i+1}) = \\frac{V_{q_{i-1} q_i q_{i+1}p}}{S^*_{q_{i-1} q_i q_{i+1}}} = \n",
    "\\frac{\n",
    "\\begin{vmatrix}\n",
    "q_{i-1(x)}                    & q_{i(x)}                    & q_{i+1(x)}                    & p_{(x)}                 & \\\\ \n",
    "q_{i-1(y)}                    & q_{i(y)}                    & q_{i+1(y)}                    & p_{(y)}                 & \\\\ \n",
    "q_{i-1(x)}^2 + q_{i-1(y)} ^ 2 & q_{i(x)}^2 + q_{i(y)} ^ 2   & q_{i+1(x)}^2 + q_{i+1(y)} ^ 2 & p_{(x)}^2 + p_{(y)} ^ 2 & \\\\ \n",
    "1                             & 1                           & 1                             & 1                       &\n",
    "\\end{vmatrix} } {\n",
    "\\begin{vmatrix}\n",
    "q_{i-1(x)}                    & q_{i(x)}                    & q_{i+1(x)} & \\\\ \n",
    "q_{i-1(y)}                    & q_{i(y)}                    & q_{i+1(y)} & \\\\ \n",
    "1                             & 1                           & 1          &\n",
    "\\end{vmatrix}\n",
    "}$\n",
    "\n",
    "Где $V_{q_{i-1} q_i q_{i+1} p}$ — объем тетраэдра точек на параболоиде, а $S^*_{q_{i-1} q_i q_{i+1}}$ — площадь треугольника на плоскости."
   ]
  },
  {
   "cell_type": "markdown",
   "metadata": {
    "slideshow": {
     "slide_type": "slide"
    }
   },
   "source": [
    "#### Пример <br>\n",
    "| <img src=\"Pictures/del1.png \" width=\"300px\">  | <img src=\"Pictures/del2.png \" width=\"300px\"> | <img src=\"Pictures/del3.png \" width=\"300px\"> |\n",
    "|:---:|:---:|:---:|\n",
    "| Триангуляция до выполниения удаления |После всех флипов (синим обозначены новые рёбра)|Триангуляция после удаления точки |"
   ]
  },
  {
   "cell_type": "markdown",
   "metadata": {
    "slideshow": {
     "slide_type": "slide"
    }
   },
   "source": [
    "## Время работы <a id=\"time\"></a>"
   ]
  },
  {
   "cell_type": "markdown",
   "metadata": {
    "slideshow": {
     "slide_type": "slide"
    }
   },
   "source": [
    "### Вставка"
   ]
  },
  {
   "cell_type": "markdown",
   "metadata": {
    "slideshow": {
     "slide_type": "fragment"
    }
   },
   "source": [
    "#### Лемма 6\n",
    "Средняя степень вершины после вставки её в триангуляцию Делоне равна $O(1)$.\n",
    "<br>$\\triangleright$<br><div style=\"padding-left:40px\">\n",
    "Так как триангуляция представляет собой планарный граф, применима формула Эйлера и следствие из него: для связного планарного графа с $V$ вершинами и $E$ ребрами выполнено неравенство $E \\le 3V - 6$. Тогда среднюю степень вершины можно оценить как $d_{average}= \\frac{2E}V \\le 2 \\cdot \\frac{3V - 6} V = O(1)$\n",
    "<br></div>$\\triangleleft$"
   ]
  },
  {
   "cell_type": "markdown",
   "metadata": {
    "slideshow": {
     "slide_type": "fragment"
    }
   },
   "source": [
    "**Теорема** <br>\n",
    "При вставке точки в триангуляцию Делоне в среднем придётся сделать $O(1)$ флипов.\n",
    "<br>$\\triangleright$<br><div style=\"padding-left:40px\">\n",
    "Все флипнутые рёбра окажутся инцидентными вставленной точке (**по лемме 3**), а степень вершины — $O(1)$ (**по лемме 6**). Поэтому будет сделано $O(1)$ флипов.\n",
    "<br></div>$\\triangleleft$\n"
   ]
  },
  {
   "cell_type": "markdown",
   "metadata": {
    "slideshow": {
     "slide_type": "slide"
    }
   },
   "source": [
    "**Замечание 1** <br>\n",
    "Существует такой порядок добавления точек, что построение триангуляции с $n$ точками будет работать за $O(n^2)$. Поэтому важно добавлять точки в случайном порядке, тогда будет выполняться средняя оценка на время — $O(n)$.\n",
    "\n",
    "**Пример плохого порядка добавления**\n",
    "\n",
    "| <img src=\"Pictures/worse1.png \" width=\"230px\">  | <img src=\"Pictures/worse2.png \" width=\"250px\"> | <img src=\"Pictures/worse3.png \" width=\"250px\"> |\n",
    "|:---:|:---:|:---:|\n",
    "| | | ||\n",
    "\n",
    "При добавлении точек в правую часть производится $O(n)$ флипов."
   ]
  },
  {
   "cell_type": "markdown",
   "metadata": {
    "slideshow": {
     "slide_type": "fragment"
    }
   },
   "source": [
    "**Замечание 2**<br>\n",
    "Так как среднее число флипов — $O(1)$, то время вставки целиком зависит от времени локализации."
   ]
  },
  {
   "cell_type": "markdown",
   "metadata": {
    "slideshow": {
     "slide_type": "slide"
    }
   },
   "source": [
    "### Удаление\n",
    "\n",
    "Средняя степень вершины в триангуляции — $O(1)$, так как при удалении обрабатываются только инцидентные вершине ребра, то среднее число флипов будет также $O(1)$."
   ]
  }
 ],
 "metadata": {
  "anaconda-cloud": {},
  "kernelspec": {
   "display_name": "Python 3",
   "language": "python",
   "name": "python3"
  },
  "language_info": {
   "codemirror_mode": {
    "name": "ipython",
    "version": 3
   },
   "file_extension": ".py",
   "mimetype": "text/x-python",
   "name": "python",
   "nbconvert_exporter": "python",
   "pygments_lexer": "ipython3",
   "version": "3.5.2"
  }
 },
 "nbformat": 4,
 "nbformat_minor": 1
}
