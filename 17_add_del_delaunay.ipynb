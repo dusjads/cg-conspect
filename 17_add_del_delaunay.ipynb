{
 "cells": [
  {
   "cell_type": "markdown",
   "metadata": {
    "slideshow": {
     "slide_type": "slide"
    }
   },
   "source": [
    "# Триангуляция Делоне. Динамический алгоритм: удаление и вставка"
   ]
  },
  {
   "cell_type": "markdown",
   "metadata": {
    "slideshow": {
     "slide_type": "slide"
    }
   },
   "source": [
    "## Содержание\n",
    "\n",
    "- [Задача](#prob)\n",
    "- [Базовые определения](#def)\n",
    "- [Визуализация](#visual)\n",
    "- [Дополнительные определения](#adddef)\n",
    "- [Алгоритм вставки](#insert)\n",
    "- [Алгоритм удаления](#remove)\n",
    "- [Время работы](#time)"
   ]
  },
  {
   "cell_type": "markdown",
   "metadata": {
    "slideshow": {
     "slide_type": "slide"
    }
   },
   "source": [
    "## Задача <a id=\"prob\"></a>\n",
    "\n",
    "Для данной триангуляции Делоне множества точек необходимо научиться выполнять **вставку** некоторой точки в триангуляцию и **удаление** некоторой точки."
   ]
  },
  {
   "cell_type": "markdown",
   "metadata": {
    "slideshow": {
     "slide_type": "fragment"
    }
   },
   "source": [
    "## Базовые определения <a id=\"def\"></a>\n",
    "\n",
    "**Подразбиение Делоне множества точек** — такое разбиение выпуклой оболочки множества точек на множество выпуклых фигур, что в окружности, описанной вокруг любой из фигур, не находится никаких точек из множества.\n",
    "\n",
    "**Триангуляция Делоне множества точек** — триангуляция, являющаяся подразбиением Делоне.\n"
   ]
  },
  {
   "cell_type": "markdown",
   "metadata": {
    "slideshow": {
     "slide_type": "skip"
    }
   },
   "source": [
    "***Примечание:*** *для понимания дальнейшего материала необходимо сначала ознакомиться с базовой теорией о триангуляции Делоне, однородных координатах, а также со структурой данных DCEL.*(и тут ссылки на ноутбуки)"
   ]
  },
  {
   "cell_type": "markdown",
   "metadata": {
    "slideshow": {
     "slide_type": "skip"
    }
   },
   "source": [
    "## Визуализация <a id=\"visual\"></a>\n",
    "Блок ниже запускает визуализацию удаления и вставки точки в триангуляцию.<br> \n",
    "Клик по точке в триангуляции удаляет эту точку.<br>\n",
    "Клик в любом месте кроме точек из триангуляции добавляет точку места клика в триангуляцию.<br>\n",
    "Измененная точка отображается желтым цветом."
   ]
  },
  {
   "cell_type": "code",
   "execution_count": 2,
   "metadata": {
    "slideshow": {
     "slide_type": "slide"
    }
   },
   "outputs": [
    {
     "data": {
      "application/javascript": [
       "/* Put everything inside the global mpl namespace */\n",
       "window.mpl = {};\n",
       "\n",
       "mpl.get_websocket_type = function() {\n",
       "    if (typeof(WebSocket) !== 'undefined') {\n",
       "        return WebSocket;\n",
       "    } else if (typeof(MozWebSocket) !== 'undefined') {\n",
       "        return MozWebSocket;\n",
       "    } else {\n",
       "        alert('Your browser does not have WebSocket support.' +\n",
       "              'Please try Chrome, Safari or Firefox ≥ 6. ' +\n",
       "              'Firefox 4 and 5 are also supported but you ' +\n",
       "              'have to enable WebSockets in about:config.');\n",
       "    };\n",
       "}\n",
       "\n",
       "mpl.figure = function(figure_id, websocket, ondownload, parent_element) {\n",
       "    this.id = figure_id;\n",
       "\n",
       "    this.ws = websocket;\n",
       "\n",
       "    this.supports_binary = (this.ws.binaryType != undefined);\n",
       "\n",
       "    if (!this.supports_binary) {\n",
       "        var warnings = document.getElementById(\"mpl-warnings\");\n",
       "        if (warnings) {\n",
       "            warnings.style.display = 'block';\n",
       "            warnings.textContent = (\n",
       "                \"This browser does not support binary websocket messages. \" +\n",
       "                    \"Performance may be slow.\");\n",
       "        }\n",
       "    }\n",
       "\n",
       "    this.imageObj = new Image();\n",
       "\n",
       "    this.context = undefined;\n",
       "    this.message = undefined;\n",
       "    this.canvas = undefined;\n",
       "    this.rubberband_canvas = undefined;\n",
       "    this.rubberband_context = undefined;\n",
       "    this.format_dropdown = undefined;\n",
       "\n",
       "    this.image_mode = 'full';\n",
       "\n",
       "    this.root = $('<div/>');\n",
       "    this._root_extra_style(this.root)\n",
       "    this.root.attr('style', 'display: inline-block');\n",
       "\n",
       "    $(parent_element).append(this.root);\n",
       "\n",
       "    this._init_header(this);\n",
       "    this._init_canvas(this);\n",
       "    this._init_toolbar(this);\n",
       "\n",
       "    var fig = this;\n",
       "\n",
       "    this.waiting = false;\n",
       "\n",
       "    this.ws.onopen =  function () {\n",
       "            fig.send_message(\"supports_binary\", {value: fig.supports_binary});\n",
       "            fig.send_message(\"send_image_mode\", {});\n",
       "            fig.send_message(\"refresh\", {});\n",
       "        }\n",
       "\n",
       "    this.imageObj.onload = function() {\n",
       "            if (fig.image_mode == 'full') {\n",
       "                // Full images could contain transparency (where diff images\n",
       "                // almost always do), so we need to clear the canvas so that\n",
       "                // there is no ghosting.\n",
       "                fig.context.clearRect(0, 0, fig.canvas.width, fig.canvas.height);\n",
       "            }\n",
       "            fig.context.drawImage(fig.imageObj, 0, 0);\n",
       "        };\n",
       "\n",
       "    this.imageObj.onunload = function() {\n",
       "        this.ws.close();\n",
       "    }\n",
       "\n",
       "    this.ws.onmessage = this._make_on_message_function(this);\n",
       "\n",
       "    this.ondownload = ondownload;\n",
       "}\n",
       "\n",
       "mpl.figure.prototype._init_header = function() {\n",
       "    var titlebar = $(\n",
       "        '<div class=\"ui-dialog-titlebar ui-widget-header ui-corner-all ' +\n",
       "        'ui-helper-clearfix\"/>');\n",
       "    var titletext = $(\n",
       "        '<div class=\"ui-dialog-title\" style=\"width: 100%; ' +\n",
       "        'text-align: center; padding: 3px;\"/>');\n",
       "    titlebar.append(titletext)\n",
       "    this.root.append(titlebar);\n",
       "    this.header = titletext[0];\n",
       "}\n",
       "\n",
       "\n",
       "\n",
       "mpl.figure.prototype._canvas_extra_style = function(canvas_div) {\n",
       "\n",
       "}\n",
       "\n",
       "\n",
       "mpl.figure.prototype._root_extra_style = function(canvas_div) {\n",
       "\n",
       "}\n",
       "\n",
       "mpl.figure.prototype._init_canvas = function() {\n",
       "    var fig = this;\n",
       "\n",
       "    var canvas_div = $('<div/>');\n",
       "\n",
       "    canvas_div.attr('style', 'position: relative; clear: both; outline: 0');\n",
       "\n",
       "    function canvas_keyboard_event(event) {\n",
       "        return fig.key_event(event, event['data']);\n",
       "    }\n",
       "\n",
       "    canvas_div.keydown('key_press', canvas_keyboard_event);\n",
       "    canvas_div.keyup('key_release', canvas_keyboard_event);\n",
       "    this.canvas_div = canvas_div\n",
       "    this._canvas_extra_style(canvas_div)\n",
       "    this.root.append(canvas_div);\n",
       "\n",
       "    var canvas = $('<canvas/>');\n",
       "    canvas.addClass('mpl-canvas');\n",
       "    canvas.attr('style', \"left: 0; top: 0; z-index: 0; outline: 0\")\n",
       "\n",
       "    this.canvas = canvas[0];\n",
       "    this.context = canvas[0].getContext(\"2d\");\n",
       "\n",
       "    var rubberband = $('<canvas/>');\n",
       "    rubberband.attr('style', \"position: absolute; left: 0; top: 0; z-index: 1;\")\n",
       "\n",
       "    var pass_mouse_events = true;\n",
       "\n",
       "    canvas_div.resizable({\n",
       "        start: function(event, ui) {\n",
       "            pass_mouse_events = false;\n",
       "        },\n",
       "        resize: function(event, ui) {\n",
       "            fig.request_resize(ui.size.width, ui.size.height);\n",
       "        },\n",
       "        stop: function(event, ui) {\n",
       "            pass_mouse_events = true;\n",
       "            fig.request_resize(ui.size.width, ui.size.height);\n",
       "        },\n",
       "    });\n",
       "\n",
       "    function mouse_event_fn(event) {\n",
       "        if (pass_mouse_events)\n",
       "            return fig.mouse_event(event, event['data']);\n",
       "    }\n",
       "\n",
       "    rubberband.mousedown('button_press', mouse_event_fn);\n",
       "    rubberband.mouseup('button_release', mouse_event_fn);\n",
       "    // Throttle sequential mouse events to 1 every 20ms.\n",
       "    rubberband.mousemove('motion_notify', mouse_event_fn);\n",
       "\n",
       "    rubberband.mouseenter('figure_enter', mouse_event_fn);\n",
       "    rubberband.mouseleave('figure_leave', mouse_event_fn);\n",
       "\n",
       "    canvas_div.on(\"wheel\", function (event) {\n",
       "        event = event.originalEvent;\n",
       "        event['data'] = 'scroll'\n",
       "        if (event.deltaY < 0) {\n",
       "            event.step = 1;\n",
       "        } else {\n",
       "            event.step = -1;\n",
       "        }\n",
       "        mouse_event_fn(event);\n",
       "    });\n",
       "\n",
       "    canvas_div.append(canvas);\n",
       "    canvas_div.append(rubberband);\n",
       "\n",
       "    this.rubberband = rubberband;\n",
       "    this.rubberband_canvas = rubberband[0];\n",
       "    this.rubberband_context = rubberband[0].getContext(\"2d\");\n",
       "    this.rubberband_context.strokeStyle = \"#000000\";\n",
       "\n",
       "    this._resize_canvas = function(width, height) {\n",
       "        // Keep the size of the canvas, canvas container, and rubber band\n",
       "        // canvas in synch.\n",
       "        canvas_div.css('width', width)\n",
       "        canvas_div.css('height', height)\n",
       "\n",
       "        canvas.attr('width', width);\n",
       "        canvas.attr('height', height);\n",
       "\n",
       "        rubberband.attr('width', width);\n",
       "        rubberband.attr('height', height);\n",
       "    }\n",
       "\n",
       "    // Set the figure to an initial 600x600px, this will subsequently be updated\n",
       "    // upon first draw.\n",
       "    this._resize_canvas(600, 600);\n",
       "\n",
       "    // Disable right mouse context menu.\n",
       "    $(this.rubberband_canvas).bind(\"contextmenu\",function(e){\n",
       "        return false;\n",
       "    });\n",
       "\n",
       "    function set_focus () {\n",
       "        canvas.focus();\n",
       "        canvas_div.focus();\n",
       "    }\n",
       "\n",
       "    window.setTimeout(set_focus, 100);\n",
       "}\n",
       "\n",
       "mpl.figure.prototype._init_toolbar = function() {\n",
       "    var fig = this;\n",
       "\n",
       "    var nav_element = $('<div/>')\n",
       "    nav_element.attr('style', 'width: 100%');\n",
       "    this.root.append(nav_element);\n",
       "\n",
       "    // Define a callback function for later on.\n",
       "    function toolbar_event(event) {\n",
       "        return fig.toolbar_button_onclick(event['data']);\n",
       "    }\n",
       "    function toolbar_mouse_event(event) {\n",
       "        return fig.toolbar_button_onmouseover(event['data']);\n",
       "    }\n",
       "\n",
       "    for(var toolbar_ind in mpl.toolbar_items) {\n",
       "        var name = mpl.toolbar_items[toolbar_ind][0];\n",
       "        var tooltip = mpl.toolbar_items[toolbar_ind][1];\n",
       "        var image = mpl.toolbar_items[toolbar_ind][2];\n",
       "        var method_name = mpl.toolbar_items[toolbar_ind][3];\n",
       "\n",
       "        if (!name) {\n",
       "            // put a spacer in here.\n",
       "            continue;\n",
       "        }\n",
       "        var button = $('<button/>');\n",
       "        button.addClass('ui-button ui-widget ui-state-default ui-corner-all ' +\n",
       "                        'ui-button-icon-only');\n",
       "        button.attr('role', 'button');\n",
       "        button.attr('aria-disabled', 'false');\n",
       "        button.click(method_name, toolbar_event);\n",
       "        button.mouseover(tooltip, toolbar_mouse_event);\n",
       "\n",
       "        var icon_img = $('<span/>');\n",
       "        icon_img.addClass('ui-button-icon-primary ui-icon');\n",
       "        icon_img.addClass(image);\n",
       "        icon_img.addClass('ui-corner-all');\n",
       "\n",
       "        var tooltip_span = $('<span/>');\n",
       "        tooltip_span.addClass('ui-button-text');\n",
       "        tooltip_span.html(tooltip);\n",
       "\n",
       "        button.append(icon_img);\n",
       "        button.append(tooltip_span);\n",
       "\n",
       "        nav_element.append(button);\n",
       "    }\n",
       "\n",
       "    var fmt_picker_span = $('<span/>');\n",
       "\n",
       "    var fmt_picker = $('<select/>');\n",
       "    fmt_picker.addClass('mpl-toolbar-option ui-widget ui-widget-content');\n",
       "    fmt_picker_span.append(fmt_picker);\n",
       "    nav_element.append(fmt_picker_span);\n",
       "    this.format_dropdown = fmt_picker[0];\n",
       "\n",
       "    for (var ind in mpl.extensions) {\n",
       "        var fmt = mpl.extensions[ind];\n",
       "        var option = $(\n",
       "            '<option/>', {selected: fmt === mpl.default_extension}).html(fmt);\n",
       "        fmt_picker.append(option)\n",
       "    }\n",
       "\n",
       "    // Add hover states to the ui-buttons\n",
       "    $( \".ui-button\" ).hover(\n",
       "        function() { $(this).addClass(\"ui-state-hover\");},\n",
       "        function() { $(this).removeClass(\"ui-state-hover\");}\n",
       "    );\n",
       "\n",
       "    var status_bar = $('<span class=\"mpl-message\"/>');\n",
       "    nav_element.append(status_bar);\n",
       "    this.message = status_bar[0];\n",
       "}\n",
       "\n",
       "mpl.figure.prototype.request_resize = function(x_pixels, y_pixels) {\n",
       "    // Request matplotlib to resize the figure. Matplotlib will then trigger a resize in the client,\n",
       "    // which will in turn request a refresh of the image.\n",
       "    this.send_message('resize', {'width': x_pixels, 'height': y_pixels});\n",
       "}\n",
       "\n",
       "mpl.figure.prototype.send_message = function(type, properties) {\n",
       "    properties['type'] = type;\n",
       "    properties['figure_id'] = this.id;\n",
       "    this.ws.send(JSON.stringify(properties));\n",
       "}\n",
       "\n",
       "mpl.figure.prototype.send_draw_message = function() {\n",
       "    if (!this.waiting) {\n",
       "        this.waiting = true;\n",
       "        this.ws.send(JSON.stringify({type: \"draw\", figure_id: this.id}));\n",
       "    }\n",
       "}\n",
       "\n",
       "\n",
       "mpl.figure.prototype.handle_save = function(fig, msg) {\n",
       "    var format_dropdown = fig.format_dropdown;\n",
       "    var format = format_dropdown.options[format_dropdown.selectedIndex].value;\n",
       "    fig.ondownload(fig, format);\n",
       "}\n",
       "\n",
       "\n",
       "mpl.figure.prototype.handle_resize = function(fig, msg) {\n",
       "    var size = msg['size'];\n",
       "    if (size[0] != fig.canvas.width || size[1] != fig.canvas.height) {\n",
       "        fig._resize_canvas(size[0], size[1]);\n",
       "        fig.send_message(\"refresh\", {});\n",
       "    };\n",
       "}\n",
       "\n",
       "mpl.figure.prototype.handle_rubberband = function(fig, msg) {\n",
       "    var x0 = msg['x0'];\n",
       "    var y0 = fig.canvas.height - msg['y0'];\n",
       "    var x1 = msg['x1'];\n",
       "    var y1 = fig.canvas.height - msg['y1'];\n",
       "    x0 = Math.floor(x0) + 0.5;\n",
       "    y0 = Math.floor(y0) + 0.5;\n",
       "    x1 = Math.floor(x1) + 0.5;\n",
       "    y1 = Math.floor(y1) + 0.5;\n",
       "    var min_x = Math.min(x0, x1);\n",
       "    var min_y = Math.min(y0, y1);\n",
       "    var width = Math.abs(x1 - x0);\n",
       "    var height = Math.abs(y1 - y0);\n",
       "\n",
       "    fig.rubberband_context.clearRect(\n",
       "        0, 0, fig.canvas.width, fig.canvas.height);\n",
       "\n",
       "    fig.rubberband_context.strokeRect(min_x, min_y, width, height);\n",
       "}\n",
       "\n",
       "mpl.figure.prototype.handle_figure_label = function(fig, msg) {\n",
       "    // Updates the figure title.\n",
       "    fig.header.textContent = msg['label'];\n",
       "}\n",
       "\n",
       "mpl.figure.prototype.handle_cursor = function(fig, msg) {\n",
       "    var cursor = msg['cursor'];\n",
       "    switch(cursor)\n",
       "    {\n",
       "    case 0:\n",
       "        cursor = 'pointer';\n",
       "        break;\n",
       "    case 1:\n",
       "        cursor = 'default';\n",
       "        break;\n",
       "    case 2:\n",
       "        cursor = 'crosshair';\n",
       "        break;\n",
       "    case 3:\n",
       "        cursor = 'move';\n",
       "        break;\n",
       "    }\n",
       "    fig.rubberband_canvas.style.cursor = cursor;\n",
       "}\n",
       "\n",
       "mpl.figure.prototype.handle_message = function(fig, msg) {\n",
       "    fig.message.textContent = msg['message'];\n",
       "}\n",
       "\n",
       "mpl.figure.prototype.handle_draw = function(fig, msg) {\n",
       "    // Request the server to send over a new figure.\n",
       "    fig.send_draw_message();\n",
       "}\n",
       "\n",
       "mpl.figure.prototype.handle_image_mode = function(fig, msg) {\n",
       "    fig.image_mode = msg['mode'];\n",
       "}\n",
       "\n",
       "mpl.figure.prototype.updated_canvas_event = function() {\n",
       "    // Called whenever the canvas gets updated.\n",
       "    this.send_message(\"ack\", {});\n",
       "}\n",
       "\n",
       "// A function to construct a web socket function for onmessage handling.\n",
       "// Called in the figure constructor.\n",
       "mpl.figure.prototype._make_on_message_function = function(fig) {\n",
       "    return function socket_on_message(evt) {\n",
       "        if (evt.data instanceof Blob) {\n",
       "            /* FIXME: We get \"Resource interpreted as Image but\n",
       "             * transferred with MIME type text/plain:\" errors on\n",
       "             * Chrome.  But how to set the MIME type?  It doesn't seem\n",
       "             * to be part of the websocket stream */\n",
       "            evt.data.type = \"image/png\";\n",
       "\n",
       "            /* Free the memory for the previous frames */\n",
       "            if (fig.imageObj.src) {\n",
       "                (window.URL || window.webkitURL).revokeObjectURL(\n",
       "                    fig.imageObj.src);\n",
       "            }\n",
       "\n",
       "            fig.imageObj.src = (window.URL || window.webkitURL).createObjectURL(\n",
       "                evt.data);\n",
       "            fig.updated_canvas_event();\n",
       "            fig.waiting = false;\n",
       "            return;\n",
       "        }\n",
       "        else if (typeof evt.data === 'string' && evt.data.slice(0, 21) == \"data:image/png;base64\") {\n",
       "            fig.imageObj.src = evt.data;\n",
       "            fig.updated_canvas_event();\n",
       "            fig.waiting = false;\n",
       "            return;\n",
       "        }\n",
       "\n",
       "        var msg = JSON.parse(evt.data);\n",
       "        var msg_type = msg['type'];\n",
       "\n",
       "        // Call the  \"handle_{type}\" callback, which takes\n",
       "        // the figure and JSON message as its only arguments.\n",
       "        try {\n",
       "            var callback = fig[\"handle_\" + msg_type];\n",
       "        } catch (e) {\n",
       "            console.log(\"No handler for the '\" + msg_type + \"' message type: \", msg);\n",
       "            return;\n",
       "        }\n",
       "\n",
       "        if (callback) {\n",
       "            try {\n",
       "                // console.log(\"Handling '\" + msg_type + \"' message: \", msg);\n",
       "                callback(fig, msg);\n",
       "            } catch (e) {\n",
       "                console.log(\"Exception inside the 'handler_\" + msg_type + \"' callback:\", e, e.stack, msg);\n",
       "            }\n",
       "        }\n",
       "    };\n",
       "}\n",
       "\n",
       "// from http://stackoverflow.com/questions/1114465/getting-mouse-location-in-canvas\n",
       "mpl.findpos = function(e) {\n",
       "    //this section is from http://www.quirksmode.org/js/events_properties.html\n",
       "    var targ;\n",
       "    if (!e)\n",
       "        e = window.event;\n",
       "    if (e.target)\n",
       "        targ = e.target;\n",
       "    else if (e.srcElement)\n",
       "        targ = e.srcElement;\n",
       "    if (targ.nodeType == 3) // defeat Safari bug\n",
       "        targ = targ.parentNode;\n",
       "\n",
       "    // jQuery normalizes the pageX and pageY\n",
       "    // pageX,Y are the mouse positions relative to the document\n",
       "    // offset() returns the position of the element relative to the document\n",
       "    var x = e.pageX - $(targ).offset().left;\n",
       "    var y = e.pageY - $(targ).offset().top;\n",
       "\n",
       "    return {\"x\": x, \"y\": y};\n",
       "};\n",
       "\n",
       "/*\n",
       " * return a copy of an object with only non-object keys\n",
       " * we need this to avoid circular references\n",
       " * http://stackoverflow.com/a/24161582/3208463\n",
       " */\n",
       "function simpleKeys (original) {\n",
       "  return Object.keys(original).reduce(function (obj, key) {\n",
       "    if (typeof original[key] !== 'object')\n",
       "        obj[key] = original[key]\n",
       "    return obj;\n",
       "  }, {});\n",
       "}\n",
       "\n",
       "mpl.figure.prototype.mouse_event = function(event, name) {\n",
       "    var canvas_pos = mpl.findpos(event)\n",
       "\n",
       "    if (name === 'button_press')\n",
       "    {\n",
       "        this.canvas.focus();\n",
       "        this.canvas_div.focus();\n",
       "    }\n",
       "\n",
       "    var x = canvas_pos.x;\n",
       "    var y = canvas_pos.y;\n",
       "\n",
       "    this.send_message(name, {x: x, y: y, button: event.button,\n",
       "                             step: event.step,\n",
       "                             guiEvent: simpleKeys(event)});\n",
       "\n",
       "    /* This prevents the web browser from automatically changing to\n",
       "     * the text insertion cursor when the button is pressed.  We want\n",
       "     * to control all of the cursor setting manually through the\n",
       "     * 'cursor' event from matplotlib */\n",
       "    event.preventDefault();\n",
       "    return false;\n",
       "}\n",
       "\n",
       "mpl.figure.prototype._key_event_extra = function(event, name) {\n",
       "    // Handle any extra behaviour associated with a key event\n",
       "}\n",
       "\n",
       "mpl.figure.prototype.key_event = function(event, name) {\n",
       "\n",
       "    // Prevent repeat events\n",
       "    if (name == 'key_press')\n",
       "    {\n",
       "        if (event.which === this._key)\n",
       "            return;\n",
       "        else\n",
       "            this._key = event.which;\n",
       "    }\n",
       "    if (name == 'key_release')\n",
       "        this._key = null;\n",
       "\n",
       "    var value = '';\n",
       "    if (event.ctrlKey && event.which != 17)\n",
       "        value += \"ctrl+\";\n",
       "    if (event.altKey && event.which != 18)\n",
       "        value += \"alt+\";\n",
       "    if (event.shiftKey && event.which != 16)\n",
       "        value += \"shift+\";\n",
       "\n",
       "    value += 'k';\n",
       "    value += event.which.toString();\n",
       "\n",
       "    this._key_event_extra(event, name);\n",
       "\n",
       "    this.send_message(name, {key: value,\n",
       "                             guiEvent: simpleKeys(event)});\n",
       "    return false;\n",
       "}\n",
       "\n",
       "mpl.figure.prototype.toolbar_button_onclick = function(name) {\n",
       "    if (name == 'download') {\n",
       "        this.handle_save(this, null);\n",
       "    } else {\n",
       "        this.send_message(\"toolbar_button\", {name: name});\n",
       "    }\n",
       "};\n",
       "\n",
       "mpl.figure.prototype.toolbar_button_onmouseover = function(tooltip) {\n",
       "    this.message.textContent = tooltip;\n",
       "};\n",
       "mpl.toolbar_items = [[\"Home\", \"Reset original view\", \"fa fa-home icon-home\", \"home\"], [\"Back\", \"Back to  previous view\", \"fa fa-arrow-left icon-arrow-left\", \"back\"], [\"Forward\", \"Forward to next view\", \"fa fa-arrow-right icon-arrow-right\", \"forward\"], [\"\", \"\", \"\", \"\"], [\"Pan\", \"Pan axes with left mouse, zoom with right\", \"fa fa-arrows icon-move\", \"pan\"], [\"Zoom\", \"Zoom to rectangle\", \"fa fa-square-o icon-check-empty\", \"zoom\"], [\"\", \"\", \"\", \"\"], [\"Download\", \"Download plot\", \"fa fa-floppy-o icon-save\", \"download\"]];\n",
       "\n",
       "mpl.extensions = [\"eps\", \"pdf\", \"png\", \"ps\", \"raw\", \"svg\"];\n",
       "\n",
       "mpl.default_extension = \"png\";var comm_websocket_adapter = function(comm) {\n",
       "    // Create a \"websocket\"-like object which calls the given IPython comm\n",
       "    // object with the appropriate methods. Currently this is a non binary\n",
       "    // socket, so there is still some room for performance tuning.\n",
       "    var ws = {};\n",
       "\n",
       "    ws.close = function() {\n",
       "        comm.close()\n",
       "    };\n",
       "    ws.send = function(m) {\n",
       "        //console.log('sending', m);\n",
       "        comm.send(m);\n",
       "    };\n",
       "    // Register the callback with on_msg.\n",
       "    comm.on_msg(function(msg) {\n",
       "        //console.log('receiving', msg['content']['data'], msg);\n",
       "        // Pass the mpl event to the overriden (by mpl) onmessage function.\n",
       "        ws.onmessage(msg['content']['data'])\n",
       "    });\n",
       "    return ws;\n",
       "}\n",
       "\n",
       "mpl.mpl_figure_comm = function(comm, msg) {\n",
       "    // This is the function which gets called when the mpl process\n",
       "    // starts-up an IPython Comm through the \"matplotlib\" channel.\n",
       "\n",
       "    var id = msg.content.data.id;\n",
       "    // Get hold of the div created by the display call when the Comm\n",
       "    // socket was opened in Python.\n",
       "    var element = $(\"#\" + id);\n",
       "    var ws_proxy = comm_websocket_adapter(comm)\n",
       "\n",
       "    function ondownload(figure, format) {\n",
       "        window.open(figure.imageObj.src);\n",
       "    }\n",
       "\n",
       "    var fig = new mpl.figure(id, ws_proxy,\n",
       "                           ondownload,\n",
       "                           element.get(0));\n",
       "\n",
       "    // Call onopen now - mpl needs it, as it is assuming we've passed it a real\n",
       "    // web socket which is closed, not our websocket->open comm proxy.\n",
       "    ws_proxy.onopen();\n",
       "\n",
       "    fig.parent_element = element.get(0);\n",
       "    fig.cell_info = mpl.find_output_cell(\"<div id='\" + id + \"'></div>\");\n",
       "    if (!fig.cell_info) {\n",
       "        console.error(\"Failed to find cell for figure\", id, fig);\n",
       "        return;\n",
       "    }\n",
       "\n",
       "    var output_index = fig.cell_info[2]\n",
       "    var cell = fig.cell_info[0];\n",
       "\n",
       "};\n",
       "\n",
       "mpl.figure.prototype.handle_close = function(fig, msg) {\n",
       "    fig.root.unbind('remove')\n",
       "\n",
       "    // Update the output cell to use the data from the current canvas.\n",
       "    fig.push_to_output();\n",
       "    var dataURL = fig.canvas.toDataURL();\n",
       "    // Re-enable the keyboard manager in IPython - without this line, in FF,\n",
       "    // the notebook keyboard shortcuts fail.\n",
       "    IPython.keyboard_manager.enable()\n",
       "    $(fig.parent_element).html('<img src=\"' + dataURL + '\">');\n",
       "    fig.close_ws(fig, msg);\n",
       "}\n",
       "\n",
       "mpl.figure.prototype.close_ws = function(fig, msg){\n",
       "    fig.send_message('closing', msg);\n",
       "    // fig.ws.close()\n",
       "}\n",
       "\n",
       "mpl.figure.prototype.push_to_output = function(remove_interactive) {\n",
       "    // Turn the data on the canvas into data in the output cell.\n",
       "    var dataURL = this.canvas.toDataURL();\n",
       "    this.cell_info[1]['text/html'] = '<img src=\"' + dataURL + '\">';\n",
       "}\n",
       "\n",
       "mpl.figure.prototype.updated_canvas_event = function() {\n",
       "    // Tell IPython that the notebook contents must change.\n",
       "    IPython.notebook.set_dirty(true);\n",
       "    this.send_message(\"ack\", {});\n",
       "    var fig = this;\n",
       "    // Wait a second, then push the new image to the DOM so\n",
       "    // that it is saved nicely (might be nice to debounce this).\n",
       "    setTimeout(function () { fig.push_to_output() }, 1000);\n",
       "}\n",
       "\n",
       "mpl.figure.prototype._init_toolbar = function() {\n",
       "    var fig = this;\n",
       "\n",
       "    var nav_element = $('<div/>')\n",
       "    nav_element.attr('style', 'width: 100%');\n",
       "    this.root.append(nav_element);\n",
       "\n",
       "    // Define a callback function for later on.\n",
       "    function toolbar_event(event) {\n",
       "        return fig.toolbar_button_onclick(event['data']);\n",
       "    }\n",
       "    function toolbar_mouse_event(event) {\n",
       "        return fig.toolbar_button_onmouseover(event['data']);\n",
       "    }\n",
       "\n",
       "    for(var toolbar_ind in mpl.toolbar_items){\n",
       "        var name = mpl.toolbar_items[toolbar_ind][0];\n",
       "        var tooltip = mpl.toolbar_items[toolbar_ind][1];\n",
       "        var image = mpl.toolbar_items[toolbar_ind][2];\n",
       "        var method_name = mpl.toolbar_items[toolbar_ind][3];\n",
       "\n",
       "        if (!name) { continue; };\n",
       "\n",
       "        var button = $('<button class=\"btn btn-default\" href=\"#\" title=\"' + name + '\"><i class=\"fa ' + image + ' fa-lg\"></i></button>');\n",
       "        button.click(method_name, toolbar_event);\n",
       "        button.mouseover(tooltip, toolbar_mouse_event);\n",
       "        nav_element.append(button);\n",
       "    }\n",
       "\n",
       "    // Add the status bar.\n",
       "    var status_bar = $('<span class=\"mpl-message\" style=\"text-align:right; float: right;\"/>');\n",
       "    nav_element.append(status_bar);\n",
       "    this.message = status_bar[0];\n",
       "\n",
       "    // Add the close button to the window.\n",
       "    var buttongrp = $('<div class=\"btn-group inline pull-right\"></div>');\n",
       "    var button = $('<button class=\"btn btn-mini btn-primary\" href=\"#\" title=\"Stop Interaction\"><i class=\"fa fa-power-off icon-remove icon-large\"></i></button>');\n",
       "    button.click(function (evt) { fig.handle_close(fig, {}); } );\n",
       "    button.mouseover('Stop Interaction', toolbar_mouse_event);\n",
       "    buttongrp.append(button);\n",
       "    var titlebar = this.root.find($('.ui-dialog-titlebar'));\n",
       "    titlebar.prepend(buttongrp);\n",
       "}\n",
       "\n",
       "mpl.figure.prototype._root_extra_style = function(el){\n",
       "    var fig = this\n",
       "    el.on(\"remove\", function(){\n",
       "\tfig.close_ws(fig, {});\n",
       "    });\n",
       "}\n",
       "\n",
       "mpl.figure.prototype._canvas_extra_style = function(el){\n",
       "    // this is important to make the div 'focusable\n",
       "    el.attr('tabindex', 0)\n",
       "    // reach out to IPython and tell the keyboard manager to turn it's self\n",
       "    // off when our div gets focus\n",
       "\n",
       "    // location in version 3\n",
       "    if (IPython.notebook.keyboard_manager) {\n",
       "        IPython.notebook.keyboard_manager.register_events(el);\n",
       "    }\n",
       "    else {\n",
       "        // location in version 2\n",
       "        IPython.keyboard_manager.register_events(el);\n",
       "    }\n",
       "\n",
       "}\n",
       "\n",
       "mpl.figure.prototype._key_event_extra = function(event, name) {\n",
       "    var manager = IPython.notebook.keyboard_manager;\n",
       "    if (!manager)\n",
       "        manager = IPython.keyboard_manager;\n",
       "\n",
       "    // Check for shift+enter\n",
       "    if (event.shiftKey && event.which == 13) {\n",
       "        this.canvas_div.blur();\n",
       "        // select the cell after this one\n",
       "        var index = IPython.notebook.find_cell_index(this.cell_info[0]);\n",
       "        IPython.notebook.select(index + 1);\n",
       "    }\n",
       "}\n",
       "\n",
       "mpl.figure.prototype.handle_save = function(fig, msg) {\n",
       "    fig.ondownload(fig, null);\n",
       "}\n",
       "\n",
       "\n",
       "mpl.find_output_cell = function(html_output) {\n",
       "    // Return the cell and output element which can be found *uniquely* in the notebook.\n",
       "    // Note - this is a bit hacky, but it is done because the \"notebook_saving.Notebook\"\n",
       "    // IPython event is triggered only after the cells have been serialised, which for\n",
       "    // our purposes (turning an active figure into a static one), is too late.\n",
       "    var cells = IPython.notebook.get_cells();\n",
       "    var ncells = cells.length;\n",
       "    for (var i=0; i<ncells; i++) {\n",
       "        var cell = cells[i];\n",
       "        if (cell.cell_type === 'code'){\n",
       "            for (var j=0; j<cell.output_area.outputs.length; j++) {\n",
       "                var data = cell.output_area.outputs[j];\n",
       "                if (data.data) {\n",
       "                    // IPython >= 3 moved mimebundle to data attribute of output\n",
       "                    data = data.data;\n",
       "                }\n",
       "                if (data['text/html'] == html_output) {\n",
       "                    return [cell, data, j];\n",
       "                }\n",
       "            }\n",
       "        }\n",
       "    }\n",
       "}\n",
       "\n",
       "// Register the function which deals with the matplotlib target/channel.\n",
       "// The kernel may be null if the page has been refreshed.\n",
       "if (IPython.notebook.kernel != null) {\n",
       "    IPython.notebook.kernel.comm_manager.register_target('matplotlib', mpl.mpl_figure_comm);\n",
       "}\n"
      ],
      "text/plain": [
       "<IPython.core.display.Javascript object>"
      ]
     },
     "metadata": {},
     "output_type": "display_data"
    },
    {
     "data": {
      "text/html": [
       "<img src=\"data:image/png;base64,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\">"
      ],
      "text/plain": [
       "<IPython.core.display.HTML object>"
      ]
     },
     "metadata": {},
     "output_type": "display_data"
    }
   ],
   "source": [
    "%matplotlib notebook\n",
    "from add_del_visualize import visualize\n",
    "visualize()"
   ]
  },
  {
   "cell_type": "markdown",
   "metadata": {
    "slideshow": {
     "slide_type": "slide"
    }
   },
   "source": [
    "## Дополнительные определения и леммы для динамической триангуляции <a id=\"adddef\"></a>\n",
    " <img src=\"Pictures/flip.png\" style=\"float: right; width: 180px;\"/>\n",
    "**Локальный критерий Делоне для ребра** — пара треугольников, которым принадлежит это ребро, является триангуляцией Делоне вершин этих треугольников (то есть вершина, противолежащая ребру в одном треугольнике, не лежит в окружности, описанной вокруг другого треугольника, и наоборот).\n",
    "\n",
    "\n",
    "На рисунке справа локальный критерий Делоне выполнен только для синего ребра.\n",
    "\n",
    "Будем называть **хорошими** те рёбра, для которых выполняется локальный критерий Делоне.\n",
    "\n",
    "Рассмотрим пару смежных треугольников. Рёбра этих треугольников образуют четырёхугольник с проведённой в нём диагональю. Если этот четырёхугольник выпуклый, то возможна операция замены этой диагонали на другую, такая операция называется **флип (flip)**.\n",
    "\n",
    "<img src=\"Pictures/Flip2.png\" style=\"float: right; width: 320px;\"/>\n",
    "На рисунке справа флип переводит красное ребро в синее.\n",
    "\n",
    "\n",
    "**Замечание:** Если два смежных с ребором треугольника образуют невыпуклый четырёхугольник, то это ребро является хорошим. \n"
   ]
  },
  {
   "cell_type": "markdown",
   "metadata": {
    "slideshow": {
     "slide_type": "fragment"
    }
   },
   "source": [
    "**Глобальный критерий Делоне для триангуляции** — ни одна из окружностей, описанных вокруг треугольников из триангуляции не содержит других точек кроме вершин этого треугольника.\n",
    "#### Лемма\n",
    "\n",
    "<img src=\"Pictures/Global.png\" style=\"float: right; width: 200px;\"/> \n",
    "\n",
    "Если для всех ребер триангуляции выполнен локальный критерий Делоне, то для неё выполнен и глобальный критерий Делоне.\n",
    "<br>$\\triangleright$<br><div style=\"padding-left:40px\">\n",
    "Докажем методом от противного. Предположим, что все ребра хорошие, но существует точка $E$, которая пренадлежит некоторым треугольникам из триангуляции и не является их вершиной. Из всех таких треугольников выберем $ABC$, такой что угол $\\angle{BEC}$ максимален, при $BC$ ближайшей стороне к точке $E$. \n",
    "\n",
    "Рассмотрим треугольник $BCD$ смежный с $ABC$. Так как ребро $BC$ хорошее, то $D$ лежит вне его описанной окружности, значит, $\\angle{BAC} + \\angle{BDC} < 180^{\\circ}$. Так как $E$ лежит внутри описанной окружности $ABC$, то $\\angle{BAC} + \\angle{BEC} > 180^{\\circ}$. Из полученных неравенств следует, что $\\angle{BEC} > \\angle{BDC}$. Значит, точка $E$ лежит внутри описанной окружности треугольника $BCD$. А так как $\\angle{BED} > \\angle{BEC}$ получили противоречие с условием выбора треугольника $ABC$.\n",
    "</div>$\\triangleleft$\n"
   ]
  },
  {
   "cell_type": "markdown",
   "metadata": {
    "slideshow": {
     "slide_type": "slide"
    }
   },
   "source": [
    "Необходимо также понимать, что триангуляция Делоне является нижней выпуклой оболочкой точек, поднятых на параболоид, где мы считаем, что существует бесконечно удаленная по оси $z$ точка, которая образует бесконечные треугольные грани с крайними точками из оболочки.\n",
    "<img src=\"Pictures/paraboloid.png\" style=\"float: center; width: 500px;\"/> "
   ]
  },
  {
   "cell_type": "markdown",
   "metadata": {
    "slideshow": {
     "slide_type": "slide"
    }
   },
   "source": [
    "<img src=\"Pictures/lemma1.png\" style=\"float: right;\" />\n",
    "#### Лемма 1\n",
    "Флип плохого ребра заменяет его хорошим.\n",
    "<br>$\\triangleright$<br><div style=\"padding-left:40px\">\n",
    "Докажем, что из двух рёбер, которые можно провести для пары треугольников, как минимум одно хорошее.<br>\n",
    "Предположим, что это не так, то есть оба ребра (назовём их $AB$ и $CD$) плохие. Рассмотрим четырёхугольник $ACBD$ и окружность, описанную вокруг треугольника $ABC$. Точка $D$ лежит внутри этой окружности, значит, сумма углов $C$ и $D$ больше $180^{\\circ}$. Аналогично доказывается, что сумма углов $A$ и $B$ больше $180^{\\circ}$. Значит, сумма углов четырёхугольника $ACBD$ больше $360^{\\circ}$, что невозможно.<br>\n",
    "</div>$\\triangleleft$"
   ]
  },
  {
   "cell_type": "markdown",
   "metadata": {
    "slideshow": {
     "slide_type": "slide"
    }
   },
   "source": [
    "<img src=\"Pictures/Good_edge.png\" style=\"float: right;\" />\n",
    "#### Лемма 2\n",
    "\n",
    "Если в триангуляцию Делоне вставить точку в некоторый треугольник и соединить его вершины с этой точкой, то получившиеся рёбра будут хорошими.\n",
    "<br>$\\triangleright$<br><div style=\"padding-left:40px\">\n",
    "Предположим, точка была вставлена не на ребро. Рассмотрим любое из рёбер — пусть это будет ребро $VC$. Проведём окружность, описывающую треугольник $ABC$. По критерию Делоне в ней не будет никаких точек триангуляции. На ребре $VC$ можно построить окружность, изнутри касающуюся окружности, описанной вокруг треугольника. В ней тоже нет никаких точек. Значит, для $VC$ выполняется критерий Делоне для рёбер, значит, ребро должно принадлежать триангуляции с добавленной точкой $V$, значит, оно хорошее.\n",
    "    \n",
    "Случай, когда точка вставляется на ребро, рассматривается аналогично.<br>\n",
    "</div>$\\triangleleft$"
   ]
  },
  {
   "cell_type": "markdown",
   "metadata": {
    "slideshow": {
     "slide_type": "slide"
    }
   },
   "source": [
    "## Алгоритм вставки <a id=\"insert\"></a>"
   ]
  },
  {
   "cell_type": "markdown",
   "metadata": {
    "slideshow": {
     "slide_type": "fragment"
    }
   },
   "source": [
    "### Краткий план алгоритма\n",
    "\n",
    "1. Определяем, в каком фейсе (или на каком ребре) лежит точка. Для этого используем алгоритм локализации (ссылка)\n",
    "2. Добавляем три ребра, сам фейс превращаем в один из новых смежных с вставляемой точкой и добавялем ещё два фейса.\n",
    "3. Плохие ребра с помощью флипов заменяем на хорошие.\n"
   ]
  },
  {
   "cell_type": "markdown",
   "metadata": {
    "slideshow": {
     "slide_type": "slide"
    }
   },
   "source": [
    "#### Пример <br>\n",
    "| [![First](Pictures/first.png)](first)  | [![Second](Pictures/second.png)](second) | [![Third](Pictures/third.png)](third) |\n",
    "|:---:|:---:|:---:|\n",
    "| Триангуляция до выполниения вставки | Состояние после второго шага (зеленые ребра появились, синие ребра стали плохими)| Триангуляция после третьего шага |"
   ]
  },
  {
   "cell_type": "markdown",
   "metadata": {
    "slideshow": {
     "slide_type": "slide"
    }
   },
   "source": [
    "### Подробности реализации алгоритма вставки\n",
    "\n",
    "Пусть $q$ — вставляемая точка. <br>\n",
    "**Заметим**, что все добавленные в пункте 2 ребра по **лемме 2** являются хорошими. Плохими могут стать ребра противолежащие точке $q$. После пункта 1 мы имеем три таких ребра. Рассмотрим выпуклый четыехугольник, в котором происходит флип. Этот четырехугольник имеет ровно два ребра инцидентных $q$, флип порождат еще одно такое ребро. Ровно два ребра четырехугольника, которые не были инцидентны $q$, становятся противолежащими $q$ и могут оказаться плохими (докажем это в **лемме 3**).<br>\n",
    "\n",
    "| [![Lemmaa](Pictures/Flip3.png)](lemmaa)|\n",
    "|::|\n",
    "|При вставке точки $F$ ребро $CE$ флипается в ребро $FD$, рёбра $CD$ и $DE$ могут оказаться плохими|\n",
    "\n",
    "<br>\n",
    "Будем добавлять потенциально плохие ребра в очередь. При обработке очередного ребра из очереди будет происходить либо флип с добавлением двух рёбер в очередь в случае, если ребро плохое, либо пропуск ребра, если оно хорошее.<br>\n",
    "Докажем, что этот процесс завершится, с помощью **леммы 4** и **леммы 5**.\n"
   ]
  },
  {
   "cell_type": "markdown",
   "metadata": {
    "slideshow": {
     "slide_type": "slide"
    }
   },
   "source": [
    "#### Лемма 3\n",
    "\n",
    "При вставке точки будут флипаться только рёбра, противолежащие вставленной точке.\n",
    "<br>$\\triangleright$<br><div style=\"padding-left:40px\">\n",
    "Доказательство по индукции.\n",
    "\n",
    "База. По **лемме 2** изначально не будут флипаться новые рёбра, инцидентные точке, то есть плохими могут оказаться только рёбра, противолежащие точке.\n",
    "\n",
    "Переход. Рассмотрим, что произойдёт с противолежащим точке $V$ ребром $AC$ после флипа, если оно плохое. До вставки точки $V$ для триангуляции выполнялся глобальный критерий Делоне, поэтому в окружности, описанной вокруг треугольника $ACD$, не будет лежать никаких точек, кроме точки $V$. Можно построить окружность, касающуюся её изнутри в точке $D$ и проходящую через точку $V$. В ней тоже не окажется никаких точек, так как она касается изнутри. Значит, для ребра $VD$ выполняется критерий Делоне. Значит, после флипа ребро $AC$ уже не будет флипаться. Так как для рёбер $AV$ и $CV$ выполняется критерий Делоне, то плохими после флипа могут стать только рёбра $AD$ и $CD$ — то есть рёбра, противолежащие точке $V$.\n",
    "</div>$\\triangleleft$\n",
    "\n",
    "| [![Lemma3](Pictures/lemma3.png)](lemma3)|\n",
    "|::|\n",
    "|$V$ — вставленная точка, ребро $AC$ — плохое|\n"
   ]
  },
  {
   "cell_type": "markdown",
   "metadata": {},
   "source": [
    "#### Лемма 4\n",
    "\n",
    " Флип плохого ребра уменьшает разность объёмов параболоида и триангуляции, спроецированной на него.\n",
    "\n",
    "$\\triangleright$\n",
    "\n",
    "<div style=\"padding-left:27px\" >\n",
    "Рассмотрим два таких смежных треугольника, что ребро между ними является плохим. Спроецируем их на параболоид. Четыре точки, принадлежащие смежным треугольникам, при проекции на параболоид образуют тетраэдр.<br>\n",
    "Проведём через любой из двух треугольников плоскость. Вершина, противолежащая основанию тетраэдра, являющегося этим треугольником, лежит ниже этой плоскости (так как не выполняется локальный критерий Делоне), то есть тетраэдр лежит ниже тела, образующегося при проекции всей триангуляции на параболоид.\n",
    "После флипа станет выполняться локальный критерий Делоне, то есть тело станет включать в себя тетраэдр. Поэтому после флипа плохого ребра объём тела увеличится на объём этого тетраэдра.\n",
    "</div>\n",
    "\n",
    "$\\triangleleft$"
   ]
  },
  {
   "cell_type": "markdown",
   "metadata": {},
   "source": [
    "#### Лемма 5\n",
    "\n",
    " Любая триангуляция сводится к триангуляции Делоне за конечное число флипов.\n",
    "\n",
    "$\\triangleright$\n",
    "\n",
    "<div style=\"padding-left:27px\" >\n",
    "Всего триангуляций заданного множества точек конечное число, и среди них есть триангуляция Делоне. Последовательность флипов плохих рёбер триангуляции образует такую последовательность триангуляций, что разность объёмов параболоида и спроецированной на него триангуляции убывает (по **лемме 4**). Эта последовательность конечна (при этом последней в последовательности является триангуляция Делоне), значит, число флипов, требуемых для достижения триангуляции Делоне, тоже конечно.\n",
    "</div>\n",
    "\n",
    "$\\triangleleft$"
   ]
  },
  {
   "cell_type": "markdown",
   "metadata": {},
   "source": [
    "**Замечание 1** <br> \n",
    "Если вставляемая точка попадает на ребро, на шаге 2 получится треугольник с углом в $180^{\\circ}$, в котором это ребро является противолежащим вставляемой точке. Тогда оно попадет в очередь и в некоторый момент произойдет флип этого ребра, так как оно стало плохим для новой триангуляции.\n"
   ]
  },
  {
   "cell_type": "markdown",
   "metadata": {
    "slideshow": {
     "slide_type": "skip"
    }
   },
   "source": [
    "**Замечание 2** <br>\n",
    "Вставка точки, не лежащей внутри выпуклой оболочки имеющихся точек, сводится к обычной вставке точки, благодаря предположению о существовании бесконечно удаленной по оси $z$ точки, имеющей координаты $(0,0,1,0)$ (последняя координата — однородная).\n"
   ]
  },
  {
   "cell_type": "markdown",
   "metadata": {
    "slideshow": {
     "slide_type": "slide"
    }
   },
   "source": [
    "## Алгоритм удаления <a id=\"remove\"></a>"
   ]
  },
  {
   "cell_type": "markdown",
   "metadata": {
    "slideshow": {
     "slide_type": "fragment"
    }
   },
   "source": [
    "### Краткий план алгоритма\n",
    "1. 1а. Если у точки три или менее инцидентных ребра, перейдем к шагу 2. <br> \n",
    "   1б. Иначе будем флипать рёбра инцидентные удаляемой точке в некотором порядке, пока не останется ровно три ребра.\n",
    "2. Удалим точку и инцидентные ей рёбра."
   ]
  },
  {
   "cell_type": "markdown",
   "metadata": {
    "slideshow": {
     "slide_type": "slide"
    }
   },
   "source": [
    "### Порядок флипов\n",
    "Пусть $p$ — удаляемая точка, $\\{q_0, q_1, \\ldots, q_n = q_0\\}$ — смежные с $p$ точки в порядке обхода против часовой стрелки. Пусть точки $p$ и $q_i$ задают очередное ребро. Заметим, что точки $p$, $q_{i-1}$, $q_i$, $q_{i+1}$, поднятые на параболоид, образуют тетраэдр. Будем флипать рёбра в порядке увеличения высоты соответствующих тетраэдров. В данном алгоритме будем использовать высоту со знаком, где высота принимает отрицательное значение, если точка $p$ находится под плоскостью $q_{i-1}q_iq_{i+1}$ и положительное иначе."
   ]
  },
  {
   "cell_type": "markdown",
   "metadata": {},
   "source": [
    "### Лемма\n",
    "Рассмотрим многоугольник $H = \\{q_0, q_1, \\ldots , q_{k−1}, q_k = q_0\\}$ и точку $p$, такие что ребра $q_iq_{i+1}$ принадлежат триангуляции Делоне точек $\\{q_0, q_1, \\ldots , q_{k−1}, p\\}$. Тогда если абсолютное значение высоты тетраэдра $p \\, q_i \\, q_{i+1} \\, q_{i+2}$ из точки $p$ максимально, то ребро $q_iq_{i+2}$ принадлежит триангуляции Делоне для точек $\\{q_0, q_1, \\ldots , q_{k−1}\\}$."
   ]
  },
  {
   "cell_type": "markdown",
   "metadata": {
    "slideshow": {
     "slide_type": "slide"
    }
   },
   "source": [
    "### Подробности реализации\n",
    "Так как после флипа ребра $pq_i$ у точек $q_{i-1}$ и $q_{i+1}$ меняется один сосед в обходе (они становятся соседними друг с другом вместо $q_i$), будем поддерживать приоритетную очередь, где значения — рёбра из точки $p$, а ключи — высоты соответствующих тетраэдров, и после флипа обновлять значения.\n",
    "\n",
    "Высоту будем вычислять по формуле: <br>\n",
    "$h(p,q_{i-1},q_i,q_{i+1}) = \\frac{\n",
    "\\begin{vmatrix}\n",
    "q_{i-1(x)}                    & q_{i(x)}                    & q_{i+1(x)}                    & p_{(x)}                 & \\\\ \n",
    "q_{i-1(y)}                    & q_{i(y)}                    & q_{i+1(y)}                    & p_{(y)}                 & \\\\ \n",
    "q_{i-1(x)}^2 + q_{i-1(y)} ^ 2 & q_{i(x)}^2 + q_{i(y)} ^ 2   & q_{i+1(x)}^2 + q_{i+1(y)} ^ 2 & p_{(x)}^2 + p_{(y)} ^ 2 & \\\\ \n",
    "1                             & 1                           & 1                             & 1                       &\n",
    "\\end{vmatrix} } {\n",
    "\\begin{vmatrix}\n",
    "q_{i-1(x)}                    & q_{i(x)}                    & q_{i+1(x)} & \\\\ \n",
    "q_{i-1(y)}                    & q_{i(y)}                    & q_{i+1(y)} & \\\\ \n",
    "1                             & 1                           & 1          &\n",
    "\\end{vmatrix}\n",
    "}$\n"
   ]
  },
  {
   "cell_type": "markdown",
   "metadata": {
    "slideshow": {
     "slide_type": "slide"
    }
   },
   "source": [
    "#### Пример <br>\n",
    "| <img src=\"Pictures/del1.png \" width=\"300px\">  | <img src=\"Pictures/del2.png \" width=\"300px\"> | <img src=\"Pictures/del3.png \" width=\"300px\"> |\n",
    "|:---:|:---:|:---:|\n",
    "| Триангуляция до выполниения удаления |После всех флипов (синим обозначены новые рёбра)|Триангуляция после удаления точки |"
   ]
  },
  {
   "cell_type": "markdown",
   "metadata": {
    "slideshow": {
     "slide_type": "slide"
    }
   },
   "source": [
    "## Время работы <a id=\"time\"></a>"
   ]
  },
  {
   "cell_type": "markdown",
   "metadata": {
    "slideshow": {
     "slide_type": "slide"
    }
   },
   "source": [
    "### Вставка"
   ]
  },
  {
   "cell_type": "markdown",
   "metadata": {
    "slideshow": {
     "slide_type": "fragment"
    }
   },
   "source": [
    "#### Лемма 6\n",
    "Средняя степень вершины после вставки её в триангуляцию Делоне равна $O(1)$.\n",
    "<br>$\\triangleright$<br><div style=\"padding-left:40px\">\n",
    "Так как триангуляция представляет собой планарный граф, применима формула Эйлера и следствие из него: для связного планарного графа с $V$ вершинами и $E$ ребрами выполнено неравенство $E \\le 3V - 6$. Тогда среднюю степень вершины можно оценить как $d_{average}= \\frac{2E}V \\le 2 \\cdot \\frac{3V - 6} V = O(1)$\n",
    "<br></div>$\\triangleleft$"
   ]
  },
  {
   "cell_type": "markdown",
   "metadata": {
    "slideshow": {
     "slide_type": "fragment"
    }
   },
   "source": [
    "**Теорема** <br>\n",
    "При вставке точки в триангуляцию Делоне в среднем придётся сделать $O(1)$ флипов.\n",
    "<br>$\\triangleright$<br><div style=\"padding-left:40px\">\n",
    "Все флипнутые рёбра окажутся инцидентными вставленной точке (**по лемме 3**), а степень вершины — $O(1)$ (**по лемме 6**). Поэтому будет сделано $O(1)$ флипов.\n",
    "<br></div>$\\triangleleft$\n"
   ]
  },
  {
   "cell_type": "markdown",
   "metadata": {
    "slideshow": {
     "slide_type": "slide"
    }
   },
   "source": [
    "**Замечание 1** <br>\n",
    "Существует такой порядок добавления точек, что построение триангуляции с $n$ точками будет работать за $O(n^2)$. Поэтому важно добавлять точки в случайном порядке, тогда будет выполняться средняя оценка на время — $O(n)$."
   ]
  },
  {
   "cell_type": "markdown",
   "metadata": {
    "slideshow": {
     "slide_type": "fragment"
    }
   },
   "source": [
    "**Замечание 2**<br>\n",
    "Так как среднее число флипов — $O(1)$, то время вставки целиком зависит от времени локализации."
   ]
  },
  {
   "cell_type": "markdown",
   "metadata": {
    "slideshow": {
     "slide_type": "slide"
    }
   },
   "source": [
    "### Удаление\n",
    "\n",
    "Средняя степень вершины в триангуляции — $O(1)$, так как при удалении обрабатываются только инцидентные вершине ребра, то среднее число флипов будет также $O(1)$."
   ]
  }
 ],
 "metadata": {
  "anaconda-cloud": {},
  "celltoolbar": "Slideshow",
  "kernelspec": {
   "display_name": "Python 3",
   "language": "python",
   "name": "python3"
  },
  "language_info": {
   "codemirror_mode": {
    "name": "ipython",
    "version": 3
   },
   "file_extension": ".py",
   "mimetype": "text/x-python",
   "name": "python",
   "nbconvert_exporter": "python",
   "pygments_lexer": "ipython3",
   "version": "3.6.4"
  }
 },
 "nbformat": 4,
 "nbformat_minor": 1
}
